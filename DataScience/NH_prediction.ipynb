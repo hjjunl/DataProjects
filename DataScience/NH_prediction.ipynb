{
  "nbformat": 4,
  "nbformat_minor": 0,
  "metadata": {
    "colab": {
      "name": "NH_model.ipynb",
      "provenance": [],
      "collapsed_sections": []
    },
    "kernelspec": {
      "display_name": "Python 3",
      "name": "python3"
    },
    "language_info": {
      "name": "python"
    }
  },
  "cells": [
    {
      "cell_type": "markdown",
      "metadata": {
        "id": "cDojaUTmsKvL"
      },
      "source": [
        "### <목표>\n",
        "1. 고객이 보유한 주식별 보유기간 예측\n",
        "2. AI/Big data를 이용한 서비스 아이디어 제안\n",
        "\n",
        "### Work path\n",
        "1.\t좋은 피쳐를 찾기 위해 피쳐 엔지니어링 adjusted r2 score, aic bic score 사용 (train data set에서 먼저 확인)\n",
        "2.\t사용할 feature를 고른다 (외부 데이터)\n",
        "3.\t. logistic, gradient boosting, random forest, decision tree, cat boost, Neraul Networkt 중 택\n",
        "4.\tcross validation으로 hyperparameter tuning\n",
        "\n"
      ]
    },
    {
      "cell_type": "code",
      "metadata": {
        "id": "QqUfdpC8qBHD"
      },
      "source": [
        "import pandas as pd\n",
        "pd.set_option(\"display.max_row\", 100)\n",
        "pd.set_option(\"display.max_column\", 100)\n",
        "import numpy as np\n",
        "import os\n",
        "import matplotlib.pyplot as plt\n",
        "import seaborn as sns\n",
        "\n",
        "from sklearn.preprocessing import LabelEncoder\n",
        "from sklearn.metrics import mean_squared_error as mse\n",
        "from sklearn.model_selection import train_test_split, StratifiedKFold, KFold\n",
        "from lightgbm import LGBMRegressor"
      ],
      "execution_count": null,
      "outputs": []
    },
    {
      "cell_type": "markdown",
      "metadata": {
        "id": "d1rYOdkTttOf"
      },
      "source": [
        "### <외부데이터 설명>\n",
        "### finance_data.xlsx: KOSIS 국가 통계 포털을 통해 찾은 데이터로 feature 5개를 추가\n",
        "https://kosis.kr/statHtml/statHtml.do?orgId=343&tblId=DT_343_2010_S0052\n",
        "\n",
        "http://global.krx.co.kr/contents/GLB/05/0501/0501100100/GLB0501100100.jsp\n",
        "\n",
        "http://global.krx.co.kr/main/main.jsp\n",
        "\n",
        "https://kosis.kr/statHtml/statHtml.do?orgId=101&tblId=DT_1J17001&conn_path=l2\n",
        "#### 1. 월별 업종별 PER: per_cd \n",
        "##### - PER이 낮을 수록 시가총액 대비 기업이 수익을 잘낸다.\n",
        "#### 2. 월별 업종별 PBR: pbr_cd\n",
        "##### - PBR이 낮을 수록 기업의 재무 건전성이 좋다 (튼튼한 기업)\n",
        "#### 3. 업종별 배당 수익률%: div_yeild_cd\n",
        "##### - 업종별 배당률에 따라 배당금을 받기 위해 주식보유를 오래 할 수있다고 가정\n",
        "#### 4. 한국 거래소 지수: KRX 100\n",
        "##### - 시가총액과 거래대금, 자기자본이익율, 부채비율, 유보율 등을 선정기준으로 삼아 선정된 종목으로 이루어진 지수 (코스피, 코스닥 대체)\n",
        "#### 5. 소비자물가지수: cpi_cd\n",
        "##### - 소비자 물가지수 변동에 따라 주식 같은 위험 자산이냐 안전 자산인 은행인가. 즉, 금리에 변동을 끼칠수 있다.\n",
        "\n",
        "\n"
      ]
    },
    {
      "cell_type": "code",
      "metadata": {
        "id": "QtRlx9vSOpu3"
      },
      "source": [
        "# kosis 국가 통계 포털을 통해 per, pbr, 배당수익률 데이터 추가 (업종별, 월별 추가)\n",
        "# krx100 한국 거래소 지수 (월별 추가)\n",
        "cus = pd.read_csv(\"drive/MyDrive/open/cus_info.csv\")\n",
        "iem = pd.read_csv(\"drive/MyDrive/open/iem_info.csv\")\n",
        "hist = pd.read_csv(\"drive/MyDrive/open/stk_bnc_hist.csv\")\n",
        "train = pd.read_csv(\"drive/MyDrive/open/stk_hld_train.csv\")\n",
        "test = pd.read_csv(\"drive/MyDrive/open/stk_hld_test.csv\")\n",
        "submission = pd.read_csv(\"drive/MyDrive/open/sample_submission.csv\")\n",
        "# 추가 데이터\n",
        "krx_per= pd.read_excel(\"drive/MyDrive/open/krx100.xlsx\")\n",
        "finance = pd.read_excel(\"drive/MyDrive/open/finance_data.xlsx\")\n",
        "# 데이터 전처리 한번에\n",
        "# 내부 데이터 추가 (사용자의 매수, 매도 횟수)\n",
        "grouped = hist['iem_cd'].groupby(hist['act_id'])\n",
        "grouped=pd.DataFrame(grouped.count())\n",
        "grouped.head(3)\n",
        "grouped=grouped.rename(columns={'iem_cd': 'sb_amt'})\n",
        "# grouped['sb_amt']= pd.qcut(grouped['sb_amt'], 10 , labels=[1,2,3,4,5,6,7,8,9,10])\n",
        "# grouped\n",
        "hist = pd.merge(hist, grouped, how = \"left\", on = [\"act_id\"])\n",
        "hist.reset_index(drop = True, inplace = True)\n",
        "# hist\n",
        "train[\"hist_d\"] = train[\"hold_d\"]\n",
        "train.hist_d = np.trunc(train[\"hist_d\"])\n",
        "# train과 test에 고객정보(cus_info)와 주식정보(iem_info)를 추가하겠습니다.\n",
        "\n",
        "train_data = pd.merge(train, cus, how = \"left\", on = [\"act_id\"])# 고객정보의 계좌번호로 merge\n",
        "train_data = pd.merge(train_data, iem, how = \"left\", on = [\"iem_cd\"])# 종목 정보의 iem_cd 종목코드\n",
        "\n",
        "test_data = pd.merge(test, cus, how = \"left\", on = [\"act_id\"])\n",
        "\n",
        "test_data = pd.merge(test_data, iem, how = \"left\", on = [\"iem_cd\"])\n",
        "\n",
        "# train_data에서 Y값을 추출한 후 hold_d column을 지워주겠습니다.\n",
        "train_label = train_data[\"hold_d\"]\n",
        "train_data.drop([\"hold_d\"], axis = 1, inplace = True)\n",
        "# 추가적으로 약간의 전처리를 통해 train data와 test data를 구성하겠습니다.\n",
        "\n",
        "hist[\"stk_p\"] = hist[\"tot_aet_amt\"] / hist[\"bnc_qty\"] #종목 가격\n",
        "# hist = hist.fillna(0)"
      ],
      "execution_count": null,
      "outputs": []
    },
    {
      "cell_type": "code",
      "metadata": {
        "id": "oRuZla0iVDZE"
      },
      "source": [
        "test_data['bse_dt']=test_data['byn_dt']\n",
        "test_data.drop([\"byn_dt\"], axis = 1, inplace = True)"
      ],
      "execution_count": null,
      "outputs": []
    },
    {
      "cell_type": "code",
      "metadata": {
        "id": "IXuDsLcaRL39"
      },
      "source": [
        "test_data = pd.merge(test_data, hist, how = \"left\", on = [\"act_id\", \"iem_cd\",\"bse_dt\"])\n",
        "test_data.reset_index(drop = True, inplace = True)\n"
      ],
      "execution_count": null,
      "outputs": []
    },
    {
      "cell_type": "code",
      "metadata": {
        "id": "5HJb588IQo2t"
      },
      "source": [
        "train_data = pd.merge(train_data, hist, how = \"left\", on = [\"act_id\", \"iem_cd\"])\n",
        "train_data.reset_index(drop = True, inplace = True)\n",
        "\n",
        "# test_data = pd.merge(test_data, hist, how = \"left\", on = [\"act_id\", \"iem_cd\"])\n",
        "# test_data.reset_index(drop = True, inplace = True)\n",
        "\n",
        "train_data = train_data[(train_data[\"byn_dt\"] == train_data[\"bse_dt\"])]\n",
        "# test_data = test_data[(test_data[\"byn_dt\"] == test_data[\"bse_dt\"])]\n",
        "\n",
        "train_data = train_data.drop([\"act_id\", \"iem_cd\", \"byn_dt\"], axis = 1)\n",
        "test_data = test_data.drop([\"act_id\", \"iem_cd\",   \"hold_d\",\"submit_id\"], axis = 1) #submit_id유지\n",
        "#######finace data 추가\n",
        "\n",
        "L_encoder = LabelEncoder()\n",
        "test_data.reset_index(drop = True, inplace = True)\n",
        "\n",
        "L_encoder.fit(iem[\"iem_krl_nm\"])\n",
        "train_data[\"iem_krl_nm\"] = L_encoder.transform(train_data[\"iem_krl_nm\"])\n",
        "test_data[\"iem_krl_nm\"] = L_encoder.transform(test_data[\"iem_krl_nm\"])\n",
        "# test_data, train_data 모양 유지\n",
        "combine =[train_data,test_data]"
      ],
      "execution_count": null,
      "outputs": []
    },
    {
      "cell_type": "code",
      "metadata": {
        "id": "iuBJ4pyb6fY6"
      },
      "source": [
        "# 월별 데이터로 추가 데이터 연결\n",
        "train_data['bse_dt']=train_data['bse_dt']//100\n",
        "test_data['bse_dt']=test_data['bse_dt']//100\n",
        "\n",
        "# mrex_btp_dit_cd의 14 15 16은 각항목의 평균 per pbr 배당수익률 입력 (양이 적음)\n",
        "#krx100 데이터 추가\n",
        "krx_per['bse_dt']=krx_per[\"Date\"]\n",
        "krx_per.drop([\"Date\"], axis = 1, inplace = True)\n",
        "krx_per=krx_per.rename(columns={'KRX 100': 'krx_per'})\n",
        "\n",
        "krx_per.reset_index(drop = True, inplace = True)\n",
        "\n",
        "train_data = pd.merge(train_data, krx_per, how = \"left\", on = [\"bse_dt\"])\n",
        "test_data = pd.merge(test_data, krx_per, how = \"left\", on = [\"bse_dt\"])\n",
        "\n",
        "# per, pbr, 주식 배당수익률 추가\n",
        "train_data= pd.merge(train_data, finance, how = 'left', on =[\"mrz_btp_dit_cd\",\"bse_dt\"])\n",
        "test_data= pd.merge(test_data, finance, how = 'left', on =[\"mrz_btp_dit_cd\",\"bse_dt\"])\n",
        "\n",
        "# 그래프를 통해 무의미한 데이터 제거 (주거래 상품군)\n",
        "train_data.drop([\"mrz_pdt_tp_sgm_cd\",\"btp_cfc_cd\",\"bnc_qty\", 'stk_par_pr'], axis = 1, inplace = True)\n",
        "train_data.reset_index(drop = True, inplace = True)\n",
        "test_data.drop([\"mrz_pdt_tp_sgm_cd\",\"btp_cfc_cd\",\"bnc_qty\", 'stk_par_pr'], axis = 1, inplace = True)\n",
        "# bse_dt\n",
        "test_data.reset_index(drop = True, inplace = True)"
      ],
      "execution_count": null,
      "outputs": []
    },
    {
      "cell_type": "code",
      "metadata": {
        "id": "6QRvD-Pjj0x0"
      },
      "source": [
        "#날짜 데이터 월별로 분류\n",
        "train_list=list(train_data['bse_dt'].drop_duplicates())\n",
        "train_list.sort()\n",
        "len(train_list)\n",
        "matching=[x for x in range(1,61)]"
      ],
      "execution_count": null,
      "outputs": []
    },
    {
      "cell_type": "code",
      "metadata": {
        "colab": {
          "base_uri": "https://localhost:8080/"
        },
        "id": "mrAmU4EhSbjx",
        "outputId": "5e96c46a-3d57-4713-9732-7b58a254c33b"
      },
      "source": [
        "#날짜에 따라 다를 수 있으므로 분류\n",
        "for i in range(len(train_data['bse_dt'])):\n",
        "  for k in range(60):\n",
        "    if train_data['bse_dt'][i]==train_list[k]:\n",
        "      train_data['bse_dt'][i]=matching[k]\n",
        "train_data['bse_dt']"
      ],
      "execution_count": null,
      "outputs": [
        {
          "output_type": "stream",
          "name": "stderr",
          "text": [
            "/usr/local/lib/python3.7/dist-packages/ipykernel_launcher.py:5: SettingWithCopyWarning: \n",
            "A value is trying to be set on a copy of a slice from a DataFrame\n",
            "\n",
            "See the caveats in the documentation: https://pandas.pydata.org/pandas-docs/stable/user_guide/indexing.html#returning-a-view-versus-a-copy\n",
            "  \"\"\"\n"
          ]
        },
        {
          "output_type": "execute_result",
          "data": {
            "text/plain": [
              "0         31.0\n",
              "1         25.0\n",
              "2         29.0\n",
              "3         59.0\n",
              "4         33.0\n",
              "          ... \n",
              "281071    57.0\n",
              "281072    24.0\n",
              "281073    56.0\n",
              "281074    53.0\n",
              "281075     1.0\n",
              "Name: bse_dt, Length: 281076, dtype: float64"
            ]
          },
          "metadata": {},
          "execution_count": 8
        }
      ]
    },
    {
      "cell_type": "code",
      "metadata": {
        "id": "idjX05pXaF1e",
        "colab": {
          "base_uri": "https://localhost:8080/",
          "height": 1000
        },
        "outputId": "33e14ed3-c73f-400b-f0c6-2da39f9454ae"
      },
      "source": [
        "# 우선 그래프로 확인\n",
        "categorical_feature= list(set(train_data.columns)-set(['cpi_cd','krx_per','sb_amt', 'bnc_qty','btp_cfc_cd','iem_krl_nm','stk_p','stk_par_pr','stk_dit_cd','tot_aet_amt', 'hist_d','div_yeild_cd', 'pbr_cd', 'per_cd','bse_dt', 'KRX 100']))\n",
        "for col in categorical_feature: \n",
        "  train_data[col].value_counts().sort_index().plot(kind='bar', sort_columns=False) \n",
        "  plt.title(col) \n",
        "  plt.show()\n",
        "  "
      ],
      "execution_count": null,
      "outputs": [
        {
          "output_type": "display_data",
          "data": {
            "image/png": "[encoded data removed]",
            "text/plain": [
              "<Figure size 432x288 with 1 Axes>"
            ]
          },
          "metadata": {
            "needs_background": "light"
          }
        },
        {
          "output_type": "display_data",
          "data": {
            "image/png": "[encoded data removed]",
            "text/plain": [
              "<Figure size 432x288 with 1 Axes>"
            ]
          },
          "metadata": {
            "needs_background": "light"
          }
        },
        {
          "output_type": "display_data",
          "data": {
            "image/png": "[encoded data removed]",
            "text/plain": [
              "<Figure size 432x288 with 1 Axes>"
            ]
          },
          "metadata": {
            "needs_background": "light"
          }
        },
        {
          "output_type": "display_data",
          "data": {
            "image/png": "[encoded data removed]",
            "text/plain": [
              "<Figure size 432x288 with 1 Axes>"
            ]
          },
          "metadata": {
            "needs_background": "light"
          }
        },
        {
          "output_type": "display_data",
          "data": {
            "image/png": "[encoded data removed]",
            "text/plain": [
              "<Figure size 432x288 with 1 Axes>"
            ]
          },
          "metadata": {
            "needs_background": "light"
          }
        },
        {
          "output_type": "display_data",
          "data": {
            "image/png": "[encoded data removed]",
            "text/plain": [
              "<Figure size 432x288 with 1 Axes>"
            ]
          },
          "metadata": {
            "needs_background": "light"
          }
        },
        {
          "output_type": "display_data",
          "data": {
            "image/png": "[encoded data removed]",
            "text/plain": [
              "<Figure size 432x288 with 1 Axes>"
            ]
          },
          "metadata": {
            "needs_background": "light"
          }
        },
        {
          "output_type": "display_data",
          "data": {
            "image/png": "[encoded data removed]",
            "text/plain": [
              "<Figure size 432x288 with 1 Axes>"
            ]
          },
          "metadata": {
            "needs_background": "light"
          }
        },
        {
          "output_type": "display_data",
          "data": {
            "image/png": "[encoded data removed]",
            "text/plain": [
              "<Figure size 432x288 with 1 Axes>"
            ]
          },
          "metadata": {
            "needs_background": "light"
          }
        },
        {
          "output_type": "display_data",
          "data": {
            "image/png": "[encoded data removed]",
            "text/plain": [
              "<Figure size 432x288 with 1 Axes>"
            ]
          },
          "metadata": {
            "needs_background": "light"
          }
        }
      ]
    },
    {
      "cell_type": "code",
      "metadata": {
        "id": "zKpya0N5Rdfz",
        "colab": {
          "base_uri": "https://localhost:8080/"
        },
        "outputId": "5e8ec27e-4b12-4b6b-8f2e-77fa7fa1a2a6"
      },
      "source": [
        "# 자산구간에 따른 평균 주식 보유일/ 자산이 많을 수록 기간이 상대적으로 길다\n",
        "print(train_data[['cus_aet_stn_cd', 'hist_d']].groupby(['cus_aet_stn_cd'], as_index=False).mean().sort_values(by='hist_d', ascending=False))\n",
        "# 시가총액: 대형주의 경우 좀더 길어보임\n",
        "print(train_data[['mkt_pr_tal_scl_tp_cd', 'hist_d']].groupby(['mkt_pr_tal_scl_tp_cd'], as_index=False).mean().sort_values(by='mkt_pr_tal_scl_tp_cd', ascending=True))\n",
        "# 총투자기간 대비 주식 보유기간/대체로 증가한다.\n",
        "print(train_data[['tot_ivs_te_sgm_cd', 'hist_d']].groupby(['tot_ivs_te_sgm_cd'], as_index=False).mean().sort_values(by='tot_ivs_te_sgm_cd', ascending=True))\n",
        "# 주거래 d업종 / 큰 차이가 있다!!! 철강, 제조\n",
        "print(train_data[['mrz_btp_dit_cd', 'hist_d']].groupby(['mrz_btp_dit_cd'], as_index=False).mean().sort_values(by='mrz_btp_dit_cd', ascending=True))\n",
        "#life stage\n",
        "print(train_data[['lsg_sgm_cd', 'hist_d']].groupby(['lsg_sgm_cd'], as_index=False).mean().sort_values(by='lsg_sgm_cd', ascending=True))\n",
        "# 금리가 높을 수록 더 오래 가지고 있다.\n",
        "print(train_data[['interest_rate', 'hist_d']].groupby(['interest_rate'], as_index=False).mean().sort_values(by='interest_rate', ascending=True))\n"
      ],
      "execution_count": null,
      "outputs": [
        {
          "output_type": "stream",
          "name": "stdout",
          "text": [
            "   cus_aet_stn_cd     hist_d\n",
            "4               5  28.645790\n",
            "5               6  28.171641\n",
            "3               4  20.799134\n",
            "1               2  18.641326\n",
            "2               3  18.356895\n",
            "0               1  16.487154\n",
            "   mkt_pr_tal_scl_tp_cd     hist_d\n",
            "0                     1  22.563102\n",
            "1                     2  18.589118\n",
            "2                     3  19.477804\n",
            "3                    99  24.086198\n",
            "   tot_ivs_te_sgm_cd     hist_d\n",
            "0                  1  14.310200\n",
            "1                  2  12.965946\n",
            "2                  3  21.216132\n",
            "3                  4  23.018212\n",
            "4                  5  20.262831\n",
            "5                  6  31.490992\n",
            "    mrz_btp_dit_cd     hist_d\n",
            "0                1  21.675147\n",
            "1                2  26.575314\n",
            "2                3  10.854767\n",
            "3                4  15.520000\n",
            "4                5  20.188122\n",
            "5                6  23.829570\n",
            "6                7  20.460738\n",
            "7                8  21.796417\n",
            "8                9  23.226718\n",
            "9               10  14.356865\n",
            "10              11  22.136386\n",
            "11              12  22.250879\n",
            "12              13  21.548677\n",
            "13              14  27.906247\n",
            "14              15  18.930752\n",
            "15              16  43.912204\n",
            "   lsg_sgm_cd     hist_d\n",
            "0           2  17.450859\n",
            "1           3  18.961514\n",
            "2           4  26.097786\n",
            "3           5  21.254735\n",
            "4           6  17.500448\n",
            "5           7  21.893858\n",
            "6           8  21.272903\n",
            "7           9  17.074207\n",
            "   interest_rate     hist_d\n",
            "0           0.50  10.777633\n",
            "1           1.25  22.779010\n",
            "2           1.50  27.508329\n",
            "3           1.75  46.626530\n"
          ]
        }
      ]
    },
    {
      "cell_type": "markdown",
      "metadata": {
        "id": "_V56epfFZ5T9"
      },
      "source": [
        "범주형 데이터를 수치형 데이터로 'hist_d'의 평균으로 기준\n",
        " "
      ]
    },
    {
      "cell_type": "code",
      "metadata": {
        "id": "nNUgY7R5_M4j"
      },
      "source": [
        "#train_data\n",
        "cus_aet_stn_cd_t=train_data.groupby('cus_aet_stn_cd').hist_d.mean().sort_values().reset_index(name = 'asset_n').sort_values(by = 'asset_n')\n",
        "cus_age_stn_cd_t=train_data.groupby('cus_age_stn_cd').hist_d.mean().sort_values().reset_index(name = 'age_n').sort_values(by = 'age_n')\n",
        "lsg_sgm_cd_t=train_data.groupby('lsg_sgm_cd').hist_d.mean().sort_values().reset_index(name = 'life_n').sort_values(by = 'life_n')\n",
        "mrz_btp_dit_cd_t=train_data.groupby('mrz_btp_dit_cd').hist_d.mean().sort_values().reset_index(name = 'sector_n').sort_values(by = 'sector_n')\n",
        "tot_ivs_te_sgm_cd_t=train_data.groupby('tot_ivs_te_sgm_cd').hist_d.mean().sort_values().reset_index(name = 'investing_time_n').sort_values(by = 'investing_time_n')\n",
        "mkt_pr_tal_scl_tp_cd_t=train_data.groupby('mkt_pr_tal_scl_tp_cd').hist_d.mean().sort_values().reset_index(name = 'mrkcap_n').sort_values(by = 'mrkcap_n')\n",
        "ivs_icn_cd_t=train_data.groupby('ivs_icn_cd').hist_d.mean().sort_values().reset_index(name = 'ivst_style_n').sort_values(by = 'ivst_style_n')\n",
        "stk_dit_cd_t=train_data.groupby('stk_dit_cd').hist_d.mean().sort_values().reset_index(name = 'market_div_n').sort_values(by = 'market_div_n')\n",
        "tco_cus_grd_cd_t=train_data.groupby('tco_cus_grd_cd').hist_d.mean().sort_values().reset_index(name = 'service_n').sort_values(by = 'service_n')\n",
        "\n",
        "#test_data\n",
        "cus_aet_stn_cd_test=test_data.groupby('cus_aet_stn_cd').hist_d.mean().sort_values().reset_index(name = 'asset_n').sort_values(by = 'asset_n')\n",
        "cus_age_stn_cd_test=test_data.groupby('cus_age_stn_cd').hist_d.mean().sort_values().reset_index(name = 'age_n').sort_values(by = 'age_n')\n",
        "lsg_sgm_cd_test=test_data.groupby('lsg_sgm_cd').hist_d.mean().sort_values().reset_index(name = 'life_n').sort_values(by = 'life_n')\n",
        "mrz_btp_dit_cd_test=test_data.groupby('mrz_btp_dit_cd').hist_d.mean().sort_values().reset_index(name = 'sector_n').sort_values(by = 'sector_n')\n",
        "tot_ivs_te_sgm_cd_test=test_data.groupby('tot_ivs_te_sgm_cd').hist_d.mean().sort_values().reset_index(name = 'investing_time_n').sort_values(by = 'investing_time_n')\n",
        "mkt_pr_tal_scl_tp_cd_test=test_data.groupby('mkt_pr_tal_scl_tp_cd').hist_d.mean().sort_values().reset_index(name = 'mrkcap_n').sort_values(by = 'mrkcap_n')\n",
        "ivs_icn_cd_test=test_data.groupby('ivs_icn_cd').hist_d.mean().sort_values().reset_index(name = 'ivst_style_n').sort_values(by = 'ivst_style_n')\n",
        "# sex_dit_cd_t=train_data.groupby('sex_dit_cd').hist_d.mean().sort_values().reset_index(name = 'sex_n').sort_values(by = 'sex_n')\n",
        "stk_dit_cd_test=test_data.groupby('stk_dit_cd').hist_d.mean().sort_values().reset_index(name = 'market_div_n').sort_values(by = 'market_div_n')\n",
        "tco_cus_grd_cd_test=test_data.groupby('tco_cus_grd_cd').hist_d.mean().sort_values().reset_index(name = 'service_n').sort_values(by = 'service_n')\n",
        "# train_data= pd.get_dummies(columns=['sex_dit_cd'], data= train_data)"
      ],
      "execution_count": null,
      "outputs": []
    },
    {
      "cell_type": "code",
      "metadata": {
        "colab": {
          "base_uri": "https://localhost:8080/",
          "height": 438
        },
        "id": "S2_L6rCJQZnr",
        "outputId": "f7086d59-e2d2-47c7-ec33-44eb3f8e777a"
      },
      "source": [
        "cat_num=[cus_aet_stn_cd_t,\tcus_age_stn_cd_t,\tivs_icn_cd_t,\t\tlsg_sgm_cd_t,\ttco_cus_grd_cd_t,\ttot_ivs_te_sgm_cd_t,\n",
        "         mrz_btp_dit_cd_t,\tmkt_pr_tal_scl_tp_cd_t,\tstk_dit_cd_t]\n",
        "cat_num_test=[cus_aet_stn_cd_test,\tcus_age_stn_cd_test,\tivs_icn_cd_test,\t\tlsg_sgm_cd_test,\ttco_cus_grd_cd_test,\ttot_ivs_te_sgm_cd_test,\n",
        "         mrz_btp_dit_cd_test,\tmkt_pr_tal_scl_tp_cd_test,\tstk_dit_cd_test]         \n",
        "        #  , sex_dit_cd_t\n",
        "cat_num_col=['cus_aet_stn_cd',\t'cus_age_stn_cd',\t'ivs_icn_cd',\t\t'lsg_sgm_cd',\t'tco_cus_grd_cd',\t'tot_ivs_te_sgm_cd',\n",
        "         'mrz_btp_dit_cd',\t'mkt_pr_tal_scl_tp_cd',\t'stk_dit_cd']\n",
        "# ,\t'sex_dit_cd'\n",
        "m=[cat_num,cat_num_col]\n",
        "for i in range(len(cat_num)):\n",
        "  train_data= pd.merge(train_data, cat_num[i], how= 'left', on=[cat_num_col[i]] )\n",
        "  train_data.drop([cat_num_col[i]], axis = 1, inplace = True)\n",
        "\n",
        "for i in range(len(cat_num_test)):\n",
        "  test_data= pd.merge(test_data, cat_num[i], how= 'left', on=[cat_num_col[i]] )\n",
        "  test_data.drop([cat_num_col[i]], axis = 1, inplace = True)\n",
        "train_data"
      ],
      "execution_count": null,
      "outputs": [
        {
          "output_type": "execute_result",
          "data": {
            "text/html": [
              "<div>\n",
              "<style scoped>\n",
              "    .dataframe tbody tr th:only-of-type {\n",
              "        vertical-align: middle;\n",
              "    }\n",
              "\n",
              "    .dataframe tbody tr th {\n",
              "        vertical-align: top;\n",
              "    }\n",
              "\n",
              "    .dataframe thead th {\n",
              "        text-align: right;\n",
              "    }\n",
              "</style>\n",
              "<table border=\"1\" class=\"dataframe\">\n",
              "  <thead>\n",
              "    <tr style=\"text-align: right;\">\n",
              "      <th></th>\n",
              "      <th>hist_d</th>\n",
              "      <th>sex_dit_cd</th>\n",
              "      <th>iem_krl_nm</th>\n",
              "      <th>bse_dt</th>\n",
              "      <th>tot_aet_amt</th>\n",
              "      <th>sb_amt</th>\n",
              "      <th>stk_p</th>\n",
              "      <th>krx_per</th>\n",
              "      <th>per_cd</th>\n",
              "      <th>pbr_cd</th>\n",
              "      <th>div_yeild_cd</th>\n",
              "      <th>interest_rate</th>\n",
              "      <th>cpi_cd</th>\n",
              "      <th>asset_n</th>\n",
              "      <th>age_n</th>\n",
              "      <th>ivst_style_n</th>\n",
              "      <th>life_n</th>\n",
              "      <th>service_n</th>\n",
              "      <th>investing_time_n</th>\n",
              "      <th>sector_n</th>\n",
              "      <th>mrkcap_n</th>\n",
              "      <th>market_div_n</th>\n",
              "    </tr>\n",
              "  </thead>\n",
              "  <tbody>\n",
              "    <tr>\n",
              "      <th>0</th>\n",
              "      <td>11.0</td>\n",
              "      <td>1</td>\n",
              "      <td>101</td>\n",
              "      <td>31.0</td>\n",
              "      <td>11782000.0</td>\n",
              "      <td>277.0</td>\n",
              "      <td>43000.0</td>\n",
              "      <td>10.11</td>\n",
              "      <td>97.90</td>\n",
              "      <td>5.21</td>\n",
              "      <td>0.18</td>\n",
              "      <td>1.75</td>\n",
              "      <td>103.93</td>\n",
              "      <td>18.641326</td>\n",
              "      <td>17.068113</td>\n",
              "      <td>17.49833</td>\n",
              "      <td>17.074207</td>\n",
              "      <td>16.981935</td>\n",
              "      <td>20.262831</td>\n",
              "      <td>21.796417</td>\n",
              "      <td>22.563102</td>\n",
              "      <td>24.889024</td>\n",
              "    </tr>\n",
              "    <tr>\n",
              "      <th>1</th>\n",
              "      <td>80.0</td>\n",
              "      <td>1</td>\n",
              "      <td>1361</td>\n",
              "      <td>25.0</td>\n",
              "      <td>4990000.0</td>\n",
              "      <td>277.0</td>\n",
              "      <td>2495000.0</td>\n",
              "      <td>12.15</td>\n",
              "      <td>258.22</td>\n",
              "      <td>4.41</td>\n",
              "      <td>0.21</td>\n",
              "      <td>1.75</td>\n",
              "      <td>103.42</td>\n",
              "      <td>18.641326</td>\n",
              "      <td>17.068113</td>\n",
              "      <td>17.49833</td>\n",
              "      <td>17.074207</td>\n",
              "      <td>16.981935</td>\n",
              "      <td>20.262831</td>\n",
              "      <td>21.796417</td>\n",
              "      <td>22.563102</td>\n",
              "      <td>24.889024</td>\n",
              "    </tr>\n",
              "    <tr>\n",
              "      <th>2</th>\n",
              "      <td>5.0</td>\n",
              "      <td>1</td>\n",
              "      <td>2530</td>\n",
              "      <td>29.0</td>\n",
              "      <td>14619600.0</td>\n",
              "      <td>277.0</td>\n",
              "      <td>18600.0</td>\n",
              "      <td>10.56</td>\n",
              "      <td>109.36</td>\n",
              "      <td>5.60</td>\n",
              "      <td>0.16</td>\n",
              "      <td>1.75</td>\n",
              "      <td>104.34</td>\n",
              "      <td>18.641326</td>\n",
              "      <td>17.068113</td>\n",
              "      <td>17.49833</td>\n",
              "      <td>17.074207</td>\n",
              "      <td>16.981935</td>\n",
              "      <td>20.262831</td>\n",
              "      <td>21.796417</td>\n",
              "      <td>18.589118</td>\n",
              "      <td>19.194397</td>\n",
              "    </tr>\n",
              "    <tr>\n",
              "      <th>3</th>\n",
              "      <td>22.0</td>\n",
              "      <td>1</td>\n",
              "      <td>1968</td>\n",
              "      <td>59.0</td>\n",
              "      <td>462000.0</td>\n",
              "      <td>277.0</td>\n",
              "      <td>7700.0</td>\n",
              "      <td>27.61</td>\n",
              "      <td>105.64</td>\n",
              "      <td>7.19</td>\n",
              "      <td>0.11</td>\n",
              "      <td>0.50</td>\n",
              "      <td>105.50</td>\n",
              "      <td>18.641326</td>\n",
              "      <td>17.068113</td>\n",
              "      <td>17.49833</td>\n",
              "      <td>17.074207</td>\n",
              "      <td>16.981935</td>\n",
              "      <td>20.262831</td>\n",
              "      <td>21.796417</td>\n",
              "      <td>18.589118</td>\n",
              "      <td>24.889024</td>\n",
              "    </tr>\n",
              "    <tr>\n",
              "      <th>4</th>\n",
              "      <td>324.0</td>\n",
              "      <td>1</td>\n",
              "      <td>1696</td>\n",
              "      <td>33.0</td>\n",
              "      <td>8125200.0</td>\n",
              "      <td>277.0</td>\n",
              "      <td>44400.0</td>\n",
              "      <td>9.65</td>\n",
              "      <td>121.16</td>\n",
              "      <td>6.18</td>\n",
              "      <td>0.15</td>\n",
              "      <td>1.50</td>\n",
              "      <td>105.65</td>\n",
              "      <td>18.641326</td>\n",
              "      <td>17.068113</td>\n",
              "      <td>17.49833</td>\n",
              "      <td>17.074207</td>\n",
              "      <td>16.981935</td>\n",
              "      <td>20.262831</td>\n",
              "      <td>21.796417</td>\n",
              "      <td>19.477804</td>\n",
              "      <td>19.194397</td>\n",
              "    </tr>\n",
              "    <tr>\n",
              "      <th>...</th>\n",
              "      <td>...</td>\n",
              "      <td>...</td>\n",
              "      <td>...</td>\n",
              "      <td>...</td>\n",
              "      <td>...</td>\n",
              "      <td>...</td>\n",
              "      <td>...</td>\n",
              "      <td>...</td>\n",
              "      <td>...</td>\n",
              "      <td>...</td>\n",
              "      <td>...</td>\n",
              "      <td>...</td>\n",
              "      <td>...</td>\n",
              "      <td>...</td>\n",
              "      <td>...</td>\n",
              "      <td>...</td>\n",
              "      <td>...</td>\n",
              "      <td>...</td>\n",
              "      <td>...</td>\n",
              "      <td>...</td>\n",
              "      <td>...</td>\n",
              "      <td>...</td>\n",
              "    </tr>\n",
              "    <tr>\n",
              "      <th>281071</th>\n",
              "      <td>7.0</td>\n",
              "      <td>1</td>\n",
              "      <td>1354</td>\n",
              "      <td>57.0</td>\n",
              "      <td>320500.0</td>\n",
              "      <td>1363.0</td>\n",
              "      <td>64100.0</td>\n",
              "      <td>24.82</td>\n",
              "      <td>8.04</td>\n",
              "      <td>0.42</td>\n",
              "      <td>4.21</td>\n",
              "      <td>0.50</td>\n",
              "      <td>106.20</td>\n",
              "      <td>28.645790</td>\n",
              "      <td>22.281656</td>\n",
              "      <td>23.13828</td>\n",
              "      <td>21.254735</td>\n",
              "      <td>24.752581</td>\n",
              "      <td>20.262831</td>\n",
              "      <td>26.575314</td>\n",
              "      <td>22.563102</td>\n",
              "      <td>24.889024</td>\n",
              "    </tr>\n",
              "    <tr>\n",
              "      <th>281072</th>\n",
              "      <td>17.0</td>\n",
              "      <td>1</td>\n",
              "      <td>412</td>\n",
              "      <td>24.0</td>\n",
              "      <td>89400.0</td>\n",
              "      <td>1363.0</td>\n",
              "      <td>29800.0</td>\n",
              "      <td>11.78</td>\n",
              "      <td>10.64</td>\n",
              "      <td>0.83</td>\n",
              "      <td>1.79</td>\n",
              "      <td>1.75</td>\n",
              "      <td>102.99</td>\n",
              "      <td>28.645790</td>\n",
              "      <td>22.281656</td>\n",
              "      <td>23.13828</td>\n",
              "      <td>21.254735</td>\n",
              "      <td>24.752581</td>\n",
              "      <td>20.262831</td>\n",
              "      <td>26.575314</td>\n",
              "      <td>22.563102</td>\n",
              "      <td>24.889024</td>\n",
              "    </tr>\n",
              "    <tr>\n",
              "      <th>281073</th>\n",
              "      <td>1.0</td>\n",
              "      <td>1</td>\n",
              "      <td>1351</td>\n",
              "      <td>56.0</td>\n",
              "      <td>221000.0</td>\n",
              "      <td>1363.0</td>\n",
              "      <td>110500.0</td>\n",
              "      <td>21.15</td>\n",
              "      <td>7.90</td>\n",
              "      <td>0.44</td>\n",
              "      <td>4.12</td>\n",
              "      <td>0.50</td>\n",
              "      <td>105.50</td>\n",
              "      <td>28.645790</td>\n",
              "      <td>22.281656</td>\n",
              "      <td>23.13828</td>\n",
              "      <td>21.254735</td>\n",
              "      <td>24.752581</td>\n",
              "      <td>20.262831</td>\n",
              "      <td>26.575314</td>\n",
              "      <td>22.563102</td>\n",
              "      <td>24.889024</td>\n",
              "    </tr>\n",
              "    <tr>\n",
              "      <th>281074</th>\n",
              "      <td>2.0</td>\n",
              "      <td>1</td>\n",
              "      <td>1351</td>\n",
              "      <td>53.0</td>\n",
              "      <td>99200.0</td>\n",
              "      <td>1363.0</td>\n",
              "      <td>99200.0</td>\n",
              "      <td>16.48</td>\n",
              "      <td>6.67</td>\n",
              "      <td>0.41</td>\n",
              "      <td>4.44</td>\n",
              "      <td>0.50</td>\n",
              "      <td>104.71</td>\n",
              "      <td>28.645790</td>\n",
              "      <td>22.281656</td>\n",
              "      <td>23.13828</td>\n",
              "      <td>21.254735</td>\n",
              "      <td>24.752581</td>\n",
              "      <td>20.262831</td>\n",
              "      <td>26.575314</td>\n",
              "      <td>22.563102</td>\n",
              "      <td>24.889024</td>\n",
              "    </tr>\n",
              "    <tr>\n",
              "      <th>281075</th>\n",
              "      <td>835.0</td>\n",
              "      <td>1</td>\n",
              "      <td>1351</td>\n",
              "      <td>1.0</td>\n",
              "      <td>17080000.0</td>\n",
              "      <td>1363.0</td>\n",
              "      <td>140000.0</td>\n",
              "      <td>12.28</td>\n",
              "      <td>9.31</td>\n",
              "      <td>0.64</td>\n",
              "      <td>2.32</td>\n",
              "      <td>1.50</td>\n",
              "      <td>100.39</td>\n",
              "      <td>28.645790</td>\n",
              "      <td>22.281656</td>\n",
              "      <td>23.13828</td>\n",
              "      <td>21.254735</td>\n",
              "      <td>24.752581</td>\n",
              "      <td>20.262831</td>\n",
              "      <td>26.575314</td>\n",
              "      <td>22.563102</td>\n",
              "      <td>24.889024</td>\n",
              "    </tr>\n",
              "  </tbody>\n",
              "</table>\n",
              "<p>281076 rows × 22 columns</p>\n",
              "</div>"
            ],
            "text/plain": [
              "        hist_d  sex_dit_cd  iem_krl_nm  bse_dt  tot_aet_amt  sb_amt  \\\n",
              "0         11.0           1         101    31.0   11782000.0   277.0   \n",
              "1         80.0           1        1361    25.0    4990000.0   277.0   \n",
              "2          5.0           1        2530    29.0   14619600.0   277.0   \n",
              "3         22.0           1        1968    59.0     462000.0   277.0   \n",
              "4        324.0           1        1696    33.0    8125200.0   277.0   \n",
              "...        ...         ...         ...     ...          ...     ...   \n",
              "281071     7.0           1        1354    57.0     320500.0  1363.0   \n",
              "281072    17.0           1         412    24.0      89400.0  1363.0   \n",
              "281073     1.0           1        1351    56.0     221000.0  1363.0   \n",
              "281074     2.0           1        1351    53.0      99200.0  1363.0   \n",
              "281075   835.0           1        1351     1.0   17080000.0  1363.0   \n",
              "\n",
              "            stk_p  krx_per  per_cd  pbr_cd  div_yeild_cd  interest_rate  \\\n",
              "0         43000.0    10.11   97.90    5.21          0.18           1.75   \n",
              "1       2495000.0    12.15  258.22    4.41          0.21           1.75   \n",
              "2         18600.0    10.56  109.36    5.60          0.16           1.75   \n",
              "3          7700.0    27.61  105.64    7.19          0.11           0.50   \n",
              "4         44400.0     9.65  121.16    6.18          0.15           1.50   \n",
              "...           ...      ...     ...     ...           ...            ...   \n",
              "281071    64100.0    24.82    8.04    0.42          4.21           0.50   \n",
              "281072    29800.0    11.78   10.64    0.83          1.79           1.75   \n",
              "281073   110500.0    21.15    7.90    0.44          4.12           0.50   \n",
              "281074    99200.0    16.48    6.67    0.41          4.44           0.50   \n",
              "281075   140000.0    12.28    9.31    0.64          2.32           1.50   \n",
              "\n",
              "        cpi_cd    asset_n      age_n  ivst_style_n     life_n  service_n  \\\n",
              "0       103.93  18.641326  17.068113      17.49833  17.074207  16.981935   \n",
              "1       103.42  18.641326  17.068113      17.49833  17.074207  16.981935   \n",
              "2       104.34  18.641326  17.068113      17.49833  17.074207  16.981935   \n",
              "3       105.50  18.641326  17.068113      17.49833  17.074207  16.981935   \n",
              "4       105.65  18.641326  17.068113      17.49833  17.074207  16.981935   \n",
              "...        ...        ...        ...           ...        ...        ...   \n",
              "281071  106.20  28.645790  22.281656      23.13828  21.254735  24.752581   \n",
              "281072  102.99  28.645790  22.281656      23.13828  21.254735  24.752581   \n",
              "281073  105.50  28.645790  22.281656      23.13828  21.254735  24.752581   \n",
              "281074  104.71  28.645790  22.281656      23.13828  21.254735  24.752581   \n",
              "281075  100.39  28.645790  22.281656      23.13828  21.254735  24.752581   \n",
              "\n",
              "        investing_time_n   sector_n   mrkcap_n  market_div_n  \n",
              "0              20.262831  21.796417  22.563102     24.889024  \n",
              "1              20.262831  21.796417  22.563102     24.889024  \n",
              "2              20.262831  21.796417  18.589118     19.194397  \n",
              "3              20.262831  21.796417  18.589118     24.889024  \n",
              "4              20.262831  21.796417  19.477804     19.194397  \n",
              "...                  ...        ...        ...           ...  \n",
              "281071         20.262831  26.575314  22.563102     24.889024  \n",
              "281072         20.262831  26.575314  22.563102     24.889024  \n",
              "281073         20.262831  26.575314  22.563102     24.889024  \n",
              "281074         20.262831  26.575314  22.563102     24.889024  \n",
              "281075         20.262831  26.575314  22.563102     24.889024  \n",
              "\n",
              "[281076 rows x 22 columns]"
            ]
          },
          "metadata": {},
          "execution_count": 16
        }
      ]
    },
    {
      "cell_type": "code",
      "metadata": {
        "colab": {
          "base_uri": "https://localhost:8080/"
        },
        "id": "OPUgTU8BFstf",
        "outputId": "b8227145-957a-4eba-fd05-275107435484"
      },
      "source": [
        "print(\"Find most important features relative to target\")\n",
        "corr = train_data.corr()\n",
        "corr.sort_values([\"hist_d\"], ascending = False, inplace = True)\n",
        "print(corr.hist_d)"
      ],
      "execution_count": null,
      "outputs": [
        {
          "output_type": "stream",
          "name": "stdout",
          "text": [
            "Find most important features relative to target\n",
            "hist_d              1.000000\n",
            "ivst_style_n        0.159424\n",
            "interest_rate       0.136517\n",
            "tot_aet_amt         0.112077\n",
            "service_n           0.081262\n",
            "asset_n             0.077369\n",
            "mrkcap_n            0.067319\n",
            "life_n              0.065956\n",
            "sb_amt              0.061608\n",
            "stk_p               0.055538\n",
            "cpi_cd              0.040567\n",
            "age_n               0.039808\n",
            "sex_dit_cd          0.033757\n",
            "pbr_cd              0.003755\n",
            "div_yeild_cd       -0.020485\n",
            "iem_krl_nm         -0.021219\n",
            "sector_n           -0.033271\n",
            "per_cd             -0.071308\n",
            "investing_time_n   -0.082693\n",
            "bse_dt             -0.125793\n",
            "krx_per            -0.136364\n",
            "market_div_n       -0.162641\n",
            "Name: hist_d, dtype: float64\n"
          ]
        }
      ]
    },
    {
      "cell_type": "code",
      "metadata": {
        "colab": {
          "base_uri": "https://localhost:8080/"
        },
        "id": "-J_hktbHiS8F",
        "outputId": "c2038236-71ea-4676-b262-93f09a1e1a6a"
      },
      "source": [
        "# 수치를 비슷하게 맞춰주기 위해 실행 (한번만 실행)\n",
        "# train_data['div_yeild_cd']=train_data['div_yeild_cd']*100\n",
        "# train_data['interest_rate']=train_data['interest_rate']*10\n",
        "# train_data['pbr_cd']=train_data['pbr_cd']*10\n",
        "# train_data['sb_amt']=train_data['sb_amt']/100\n",
        "# train_data['cpi_cd']=train_data['cpi_cd']/10\n",
        "# ,'sex_n'\n",
        "train_data1=train_data\n",
        "train_data[['bse_dt','hist_d','pbr_cd','per_cd','krx_per','div_yeild_cd', 'interest_rate','tot_aet_amt','stk_p', 'sb_amt','cpi_cd','asset_n','age_n','ivst_style_n','life_n','service_n','investing_time_n','sector_n','mrkcap_n','market_div_n']]\\\n",
        "=np.log1p(train_data[['bse_dt','hist_d','pbr_cd','per_cd','krx_per','div_yeild_cd', 'interest_rate','asset_n','age_n','ivst_style_n','life_n','service_n','investing_time_n','sector_n','mrkcap_n','market_div_n','cpi_cd','tot_aet_amt','stk_p', 'sb_amt']])\n",
        "\n",
        "\n",
        "# test_data\n",
        "# test_data['div_yeild_cd']=test_data['div_yeild_cd']*10\n",
        "# test_data['interest_rate']=test_data['interest_rate']*10\n",
        "# test_data['pbr_cd']=test_data['pbr_cd']*10\n",
        "# test_data['sb_amt']=test_data['sb_amt']/100\n",
        "# test_data['cpi_cd']=test_data['cpi_cd']/10\n",
        "# ,'sex_n'\n",
        "test_data[['bse_dt','pbr_cd','per_cd','krx_per','hist_d','div_yeild_cd', 'interest_rate','tot_aet_amt','stk_p', 'sb_amt','cpi_cd','asset_n','age_n','ivst_style_n','life_n','service_n','investing_time_n','sector_n','mrkcap_n','market_div_n']]\\\n",
        "=np.log1p(test_data[['bse_dt','pbr_cd','per_cd','krx_per','hist_d','div_yeild_cd', 'interest_rate','asset_n','age_n','ivst_style_n','life_n','service_n','investing_time_n','sector_n','mrkcap_n','market_div_n','cpi_cd','tot_aet_amt','stk_p', 'sb_amt']])\n"
      ],
      "execution_count": null,
      "outputs": [
        {
          "output_type": "stream",
          "name": "stderr",
          "text": [
            "/usr/local/lib/python3.7/dist-packages/ipykernel_launcher.py:9: RuntimeWarning: invalid value encountered in log1p\n",
            "  if __name__ == '__main__':\n"
          ]
        }
      ]
    },
    {
      "cell_type": "code",
      "metadata": {
        "colab": {
          "base_uri": "https://localhost:8080/",
          "height": 439
        },
        "id": "iUEmMhR8bMfv",
        "outputId": "8a85134a-2037-4682-dd1a-c14880f506d2"
      },
      "source": [
        "test_data"
      ],
      "execution_count": null,
      "outputs": [
        {
          "data": {
            "text/html": [
              "<div>\n",
              "<style scoped>\n",
              "    .dataframe tbody tr th:only-of-type {\n",
              "        vertical-align: middle;\n",
              "    }\n",
              "\n",
              "    .dataframe tbody tr th {\n",
              "        vertical-align: top;\n",
              "    }\n",
              "\n",
              "    .dataframe thead th {\n",
              "        text-align: right;\n",
              "    }\n",
              "</style>\n",
              "<table border=\"1\" class=\"dataframe\">\n",
              "  <thead>\n",
              "    <tr style=\"text-align: right;\">\n",
              "      <th></th>\n",
              "      <th>hist_d</th>\n",
              "      <th>sex_dit_cd</th>\n",
              "      <th>iem_krl_nm</th>\n",
              "      <th>bse_dt</th>\n",
              "      <th>tot_aet_amt</th>\n",
              "      <th>sb_amt</th>\n",
              "      <th>stk_p</th>\n",
              "      <th>krx_per</th>\n",
              "      <th>per_cd</th>\n",
              "      <th>pbr_cd</th>\n",
              "      <th>div_yeild_cd</th>\n",
              "      <th>interest_rate</th>\n",
              "      <th>cpi_cd</th>\n",
              "      <th>asset_n</th>\n",
              "      <th>age_n</th>\n",
              "      <th>ivst_style_n</th>\n",
              "      <th>life_n</th>\n",
              "      <th>service_n</th>\n",
              "      <th>investing_time_n</th>\n",
              "      <th>sector_n</th>\n",
              "      <th>mrkcap_n</th>\n",
              "      <th>market_div_n</th>\n",
              "    </tr>\n",
              "  </thead>\n",
              "  <tbody>\n",
              "    <tr>\n",
              "      <th>0</th>\n",
              "      <td>5.036953</td>\n",
              "      <td>1</td>\n",
              "      <td>417</td>\n",
              "      <td>12.216053</td>\n",
              "      <td>2.977636</td>\n",
              "      <td>2.917680</td>\n",
              "      <td>2.894149</td>\n",
              "      <td>2.861057</td>\n",
              "      <td>4.636281</td>\n",
              "      <td>1.814825</td>\n",
              "      <td>0.157004</td>\n",
              "      <td>0.405465</td>\n",
              "      <td>2.894486</td>\n",
              "      <td>2.889368</td>\n",
              "      <td>3.056961</td>\n",
              "      <td>3.126603</td>\n",
              "      <td>3.159682</td>\n",
              "      <td>3.253819</td>\n",
              "      <td>4.660699</td>\n",
              "      <td>15.187960</td>\n",
              "      <td>9.484253</td>\n",
              "      <td>5.627621</td>\n",
              "    </tr>\n",
              "    <tr>\n",
              "      <th>1</th>\n",
              "      <td>5.817111</td>\n",
              "      <td>1</td>\n",
              "      <td>2231</td>\n",
              "      <td>12.215572</td>\n",
              "      <td>2.977636</td>\n",
              "      <td>2.917680</td>\n",
              "      <td>2.894149</td>\n",
              "      <td>2.386007</td>\n",
              "      <td>4.082778</td>\n",
              "      <td>1.474763</td>\n",
              "      <td>0.239017</td>\n",
              "      <td>0.916291</td>\n",
              "      <td>2.894486</td>\n",
              "      <td>2.889368</td>\n",
              "      <td>3.056961</td>\n",
              "      <td>3.126603</td>\n",
              "      <td>3.019342</td>\n",
              "      <td>3.005405</td>\n",
              "      <td>4.661645</td>\n",
              "      <td>14.741554</td>\n",
              "      <td>9.453365</td>\n",
              "      <td>5.627621</td>\n",
              "    </tr>\n",
              "    <tr>\n",
              "      <th>2</th>\n",
              "      <td>4.941642</td>\n",
              "      <td>1</td>\n",
              "      <td>1514</td>\n",
              "      <td>12.216058</td>\n",
              "      <td>2.977636</td>\n",
              "      <td>2.917680</td>\n",
              "      <td>2.894149</td>\n",
              "      <td>3.011606</td>\n",
              "      <td>4.690155</td>\n",
              "      <td>2.000128</td>\n",
              "      <td>0.122218</td>\n",
              "      <td>0.405465</td>\n",
              "      <td>2.894486</td>\n",
              "      <td>2.889368</td>\n",
              "      <td>3.056961</td>\n",
              "      <td>3.126603</td>\n",
              "      <td>2.974974</td>\n",
              "      <td>3.005405</td>\n",
              "      <td>4.662212</td>\n",
              "      <td>15.272217</td>\n",
              "      <td>10.344995</td>\n",
              "      <td>5.627621</td>\n",
              "    </tr>\n",
              "    <tr>\n",
              "      <th>3</th>\n",
              "      <td>5.468060</td>\n",
              "      <td>1</td>\n",
              "      <td>2681</td>\n",
              "      <td>12.216033</td>\n",
              "      <td>2.977636</td>\n",
              "      <td>2.917680</td>\n",
              "      <td>2.894149</td>\n",
              "      <td>2.789937</td>\n",
              "      <td>4.422328</td>\n",
              "      <td>1.646734</td>\n",
              "      <td>0.190620</td>\n",
              "      <td>0.810930</td>\n",
              "      <td>2.894486</td>\n",
              "      <td>2.889368</td>\n",
              "      <td>3.056961</td>\n",
              "      <td>3.126603</td>\n",
              "      <td>3.019342</td>\n",
              "      <td>3.005405</td>\n",
              "      <td>4.670864</td>\n",
              "      <td>15.720111</td>\n",
              "      <td>7.723562</td>\n",
              "      <td>5.627621</td>\n",
              "    </tr>\n",
              "    <tr>\n",
              "      <th>4</th>\n",
              "      <td>2.302585</td>\n",
              "      <td>1</td>\n",
              "      <td>2450</td>\n",
              "      <td>12.216087</td>\n",
              "      <td>2.977636</td>\n",
              "      <td>2.917680</td>\n",
              "      <td>2.894149</td>\n",
              "      <td>3.349202</td>\n",
              "      <td>4.605270</td>\n",
              "      <td>2.115050</td>\n",
              "      <td>0.104360</td>\n",
              "      <td>0.405465</td>\n",
              "      <td>2.894486</td>\n",
              "      <td>2.889368</td>\n",
              "      <td>3.056961</td>\n",
              "      <td>3.126603</td>\n",
              "      <td>3.159682</td>\n",
              "      <td>2.944450</td>\n",
              "      <td>4.669740</td>\n",
              "      <td>13.048719</td>\n",
              "      <td>10.746153</td>\n",
              "      <td>5.627621</td>\n",
              "    </tr>\n",
              "    <tr>\n",
              "      <th>...</th>\n",
              "      <td>...</td>\n",
              "      <td>...</td>\n",
              "      <td>...</td>\n",
              "      <td>...</td>\n",
              "      <td>...</td>\n",
              "      <td>...</td>\n",
              "      <td>...</td>\n",
              "      <td>...</td>\n",
              "      <td>...</td>\n",
              "      <td>...</td>\n",
              "      <td>...</td>\n",
              "      <td>...</td>\n",
              "      <td>...</td>\n",
              "      <td>...</td>\n",
              "      <td>...</td>\n",
              "      <td>...</td>\n",
              "      <td>...</td>\n",
              "      <td>...</td>\n",
              "      <td>...</td>\n",
              "      <td>...</td>\n",
              "      <td>...</td>\n",
              "      <td>...</td>\n",
              "    </tr>\n",
              "    <tr>\n",
              "      <th>70591</th>\n",
              "      <td>3.178054</td>\n",
              "      <td>1</td>\n",
              "      <td>1369</td>\n",
              "      <td>12.216082</td>\n",
              "      <td>3.389320</td>\n",
              "      <td>3.183799</td>\n",
              "      <td>3.147666</td>\n",
              "      <td>3.353756</td>\n",
              "      <td>2.306577</td>\n",
              "      <td>0.385262</td>\n",
              "      <td>1.556037</td>\n",
              "      <td>0.405465</td>\n",
              "      <td>3.102555</td>\n",
              "      <td>3.248535</td>\n",
              "      <td>3.056961</td>\n",
              "      <td>3.316921</td>\n",
              "      <td>3.159682</td>\n",
              "      <td>3.253819</td>\n",
              "      <td>4.668145</td>\n",
              "      <td>12.198549</td>\n",
              "      <td>12.198549</td>\n",
              "      <td>7.218177</td>\n",
              "    </tr>\n",
              "    <tr>\n",
              "      <th>70592</th>\n",
              "      <td>4.644391</td>\n",
              "      <td>1</td>\n",
              "      <td>443</td>\n",
              "      <td>12.216063</td>\n",
              "      <td>3.389320</td>\n",
              "      <td>3.183799</td>\n",
              "      <td>3.147666</td>\n",
              "      <td>3.071303</td>\n",
              "      <td>2.136531</td>\n",
              "      <td>0.350657</td>\n",
              "      <td>1.678964</td>\n",
              "      <td>0.405465</td>\n",
              "      <td>3.102555</td>\n",
              "      <td>3.248535</td>\n",
              "      <td>3.056961</td>\n",
              "      <td>3.316921</td>\n",
              "      <td>3.222318</td>\n",
              "      <td>3.005405</td>\n",
              "      <td>4.662117</td>\n",
              "      <td>12.826652</td>\n",
              "      <td>8.914761</td>\n",
              "      <td>7.218177</td>\n",
              "    </tr>\n",
              "    <tr>\n",
              "      <th>70593</th>\n",
              "      <td>6.755769</td>\n",
              "      <td>1</td>\n",
              "      <td>1279</td>\n",
              "      <td>12.214576</td>\n",
              "      <td>2.977636</td>\n",
              "      <td>3.018262</td>\n",
              "      <td>3.078918</td>\n",
              "      <td>2.647592</td>\n",
              "      <td>5.228378</td>\n",
              "      <td>1.396245</td>\n",
              "      <td>0.277632</td>\n",
              "      <td>0.810930</td>\n",
              "      <td>2.993806</td>\n",
              "      <td>3.025779</td>\n",
              "      <td>3.100819</td>\n",
              "      <td>3.126603</td>\n",
              "      <td>3.019342</td>\n",
              "      <td>3.005405</td>\n",
              "      <td>4.642273</td>\n",
              "      <td>NaN</td>\n",
              "      <td>NaN</td>\n",
              "      <td>NaN</td>\n",
              "    </tr>\n",
              "    <tr>\n",
              "      <th>70594</th>\n",
              "      <td>2.484907</td>\n",
              "      <td>1</td>\n",
              "      <td>2374</td>\n",
              "      <td>12.216087</td>\n",
              "      <td>2.977636</td>\n",
              "      <td>3.018262</td>\n",
              "      <td>3.078918</td>\n",
              "      <td>3.349202</td>\n",
              "      <td>4.605270</td>\n",
              "      <td>2.115050</td>\n",
              "      <td>0.104360</td>\n",
              "      <td>0.405465</td>\n",
              "      <td>2.993806</td>\n",
              "      <td>3.025779</td>\n",
              "      <td>3.100819</td>\n",
              "      <td>3.126603</td>\n",
              "      <td>2.974974</td>\n",
              "      <td>3.005405</td>\n",
              "      <td>4.669740</td>\n",
              "      <td>NaN</td>\n",
              "      <td>NaN</td>\n",
              "      <td>NaN</td>\n",
              "    </tr>\n",
              "    <tr>\n",
              "      <th>70595</th>\n",
              "      <td>1.609438</td>\n",
              "      <td>1</td>\n",
              "      <td>2372</td>\n",
              "      <td>12.216087</td>\n",
              "      <td>2.977636</td>\n",
              "      <td>3.018262</td>\n",
              "      <td>3.078918</td>\n",
              "      <td>3.349202</td>\n",
              "      <td>4.605270</td>\n",
              "      <td>2.115050</td>\n",
              "      <td>0.104360</td>\n",
              "      <td>0.405465</td>\n",
              "      <td>2.993806</td>\n",
              "      <td>3.025779</td>\n",
              "      <td>3.100819</td>\n",
              "      <td>3.126603</td>\n",
              "      <td>2.974974</td>\n",
              "      <td>3.253819</td>\n",
              "      <td>4.669740</td>\n",
              "      <td>NaN</td>\n",
              "      <td>NaN</td>\n",
              "      <td>NaN</td>\n",
              "    </tr>\n",
              "  </tbody>\n",
              "</table>\n",
              "<p>70596 rows × 22 columns</p>\n",
              "</div>"
            ],
            "text/plain": [
              "         hist_d  sex_dit_cd  iem_krl_nm     bse_dt  tot_aet_amt    sb_amt  \\\n",
              "0      5.036953           1         417  12.216053     2.977636  2.917680   \n",
              "1      5.817111           1        2231  12.215572     2.977636  2.917680   \n",
              "2      4.941642           1        1514  12.216058     2.977636  2.917680   \n",
              "3      5.468060           1        2681  12.216033     2.977636  2.917680   \n",
              "4      2.302585           1        2450  12.216087     2.977636  2.917680   \n",
              "...         ...         ...         ...        ...          ...       ...   \n",
              "70591  3.178054           1        1369  12.216082     3.389320  3.183799   \n",
              "70592  4.644391           1         443  12.216063     3.389320  3.183799   \n",
              "70593  6.755769           1        1279  12.214576     2.977636  3.018262   \n",
              "70594  2.484907           1        2374  12.216087     2.977636  3.018262   \n",
              "70595  1.609438           1        2372  12.216087     2.977636  3.018262   \n",
              "\n",
              "          stk_p   krx_per    per_cd    pbr_cd  div_yeild_cd  interest_rate  \\\n",
              "0      2.894149  2.861057  4.636281  1.814825      0.157004       0.405465   \n",
              "1      2.894149  2.386007  4.082778  1.474763      0.239017       0.916291   \n",
              "2      2.894149  3.011606  4.690155  2.000128      0.122218       0.405465   \n",
              "3      2.894149  2.789937  4.422328  1.646734      0.190620       0.810930   \n",
              "4      2.894149  3.349202  4.605270  2.115050      0.104360       0.405465   \n",
              "...         ...       ...       ...       ...           ...            ...   \n",
              "70591  3.147666  3.353756  2.306577  0.385262      1.556037       0.405465   \n",
              "70592  3.147666  3.071303  2.136531  0.350657      1.678964       0.405465   \n",
              "70593  3.078918  2.647592  5.228378  1.396245      0.277632       0.810930   \n",
              "70594  3.078918  3.349202  4.605270  2.115050      0.104360       0.405465   \n",
              "70595  3.078918  3.349202  4.605270  2.115050      0.104360       0.405465   \n",
              "\n",
              "         cpi_cd   asset_n     age_n  ivst_style_n    life_n  service_n  \\\n",
              "0      2.894486  2.889368  3.056961      3.126603  3.159682   3.253819   \n",
              "1      2.894486  2.889368  3.056961      3.126603  3.019342   3.005405   \n",
              "2      2.894486  2.889368  3.056961      3.126603  2.974974   3.005405   \n",
              "3      2.894486  2.889368  3.056961      3.126603  3.019342   3.005405   \n",
              "4      2.894486  2.889368  3.056961      3.126603  3.159682   2.944450   \n",
              "...         ...       ...       ...           ...       ...        ...   \n",
              "70591  3.102555  3.248535  3.056961      3.316921  3.159682   3.253819   \n",
              "70592  3.102555  3.248535  3.056961      3.316921  3.222318   3.005405   \n",
              "70593  2.993806  3.025779  3.100819      3.126603  3.019342   3.005405   \n",
              "70594  2.993806  3.025779  3.100819      3.126603  2.974974   3.005405   \n",
              "70595  2.993806  3.025779  3.100819      3.126603  2.974974   3.253819   \n",
              "\n",
              "       investing_time_n   sector_n   mrkcap_n  market_div_n  \n",
              "0              4.660699  15.187960   9.484253      5.627621  \n",
              "1              4.661645  14.741554   9.453365      5.627621  \n",
              "2              4.662212  15.272217  10.344995      5.627621  \n",
              "3              4.670864  15.720111   7.723562      5.627621  \n",
              "4              4.669740  13.048719  10.746153      5.627621  \n",
              "...                 ...        ...        ...           ...  \n",
              "70591          4.668145  12.198549  12.198549      7.218177  \n",
              "70592          4.662117  12.826652   8.914761      7.218177  \n",
              "70593          4.642273        NaN        NaN           NaN  \n",
              "70594          4.669740        NaN        NaN           NaN  \n",
              "70595          4.669740        NaN        NaN           NaN  \n",
              "\n",
              "[70596 rows x 22 columns]"
            ]
          },
          "execution_count": 22,
          "metadata": {},
          "output_type": "execute_result"
        }
      ]
    },
    {
      "cell_type": "markdown",
      "metadata": {
        "id": "iXgyae7uDjlI"
      },
      "source": [
        "Scaler 사용\n",
        "- MinMax"
      ]
    },
    {
      "cell_type": "code",
      "metadata": {
        "id": "32oi4vx9FPQm"
      },
      "source": [
        "# # standardscaler\n",
        "# from sklearn.preprocessing import StandardScaler\n",
        "\n",
        "# # 변형 객체 생성\n",
        "# std_scaler = StandardScaler()\n",
        "\n",
        "# train_data_hist=train_data['hist_d']\n",
        "# train_data = train_data.drop('hist_d', axis=1)\n",
        "# test_data = test_data['hist_d']\n",
        "# # 훈련데이터의 모수 분포 저장\n",
        "# std_scaler.fit(train_data)\n",
        "\n",
        "# # 훈련 데이터 스케일링\n",
        "# X_train_scaled = std_scaler.transform(train_data)\n",
        "\n",
        "# # 테스트 데이터의 스케일링\n",
        "# # X_test_scaled = std_scaler.transform(test_data)\n",
        "\n",
        "# # 스케일링 된 결과 값으로 본래 값을 구할 수도 있다.\n",
        "# # X_origin = std_scaler.inverse_transform(X_train_scaled)\n",
        "# X_train_scaled=pd.DataFrame(columns=[train_data.columns], data=X_train_scaled )\n",
        "# X_train_scaled['hist_d']=train_data_hist\n",
        "# X_train_scaled"
      ],
      "execution_count": null,
      "outputs": []
    },
    {
      "cell_type": "markdown",
      "metadata": {
        "id": "8LRPgN_Osns4"
      },
      "source": [
        "## Feature Engineering & Initial Modeling\n",
        "\n",
        "### 관계가 5% 이상 유의미한 feature만 추출\n",
        "\n",
        "### <Feature 사용 방안 초안>\n",
        "1. 투자성향 따로 분류 그렇게 분류한 그룹별 모델 돌리기\n",
        "2. 자산구간 따로 분류 그렇게 분류한 그룹별 모델 돌리기\n",
        "3. Life stage 연령별 투자 성향을 알아보고 insight를 얻어 진행\n",
        "4. 총 투자기간에 따라 분류 (코로나 전 후로 어떻게 되었는가)\n",
        "5. 투자 성향에 따른 자산구간\n",
        "- 각각에 맞는 모델을 만든후 의미가 있으면 그 의미에 맞게 고객 맵핑\n",
        "- 위 내용에 주거래업종 구분을 통해 분산투자를 통한 위험성 감소를 고려하여 추천 시스템\n",
        "\n"
      ]
    },
    {
      "cell_type": "code",
      "metadata": {
        "colab": {
          "base_uri": "https://localhost:8080/",
          "height": 729
        },
        "id": "EYU6zOAybusj",
        "outputId": "91847a3e-9a94-4eb9-fbc6-27e82a7db65b"
      },
      "source": [
        "# corelation 확인\n",
        "df_all_corr = train_data.corr().abs().unstack().sort_values(kind=\"quicksort\", ascending=False).reset_index()\n",
        "df_all_corr.rename(columns={\"level_0\": \"Feature 1\", \"level_1\": \"Feature 2\", 0: 'Correlation Coefficient'}, inplace=True)\n",
        "df_all_corr[df_all_corr['Feature 1'] == 'hist_d']\n",
        "#pbr, tot_aet_amt 의미가 없다, "
      ],
      "execution_count": null,
      "outputs": [
        {
          "output_type": "execute_result",
          "data": {
            "text/html": [
              "<div>\n",
              "<style scoped>\n",
              "    .dataframe tbody tr th:only-of-type {\n",
              "        vertical-align: middle;\n",
              "    }\n",
              "\n",
              "    .dataframe tbody tr th {\n",
              "        vertical-align: top;\n",
              "    }\n",
              "\n",
              "    .dataframe thead th {\n",
              "        text-align: right;\n",
              "    }\n",
              "</style>\n",
              "<table border=\"1\" class=\"dataframe\">\n",
              "  <thead>\n",
              "    <tr style=\"text-align: right;\">\n",
              "      <th></th>\n",
              "      <th>Feature 1</th>\n",
              "      <th>Feature 2</th>\n",
              "      <th>Correlation Coefficient</th>\n",
              "    </tr>\n",
              "  </thead>\n",
              "  <tbody>\n",
              "    <tr>\n",
              "      <th>21</th>\n",
              "      <td>hist_d</td>\n",
              "      <td>hist_d</td>\n",
              "      <td>1.000000</td>\n",
              "    </tr>\n",
              "    <tr>\n",
              "      <th>93</th>\n",
              "      <td>hist_d</td>\n",
              "      <td>market_div_n</td>\n",
              "      <td>0.162641</td>\n",
              "    </tr>\n",
              "    <tr>\n",
              "      <th>94</th>\n",
              "      <td>hist_d</td>\n",
              "      <td>ivst_style_n</td>\n",
              "      <td>0.159424</td>\n",
              "    </tr>\n",
              "    <tr>\n",
              "      <th>109</th>\n",
              "      <td>hist_d</td>\n",
              "      <td>interest_rate</td>\n",
              "      <td>0.136517</td>\n",
              "    </tr>\n",
              "    <tr>\n",
              "      <th>110</th>\n",
              "      <td>hist_d</td>\n",
              "      <td>krx_per</td>\n",
              "      <td>0.136364</td>\n",
              "    </tr>\n",
              "    <tr>\n",
              "      <th>119</th>\n",
              "      <td>hist_d</td>\n",
              "      <td>bse_dt</td>\n",
              "      <td>0.125793</td>\n",
              "    </tr>\n",
              "    <tr>\n",
              "      <th>127</th>\n",
              "      <td>hist_d</td>\n",
              "      <td>tot_aet_amt</td>\n",
              "      <td>0.112077</td>\n",
              "    </tr>\n",
              "    <tr>\n",
              "      <th>182</th>\n",
              "      <td>hist_d</td>\n",
              "      <td>investing_time_n</td>\n",
              "      <td>0.082693</td>\n",
              "    </tr>\n",
              "    <tr>\n",
              "      <th>185</th>\n",
              "      <td>hist_d</td>\n",
              "      <td>service_n</td>\n",
              "      <td>0.081262</td>\n",
              "    </tr>\n",
              "    <tr>\n",
              "      <th>194</th>\n",
              "      <td>hist_d</td>\n",
              "      <td>asset_n</td>\n",
              "      <td>0.077369</td>\n",
              "    </tr>\n",
              "    <tr>\n",
              "      <th>208</th>\n",
              "      <td>hist_d</td>\n",
              "      <td>per_cd</td>\n",
              "      <td>0.071308</td>\n",
              "    </tr>\n",
              "    <tr>\n",
              "      <th>213</th>\n",
              "      <td>hist_d</td>\n",
              "      <td>mrkcap_n</td>\n",
              "      <td>0.067319</td>\n",
              "    </tr>\n",
              "    <tr>\n",
              "      <th>214</th>\n",
              "      <td>hist_d</td>\n",
              "      <td>life_n</td>\n",
              "      <td>0.065956</td>\n",
              "    </tr>\n",
              "    <tr>\n",
              "      <th>225</th>\n",
              "      <td>hist_d</td>\n",
              "      <td>sb_amt</td>\n",
              "      <td>0.061608</td>\n",
              "    </tr>\n",
              "    <tr>\n",
              "      <th>231</th>\n",
              "      <td>hist_d</td>\n",
              "      <td>stk_p</td>\n",
              "      <td>0.055538</td>\n",
              "    </tr>\n",
              "    <tr>\n",
              "      <th>275</th>\n",
              "      <td>hist_d</td>\n",
              "      <td>cpi_cd</td>\n",
              "      <td>0.040567</td>\n",
              "    </tr>\n",
              "    <tr>\n",
              "      <th>286</th>\n",
              "      <td>hist_d</td>\n",
              "      <td>age_n</td>\n",
              "      <td>0.039808</td>\n",
              "    </tr>\n",
              "    <tr>\n",
              "      <th>316</th>\n",
              "      <td>hist_d</td>\n",
              "      <td>sex_dit_cd</td>\n",
              "      <td>0.033757</td>\n",
              "    </tr>\n",
              "    <tr>\n",
              "      <th>318</th>\n",
              "      <td>hist_d</td>\n",
              "      <td>sector_n</td>\n",
              "      <td>0.033271</td>\n",
              "    </tr>\n",
              "    <tr>\n",
              "      <th>354</th>\n",
              "      <td>hist_d</td>\n",
              "      <td>iem_krl_nm</td>\n",
              "      <td>0.021219</td>\n",
              "    </tr>\n",
              "    <tr>\n",
              "      <th>359</th>\n",
              "      <td>hist_d</td>\n",
              "      <td>div_yeild_cd</td>\n",
              "      <td>0.020485</td>\n",
              "    </tr>\n",
              "    <tr>\n",
              "      <th>461</th>\n",
              "      <td>hist_d</td>\n",
              "      <td>pbr_cd</td>\n",
              "      <td>0.003755</td>\n",
              "    </tr>\n",
              "  </tbody>\n",
              "</table>\n",
              "</div>"
            ],
            "text/plain": [
              "    Feature 1         Feature 2  Correlation Coefficient\n",
              "21     hist_d            hist_d                 1.000000\n",
              "93     hist_d      market_div_n                 0.162641\n",
              "94     hist_d      ivst_style_n                 0.159424\n",
              "109    hist_d     interest_rate                 0.136517\n",
              "110    hist_d           krx_per                 0.136364\n",
              "119    hist_d            bse_dt                 0.125793\n",
              "127    hist_d       tot_aet_amt                 0.112077\n",
              "182    hist_d  investing_time_n                 0.082693\n",
              "185    hist_d         service_n                 0.081262\n",
              "194    hist_d           asset_n                 0.077369\n",
              "208    hist_d            per_cd                 0.071308\n",
              "213    hist_d          mrkcap_n                 0.067319\n",
              "214    hist_d            life_n                 0.065956\n",
              "225    hist_d            sb_amt                 0.061608\n",
              "231    hist_d             stk_p                 0.055538\n",
              "275    hist_d            cpi_cd                 0.040567\n",
              "286    hist_d             age_n                 0.039808\n",
              "316    hist_d        sex_dit_cd                 0.033757\n",
              "318    hist_d          sector_n                 0.033271\n",
              "354    hist_d        iem_krl_nm                 0.021219\n",
              "359    hist_d      div_yeild_cd                 0.020485\n",
              "461    hist_d            pbr_cd                 0.003755"
            ]
          },
          "metadata": {},
          "execution_count": 20
        }
      ]
    },
    {
      "cell_type": "code",
      "metadata": {
        "colab": {
          "base_uri": "https://localhost:8080/",
          "height": 706
        },
        "id": "_8ma6MAWER4X",
        "outputId": "f8650af4-6040-43ef-e89f-69411993567d"
      },
      "source": [
        "cor = train_data.corr()\n",
        "top_feature = cor.index[abs(cor['hist_d']) >= 0.1]\n",
        "print(top_feature)\n",
        "top_corr = train_data[top_feature].corr()\n",
        "plt.figure(figsize=(15,10))\n",
        "sns.heatmap(top_corr, annot=True)\n",
        "plt.xticks(rotation=90)\n",
        "plt.show()"
      ],
      "execution_count": null,
      "outputs": [
        {
          "output_type": "stream",
          "name": "stdout",
          "text": [
            "Index(['hist_d', 'bse_dt', 'tot_aet_amt', 'krx_per', 'interest_rate',\n",
            "       'ivst_style_n', 'market_div_n'],\n",
            "      dtype='object')\n"
          ]
        },
        {
          "output_type": "display_data",
          "data": {
            "image/png": "[encoded data removed]",
            "text/plain": [
              "<Figure size 1080x720 with 2 Axes>"
            ]
          },
          "metadata": {
            "needs_background": "light"
          }
        }
      ]
    },
    {
      "cell_type": "code",
      "metadata": {
        "colab": {
          "base_uri": "https://localhost:8080/",
          "height": 418
        },
        "id": "xtNUyYdefxSA",
        "outputId": "22b117c0-f1d5-41e7-f7a3-a8abc36867be"
      },
      "source": [
        "new_df=train_data[top_feature]\n",
        "new_test_df=test_data[top_feature]\n",
        "new_df"
      ],
      "execution_count": null,
      "outputs": [
        {
          "output_type": "execute_result",
          "data": {
            "text/html": [
              "<div>\n",
              "<style scoped>\n",
              "    .dataframe tbody tr th:only-of-type {\n",
              "        vertical-align: middle;\n",
              "    }\n",
              "\n",
              "    .dataframe tbody tr th {\n",
              "        vertical-align: top;\n",
              "    }\n",
              "\n",
              "    .dataframe thead th {\n",
              "        text-align: right;\n",
              "    }\n",
              "</style>\n",
              "<table border=\"1\" class=\"dataframe\">\n",
              "  <thead>\n",
              "    <tr style=\"text-align: right;\">\n",
              "      <th></th>\n",
              "      <th>hist_d</th>\n",
              "      <th>bse_dt</th>\n",
              "      <th>tot_aet_amt</th>\n",
              "      <th>krx_per</th>\n",
              "      <th>interest_rate</th>\n",
              "      <th>ivst_style_n</th>\n",
              "      <th>market_div_n</th>\n",
              "    </tr>\n",
              "  </thead>\n",
              "  <tbody>\n",
              "    <tr>\n",
              "      <th>0</th>\n",
              "      <td>2.484907</td>\n",
              "      <td>3.465736</td>\n",
              "      <td>2.977636</td>\n",
              "      <td>2.407846</td>\n",
              "      <td>1.011601</td>\n",
              "      <td>3.126603</td>\n",
              "      <td>5.627621</td>\n",
              "    </tr>\n",
              "    <tr>\n",
              "      <th>1</th>\n",
              "      <td>4.394449</td>\n",
              "      <td>3.258097</td>\n",
              "      <td>2.977636</td>\n",
              "      <td>2.576422</td>\n",
              "      <td>1.011601</td>\n",
              "      <td>3.126603</td>\n",
              "      <td>5.627621</td>\n",
              "    </tr>\n",
              "    <tr>\n",
              "      <th>2</th>\n",
              "      <td>1.791759</td>\n",
              "      <td>3.401197</td>\n",
              "      <td>2.977636</td>\n",
              "      <td>2.447551</td>\n",
              "      <td>1.011601</td>\n",
              "      <td>3.126603</td>\n",
              "      <td>5.627621</td>\n",
              "    </tr>\n",
              "    <tr>\n",
              "      <th>3</th>\n",
              "      <td>3.135494</td>\n",
              "      <td>4.094345</td>\n",
              "      <td>2.977636</td>\n",
              "      <td>3.353756</td>\n",
              "      <td>0.405465</td>\n",
              "      <td>3.126603</td>\n",
              "      <td>5.627621</td>\n",
              "    </tr>\n",
              "    <tr>\n",
              "      <th>4</th>\n",
              "      <td>5.783825</td>\n",
              "      <td>3.526361</td>\n",
              "      <td>2.977636</td>\n",
              "      <td>2.365560</td>\n",
              "      <td>0.916291</td>\n",
              "      <td>3.126603</td>\n",
              "      <td>5.627621</td>\n",
              "    </tr>\n",
              "    <tr>\n",
              "      <th>...</th>\n",
              "      <td>...</td>\n",
              "      <td>...</td>\n",
              "      <td>...</td>\n",
              "      <td>...</td>\n",
              "      <td>...</td>\n",
              "      <td>...</td>\n",
              "      <td>...</td>\n",
              "    </tr>\n",
              "    <tr>\n",
              "      <th>281071</th>\n",
              "      <td>2.079442</td>\n",
              "      <td>4.060443</td>\n",
              "      <td>3.389320</td>\n",
              "      <td>3.251149</td>\n",
              "      <td>0.405465</td>\n",
              "      <td>3.316921</td>\n",
              "      <td>7.218177</td>\n",
              "    </tr>\n",
              "    <tr>\n",
              "      <th>281072</th>\n",
              "      <td>2.890372</td>\n",
              "      <td>3.218876</td>\n",
              "      <td>3.389320</td>\n",
              "      <td>2.547881</td>\n",
              "      <td>1.011601</td>\n",
              "      <td>3.316921</td>\n",
              "      <td>7.218177</td>\n",
              "    </tr>\n",
              "    <tr>\n",
              "      <th>281073</th>\n",
              "      <td>0.693147</td>\n",
              "      <td>4.043051</td>\n",
              "      <td>3.389320</td>\n",
              "      <td>3.097837</td>\n",
              "      <td>0.405465</td>\n",
              "      <td>3.316921</td>\n",
              "      <td>7.218177</td>\n",
              "    </tr>\n",
              "    <tr>\n",
              "      <th>281074</th>\n",
              "      <td>1.098612</td>\n",
              "      <td>3.988984</td>\n",
              "      <td>3.389320</td>\n",
              "      <td>2.861057</td>\n",
              "      <td>0.405465</td>\n",
              "      <td>3.316921</td>\n",
              "      <td>7.218177</td>\n",
              "    </tr>\n",
              "    <tr>\n",
              "      <th>281075</th>\n",
              "      <td>6.728629</td>\n",
              "      <td>0.693147</td>\n",
              "      <td>3.389320</td>\n",
              "      <td>2.586259</td>\n",
              "      <td>0.916291</td>\n",
              "      <td>3.316921</td>\n",
              "      <td>7.218177</td>\n",
              "    </tr>\n",
              "  </tbody>\n",
              "</table>\n",
              "<p>281076 rows × 7 columns</p>\n",
              "</div>"
            ],
            "text/plain": [
              "          hist_d    bse_dt  tot_aet_amt   krx_per  interest_rate  \\\n",
              "0       2.484907  3.465736     2.977636  2.407846       1.011601   \n",
              "1       4.394449  3.258097     2.977636  2.576422       1.011601   \n",
              "2       1.791759  3.401197     2.977636  2.447551       1.011601   \n",
              "3       3.135494  4.094345     2.977636  3.353756       0.405465   \n",
              "4       5.783825  3.526361     2.977636  2.365560       0.916291   \n",
              "...          ...       ...          ...       ...            ...   \n",
              "281071  2.079442  4.060443     3.389320  3.251149       0.405465   \n",
              "281072  2.890372  3.218876     3.389320  2.547881       1.011601   \n",
              "281073  0.693147  4.043051     3.389320  3.097837       0.405465   \n",
              "281074  1.098612  3.988984     3.389320  2.861057       0.405465   \n",
              "281075  6.728629  0.693147     3.389320  2.586259       0.916291   \n",
              "\n",
              "        ivst_style_n  market_div_n  \n",
              "0           3.126603      5.627621  \n",
              "1           3.126603      5.627621  \n",
              "2           3.126603      5.627621  \n",
              "3           3.126603      5.627621  \n",
              "4           3.126603      5.627621  \n",
              "...              ...           ...  \n",
              "281071      3.316921      7.218177  \n",
              "281072      3.316921      7.218177  \n",
              "281073      3.316921      7.218177  \n",
              "281074      3.316921      7.218177  \n",
              "281075      3.316921      7.218177  \n",
              "\n",
              "[281076 rows x 7 columns]"
            ]
          },
          "metadata": {},
          "execution_count": 22
        }
      ]
    },
    {
      "cell_type": "code",
      "metadata": {
        "colab": {
          "base_uri": "https://localhost:8080/",
          "height": 352
        },
        "id": "Y9TV2wmrPllR",
        "outputId": "9067caf5-96fa-4235-c4bb-3576739e3f4b"
      },
      "source": [
        "#종속변수 체크\n",
        "sns.distplot(train_data['hist_d'])\n",
        "plt.title(\"hist_d\")\n",
        "plt.show()"
      ],
      "execution_count": null,
      "outputs": [
        {
          "name": "stderr",
          "output_type": "stream",
          "text": [
            "/usr/local/lib/python3.7/dist-packages/seaborn/distributions.py:2619: FutureWarning: `distplot` is a deprecated function and will be removed in a future version. Please adapt your code to use either `displot` (a figure-level function with similar flexibility) or `histplot` (an axes-level function for histograms).\n",
            "  warnings.warn(msg, FutureWarning)\n"
          ]
        },
        {
          "data": {
            "image/png": "[encoded data removed]",
            "text/plain": [
              "<Figure size 432x288 with 1 Axes>"
            ]
          },
          "metadata": {},
          "output_type": "display_data"
        }
      ]
    },
    {
      "cell_type": "markdown",
      "metadata": {
        "id": "5s-zyAOrZvfe"
      },
      "source": [
        "## <수치를 통해 유추한 feature>\n",
        "\n",
        "### - 자산구간에 따른 평균 주식 보유일/ 자산이 많을 수록 기간이 상대적으로 길다\n",
        "\n",
        "### -  대형주의 경우 좀더 길어보임\n",
        "\n",
        "### - 잔고금액에 따른 주식 보유길이\n",
        "\n",
        "### - 총투자기간 대비 주식 보유기간/대체로 증가한다.\n",
        "\n",
        "### - 주거래 업종 / 큰 차이가 있다!!! 철강, 제조\n",
        "\n",
        "### - 금리가 높을 수록 더 오래 가지고 있다."
      ]
    },
    {
      "cell_type": "markdown",
      "metadata": {
        "id": "Y2VULNhub6EL"
      },
      "source": [
        "## 데이터의 Feature 확인\n",
        "- adjusted r2 score, aic bic score \n"
      ]
    },
    {
      "cell_type": "code",
      "metadata": {
        "id": "rCGJRwblb4gH"
      },
      "source": [
        "#딥러닝 라이브러리로, scikit-learn(사이킷런)을 이용합니다.\n",
        "import math\n",
        "from sklearn.preprocessing import StandardScaler\n",
        "from sklearn.model_selection import train_test_split, GridSearchCV\n",
        "from sklearn.ensemble import RandomForestRegressor\n",
        "from sklearn.linear_model import LogisticRegression\n",
        "from sklearn.metrics import roc_auc_score ,roc_curve, f1_score, accuracy_score, mean_absolute_error, r2_score\n",
        "from sklearn.compose import ColumnTransformer\n",
        "from xgboost import XGBRegressor\n",
        "from sklearn.neighbors import KNeighborsClassifier\n",
        "from sklearn.svm import SVC\n",
        "from sklearn.neural_network import MLPClassifier\n",
        "from sklearn.ensemble import RandomForestClassifier\n",
        "from xgboost import XGBRegressor\n",
        "from sklearn.model_selection import KFold\n",
        "from sklearn.metrics import mean_squared_error\n",
        "from sklearn.ensemble import GradientBoostingRegressor, RandomForestRegressor\n"
      ],
      "execution_count": null,
      "outputs": []
    },
    {
      "cell_type": "code",
      "metadata": {
        "id": "gz7RbQiXHGH_"
      },
      "source": [
        "X = new_df.drop('hist_d', axis=1)\n",
        "y = new_df['hist_d']"
      ],
      "execution_count": null,
      "outputs": []
    },
    {
      "cell_type": "code",
      "metadata": {
        "id": "unMUssvovuAj"
      },
      "source": [
        "X_train1, X_test1, y_train1, y_test1 = train_test_split(X,y, test_size = 0.5, random_state=42)\n",
        "X_train, X_test, y_train, y_test = train_test_split(X_test1,y_test1, test_size = 0.5, random_state=42)\n"
      ],
      "execution_count": null,
      "outputs": []
    },
    {
      "cell_type": "code",
      "metadata": {
        "id": "daJS1zEim3-B"
      },
      "source": [
        "test_x = new_test_df.drop('hist_d', axis=1)\n",
        "test_y = new_test_df['hist_d']\n",
        "test_x=test_x.fillna(test_x.mean())\n",
        "test_y=test_y.fillna(test_y.mean())"
      ],
      "execution_count": null,
      "outputs": []
    },
    {
      "cell_type": "markdown",
      "metadata": {
        "id": "TlCA9Z-WTCAd"
      },
      "source": [
        "RandomForestRegressor\n"
      ]
    },
    {
      "cell_type": "code",
      "metadata": {
        "colab": {
          "base_uri": "https://localhost:8080/"
        },
        "id": "BvdZCZJeyZXH",
        "outputId": "92d3b47e-9913-48fa-dc88-9a58529fe71a"
      },
      "source": [
        "#50대 50\n",
        "# rf = RandomForestRegressor(random_state = 518)\n",
        "rf = RandomForestRegressor(n_estimators=150, \n",
        "                                   max_depth=10, max_features='sqrt',\n",
        "                                   min_samples_leaf=15, min_samples_split=10)\n",
        "rmse_list = []\n",
        "rf_pred = np.zeros((X_train.shape[0]))\n",
        "kf = KFold(n_splits =  10, shuffle = True, random_state = 42)\n",
        "arr=[]\n",
        "# for k in [30, 50, 100, 150, 200]:\n",
        "for tr_idx, val_idx in kf.split(X_train, y_train) :\n",
        "    rf = RandomForestRegressor(n_estimators = 150,random_state = 518)\n",
        "    tr_x, tr_y = X_train.iloc[tr_idx], y_train.iloc[tr_idx]\n",
        "    val_x, val_y = X_train.iloc[val_idx], y_train.iloc[val_idx]\n",
        "    rf.fit(tr_x, tr_y)\n",
        "    \n",
        "    pred = np.expm1([0 if x < 0 else x for x in rf.predict(val_x)])\n",
        "    sub_pred = np.expm1([0 if x < 0 else x for x in rf.predict(X_test)])\n",
        "    rmse = np.sqrt(mean_squared_error(val_y, pred))\n",
        "    \n",
        "    rmse_list.append(rmse)\n",
        "    rf_pred += (sub_pred / 10)\n",
        "# print('version', k)\n",
        "print(rf.score(X_train, y_train)) # train R2 score를 출력합니다.\n",
        "print(rf.score(X_test, y_test)) # test R2 score를 출력합니다"
      ],
      "execution_count": null,
      "outputs": [
        {
          "output_type": "stream",
          "name": "stdout",
          "text": [
            "0.5758480979390614\n",
            "0.21392917037747916\n"
          ]
        }
      ]
    },
    {
      "cell_type": "code",
      "metadata": {
        "colab": {
          "background_save": true
        },
        "id": "nj0g7qKLx3_X"
      },
      "source": [
        "#@title\n",
        "# numeric_cols = train_data.select_dtypes(exclude='object').columns\n",
        "\n",
        "# skew_limit = 0.5\n",
        "# skew_vals = train_data[numeric_cols].skew()\n",
        "\n",
        "# skew_cols = (skew_vals\n",
        "#              .sort_values(ascending=False)\n",
        "#              .to_frame()\n",
        "#              .rename(columns={0:'Skew'})\n",
        "#              .query('abs(Skew) > {0}'.format(skew_limit)))\n",
        "\n",
        "# skew_cols"
      ],
      "execution_count": null,
      "outputs": []
    },
    {
      "cell_type": "markdown",
      "metadata": {
        "id": "cY2qkScVDecy"
      },
      "source": [
        "데이터들을 log-log 모형에서 해석 했음\n",
        "e^corr 이렇게 해석"
      ]
    },
    {
      "cell_type": "code",
      "metadata": {
        "colab": {
          "base_uri": "https://localhost:8080/"
        },
        "id": "JvcfYpanLCGA",
        "outputId": "8e745282-fdc5-4ffe-8eec-5c2e5ae3beac"
      },
      "source": [
        "rf_mse=np.mean(rmse_list)\n",
        "rf_mse"
      ],
      "execution_count": null,
      "outputs": [
        {
          "output_type": "execute_result",
          "data": {
            "text/plain": [
              "10.69044396050795"
            ]
          },
          "metadata": {},
          "execution_count": 27
        }
      ]
    },
    {
      "cell_type": "code",
      "metadata": {
        "id": "RjO431SBnofX"
      },
      "source": [
        "y_test"
      ],
      "execution_count": null,
      "outputs": []
    },
    {
      "cell_type": "code",
      "metadata": {
        "colab": {
          "base_uri": "https://localhost:8080/",
          "height": 419
        },
        "id": "ySUQA2-ciiAE",
        "outputId": "45fbde9d-6d01-4b9c-8a45-647a319d8a5b"
      },
      "source": [
        "from sklearn.metrics import accuracy_score, recall_score, precision_score\n",
        "rf_back_test  = np.e**y_test\n",
        "rf_back_pred=rf_pred\n",
        "compare_rf={'y_test':rf_back_test, 'y_predicted':rf_back_pred}\n",
        "compare_rf=pd.DataFrame(compare_rf)\n",
        "compare_rf"
      ],
      "execution_count": null,
      "outputs": [
        {
          "output_type": "execute_result",
          "data": {
            "text/html": [
              "<div>\n",
              "<style scoped>\n",
              "    .dataframe tbody tr th:only-of-type {\n",
              "        vertical-align: middle;\n",
              "    }\n",
              "\n",
              "    .dataframe tbody tr th {\n",
              "        vertical-align: top;\n",
              "    }\n",
              "\n",
              "    .dataframe thead th {\n",
              "        text-align: right;\n",
              "    }\n",
              "</style>\n",
              "<table border=\"1\" class=\"dataframe\">\n",
              "  <thead>\n",
              "    <tr style=\"text-align: right;\">\n",
              "      <th></th>\n",
              "      <th>y_test</th>\n",
              "      <th>y_predicted</th>\n",
              "    </tr>\n",
              "  </thead>\n",
              "  <tbody>\n",
              "    <tr>\n",
              "      <th>249387</th>\n",
              "      <td>23.0</td>\n",
              "      <td>9.923666</td>\n",
              "    </tr>\n",
              "    <tr>\n",
              "      <th>1110</th>\n",
              "      <td>3.0</td>\n",
              "      <td>6.814054</td>\n",
              "    </tr>\n",
              "    <tr>\n",
              "      <th>128473</th>\n",
              "      <td>579.0</td>\n",
              "      <td>19.995138</td>\n",
              "    </tr>\n",
              "    <tr>\n",
              "      <th>205206</th>\n",
              "      <td>62.0</td>\n",
              "      <td>11.890586</td>\n",
              "    </tr>\n",
              "    <tr>\n",
              "      <th>9140</th>\n",
              "      <td>25.0</td>\n",
              "      <td>3.619467</td>\n",
              "    </tr>\n",
              "    <tr>\n",
              "      <th>...</th>\n",
              "      <td>...</td>\n",
              "      <td>...</td>\n",
              "    </tr>\n",
              "    <tr>\n",
              "      <th>168180</th>\n",
              "      <td>5.0</td>\n",
              "      <td>2.468583</td>\n",
              "    </tr>\n",
              "    <tr>\n",
              "      <th>249728</th>\n",
              "      <td>29.0</td>\n",
              "      <td>15.285820</td>\n",
              "    </tr>\n",
              "    <tr>\n",
              "      <th>143675</th>\n",
              "      <td>2.0</td>\n",
              "      <td>2.413419</td>\n",
              "    </tr>\n",
              "    <tr>\n",
              "      <th>33345</th>\n",
              "      <td>228.0</td>\n",
              "      <td>220.849182</td>\n",
              "    </tr>\n",
              "    <tr>\n",
              "      <th>68927</th>\n",
              "      <td>18.0</td>\n",
              "      <td>52.274551</td>\n",
              "    </tr>\n",
              "  </tbody>\n",
              "</table>\n",
              "<p>140538 rows × 2 columns</p>\n",
              "</div>"
            ],
            "text/plain": [
              "        y_test  y_predicted\n",
              "249387    23.0     9.923666\n",
              "1110       3.0     6.814054\n",
              "128473   579.0    19.995138\n",
              "205206    62.0    11.890586\n",
              "9140      25.0     3.619467\n",
              "...        ...          ...\n",
              "168180     5.0     2.468583\n",
              "249728    29.0    15.285820\n",
              "143675     2.0     2.413419\n",
              "33345    228.0   220.849182\n",
              "68927     18.0    52.274551\n",
              "\n",
              "[140538 rows x 2 columns]"
            ]
          },
          "metadata": {},
          "execution_count": 22
        }
      ]
    },
    {
      "cell_type": "code",
      "metadata": {
        "id": "UPchTNAJKoy_"
      },
      "source": [
        "# predict\n",
        "rf_predict =rf.predict(test_x)\n",
        "predicted_rf=np.e**rf_predict\n",
        "sub_rf=predicted_rf-test_y"
      ],
      "execution_count": null,
      "outputs": []
    },
    {
      "cell_type": "markdown",
      "metadata": {
        "id": "RTwKDNlwlTTb"
      },
      "source": [
        "XGBRegressor\n"
      ]
    },
    {
      "cell_type": "code",
      "metadata": {
        "id": "l2UYCwSGl3RZ"
      },
      "source": [
        "kf = KFold(n_splits =  10, shuffle = True, random_state = 42)\n",
        "rmse_list = []\n",
        "# xgb = XGBRegressor(random_state = 518)\n",
        "xgb = XGBRegressor(colsample_bytree=0.4603, gamma=0.0468, \n",
        "                             learning_rate=0.05, max_depth=3, \n",
        "                             min_child_weight=1.7817, n_estimators=200,\n",
        "                             reg_alpha=0.4640, reg_lambda=0.8571,\n",
        "                             subsample=0.5213, silent=1,\n",
        "                             random_state =7, nthread = -1)\n",
        "\n",
        "xgb_pred = np.zeros((X_train.shape[0]))\n",
        "for tr_idx, val_idx in kf.split(X_train, y_train) :\n",
        "    tr_x, tr_y = X_train.iloc[tr_idx], y_train.iloc[tr_idx]\n",
        "    val_x, val_y = X_train.iloc[val_idx], y_train.iloc[val_idx]\n",
        "    \n",
        "    xgb.fit(tr_x, tr_y)\n",
        "    \n",
        "    pred = np.expm1([0 if x < 0 else x for x in xgb.predict(val_x)])\n",
        "    sub_pred = np.expm1([0 if x < 0 else x for x in xgb.predict(X_test)])\n",
        "    rmse = np.sqrt(mean_squared_error(val_y, pred))\n",
        "    \n",
        "    rmse_list.append(rmse)\n",
        "    \n",
        "    xgb_pred  += (sub_pred / 10)"
      ],
      "execution_count": null,
      "outputs": []
    },
    {
      "cell_type": "code",
      "metadata": {
        "id": "NADp_k60lXnR"
      },
      "source": [
        "# print(np.mean(rmse_list))\n",
        "print(xgb.score(X_train, y_train)) # train R2 score를 출력합니다.\n",
        "print(xgb.score(X_test, y_test)) # test R2 score를 출력합니다"
      ],
      "execution_count": null,
      "outputs": []
    },
    {
      "cell_type": "code",
      "metadata": {
        "colab": {
          "base_uri": "https://localhost:8080/",
          "height": 419
        },
        "id": "8lIApU6cuBE5",
        "outputId": "76011338-e2d7-4441-da0a-237a750b4298"
      },
      "source": [
        "xgb_back  = np.e**y_test\n",
        "\n",
        "y_compare_xgb={'y_test':xgb_back, 'y_predicted':xgb_pred}\n",
        "y_compare_xgb=pd.DataFrame(y_compare_xgb)\n",
        "y_compare_xgb"
      ],
      "execution_count": null,
      "outputs": [
        {
          "output_type": "execute_result",
          "data": {
            "text/html": [
              "<div>\n",
              "<style scoped>\n",
              "    .dataframe tbody tr th:only-of-type {\n",
              "        vertical-align: middle;\n",
              "    }\n",
              "\n",
              "    .dataframe tbody tr th {\n",
              "        vertical-align: top;\n",
              "    }\n",
              "\n",
              "    .dataframe thead th {\n",
              "        text-align: right;\n",
              "    }\n",
              "</style>\n",
              "<table border=\"1\" class=\"dataframe\">\n",
              "  <thead>\n",
              "    <tr style=\"text-align: right;\">\n",
              "      <th></th>\n",
              "      <th>y_test</th>\n",
              "      <th>y_predicted</th>\n",
              "    </tr>\n",
              "  </thead>\n",
              "  <tbody>\n",
              "    <tr>\n",
              "      <th>249387</th>\n",
              "      <td>23.0</td>\n",
              "      <td>7.562347</td>\n",
              "    </tr>\n",
              "    <tr>\n",
              "      <th>1110</th>\n",
              "      <td>3.0</td>\n",
              "      <td>4.968951</td>\n",
              "    </tr>\n",
              "    <tr>\n",
              "      <th>128473</th>\n",
              "      <td>579.0</td>\n",
              "      <td>15.289624</td>\n",
              "    </tr>\n",
              "    <tr>\n",
              "      <th>205206</th>\n",
              "      <td>62.0</td>\n",
              "      <td>4.765376</td>\n",
              "    </tr>\n",
              "    <tr>\n",
              "      <th>9140</th>\n",
              "      <td>25.0</td>\n",
              "      <td>4.590550</td>\n",
              "    </tr>\n",
              "    <tr>\n",
              "      <th>...</th>\n",
              "      <td>...</td>\n",
              "      <td>...</td>\n",
              "    </tr>\n",
              "    <tr>\n",
              "      <th>168180</th>\n",
              "      <td>5.0</td>\n",
              "      <td>3.487321</td>\n",
              "    </tr>\n",
              "    <tr>\n",
              "      <th>249728</th>\n",
              "      <td>29.0</td>\n",
              "      <td>15.182684</td>\n",
              "    </tr>\n",
              "    <tr>\n",
              "      <th>143675</th>\n",
              "      <td>2.0</td>\n",
              "      <td>5.121441</td>\n",
              "    </tr>\n",
              "    <tr>\n",
              "      <th>33345</th>\n",
              "      <td>228.0</td>\n",
              "      <td>40.524295</td>\n",
              "    </tr>\n",
              "    <tr>\n",
              "      <th>68927</th>\n",
              "      <td>18.0</td>\n",
              "      <td>46.300564</td>\n",
              "    </tr>\n",
              "  </tbody>\n",
              "</table>\n",
              "<p>140538 rows × 2 columns</p>\n",
              "</div>"
            ],
            "text/plain": [
              "        y_test  y_predicted\n",
              "249387    23.0     7.562347\n",
              "1110       3.0     4.968951\n",
              "128473   579.0    15.289624\n",
              "205206    62.0     4.765376\n",
              "9140      25.0     4.590550\n",
              "...        ...          ...\n",
              "168180     5.0     3.487321\n",
              "249728    29.0    15.182684\n",
              "143675     2.0     5.121441\n",
              "33345    228.0    40.524295\n",
              "68927     18.0    46.300564\n",
              "\n",
              "[140538 rows x 2 columns]"
            ]
          },
          "metadata": {},
          "execution_count": 26
        }
      ]
    },
    {
      "cell_type": "code",
      "metadata": {
        "colab": {
          "base_uri": "https://localhost:8080/"
        },
        "id": "Qizi5qAvtAC1",
        "outputId": "aa1ef1e7-8936-4b02-e7a0-44da71700446"
      },
      "source": [
        "xgb_rmse=np.mean(rmse_list)\n",
        "xgb_rmse"
      ],
      "execution_count": null,
      "outputs": [
        {
          "data": {
            "text/plain": [
              "11.056244390431504"
            ]
          },
          "execution_count": 64,
          "metadata": {},
          "output_type": "execute_result"
        }
      ]
    },
    {
      "cell_type": "code",
      "metadata": {
        "id": "wGWVizwqPfY3"
      },
      "source": [
        "# predict xgb\n",
        "xgb_predict =rf.predict(test_x)\n",
        "predicted_rf=np.e**xgb_predict\n",
        "sub_xgb=predicted_rf-test_y"
      ],
      "execution_count": null,
      "outputs": []
    },
    {
      "cell_type": "markdown",
      "metadata": {
        "id": "Vz0mzQLy4zo9"
      },
      "source": [
        "LGMBRegressor\n"
      ]
    },
    {
      "cell_type": "code",
      "metadata": {
        "colab": {
          "base_uri": "https://localhost:8080/"
        },
        "id": "nvgGjbcw8rPQ",
        "outputId": "6b0368bd-d190-42b1-e7c6-bde32c17fae0"
      },
      "source": [
        "kf = KFold(n_splits =  10, shuffle = True, random_state = 42)\n",
        "rmse_list = []\n",
        "models = []\n",
        "\n",
        "model = LGBMRegressor(objective= \"regression\",\n",
        "                      max_depth= 20,\n",
        "                      n_estimators= 150,\n",
        "                      learning_rate= 0.05,\n",
        "                      num_leaves = 30)\n",
        "lgmbr_pred = np.zeros((X_train.shape[0]))\n",
        "for tr_idx, val_idx in kf.split(X_train, y_train) :\n",
        "    tr_x, tr_y = X_train.iloc[tr_idx], y_train.iloc[tr_idx]\n",
        "    val_x, val_y = X_train.iloc[val_idx], y_train.iloc[val_idx]\n",
        "\n",
        "    \n",
        "    model.fit(tr_x, tr_y,\n",
        "              eval_set=[(val_x, val_y)],\n",
        "              eval_metric=[\"rmse\"],\n",
        "              early_stopping_rounds=300,\n",
        "              verbose=500)\n",
        "    \n",
        "    pred = np.expm1([0 if x < 0 else x for x in model.predict(val_x)])\n",
        "    sub_pred = np.expm1([0 if x < 0 else x for x in model.predict(X_test)])\n",
        "    rmse = np.sqrt(mean_squared_error(val_y, pred))\n",
        "    models.append(model.fit(tr_x, tr_y, eval_set=(val_x, val_y), early_stopping_rounds=100, verbose = 100))\n",
        "    rmse_list.append(rmse)\n",
        "    \n",
        "    lgmbr_pred  += (sub_pred / 10)"
      ],
      "execution_count": null,
      "outputs": [
        {
          "name": "stdout",
          "output_type": "stream",
          "text": [
            "Training until validation scores don't improve for 300 rounds.\n",
            "Early stopping, best iteration is:\n",
            "[41]\tvalid_0's l2: 2535.72\tvalid_0's rmse: 50.3559\n",
            "Training until validation scores don't improve for 100 rounds.\n",
            "[100]\tvalid_0's l2: 2542.1\n",
            "Early stopping, best iteration is:\n",
            "[41]\tvalid_0's l2: 2535.72\n",
            "Training until validation scores don't improve for 300 rounds.\n",
            "Early stopping, best iteration is:\n",
            "[63]\tvalid_0's l2: 2682.6\tvalid_0's rmse: 51.7939\n",
            "Training until validation scores don't improve for 100 rounds.\n",
            "[100]\tvalid_0's l2: 2686.22\n",
            "Early stopping, best iteration is:\n",
            "[63]\tvalid_0's l2: 2682.6\n",
            "Training until validation scores don't improve for 300 rounds.\n",
            "Early stopping, best iteration is:\n",
            "[101]\tvalid_0's l2: 3126.51\tvalid_0's rmse: 55.9152\n",
            "Training until validation scores don't improve for 100 rounds.\n",
            "[100]\tvalid_0's l2: 3126.85\n",
            "[200]\tvalid_0's l2: 3131.84\n",
            "Early stopping, best iteration is:\n",
            "[101]\tvalid_0's l2: 3126.51\n",
            "Training until validation scores don't improve for 300 rounds.\n",
            "Early stopping, best iteration is:\n",
            "[61]\tvalid_0's l2: 3186.16\tvalid_0's rmse: 56.4461\n",
            "Training until validation scores don't improve for 100 rounds.\n",
            "[100]\tvalid_0's l2: 3190.43\n",
            "Early stopping, best iteration is:\n",
            "[61]\tvalid_0's l2: 3186.16\n",
            "Training until validation scores don't improve for 300 rounds.\n",
            "Early stopping, best iteration is:\n",
            "[37]\tvalid_0's l2: 2406.78\tvalid_0's rmse: 49.0589\n",
            "Training until validation scores don't improve for 100 rounds.\n",
            "[100]\tvalid_0's l2: 2426.2\n",
            "Early stopping, best iteration is:\n",
            "[37]\tvalid_0's l2: 2406.78\n",
            "Training until validation scores don't improve for 300 rounds.\n",
            "[500]\tvalid_0's l2: 2960.97\tvalid_0's rmse: 54.4148\n",
            "Did not meet early stopping. Best iteration is:\n",
            "[309]\tvalid_0's l2: 2959.2\tvalid_0's rmse: 54.3985\n",
            "Training until validation scores don't improve for 100 rounds.\n",
            "[100]\tvalid_0's l2: 2961.49\n",
            "[200]\tvalid_0's l2: 2962.72\n",
            "Early stopping, best iteration is:\n",
            "[123]\tvalid_0's l2: 2959.89\n",
            "Training until validation scores don't improve for 300 rounds.\n",
            "Early stopping, best iteration is:\n",
            "[66]\tvalid_0's l2: 2967.55\tvalid_0's rmse: 54.4752\n",
            "Training until validation scores don't improve for 100 rounds.\n",
            "[100]\tvalid_0's l2: 2968.82\n",
            "Early stopping, best iteration is:\n",
            "[66]\tvalid_0's l2: 2967.55\n",
            "Training until validation scores don't improve for 300 rounds.\n",
            "Early stopping, best iteration is:\n",
            "[117]\tvalid_0's l2: 2777\tvalid_0's rmse: 52.6973\n",
            "Training until validation scores don't improve for 100 rounds.\n",
            "[100]\tvalid_0's l2: 2779.08\n",
            "[200]\tvalid_0's l2: 2779.39\n",
            "Early stopping, best iteration is:\n",
            "[117]\tvalid_0's l2: 2777\n",
            "Training until validation scores don't improve for 300 rounds.\n",
            "[500]\tvalid_0's l2: 2396.49\tvalid_0's rmse: 48.954\n",
            "Did not meet early stopping. Best iteration is:\n",
            "[446]\tvalid_0's l2: 2395.07\tvalid_0's rmse: 48.9394\n",
            "Training until validation scores don't improve for 100 rounds.\n",
            "[100]\tvalid_0's l2: 2399.52\n",
            "[200]\tvalid_0's l2: 2398.72\n",
            "[300]\tvalid_0's l2: 2397.81\n",
            "[400]\tvalid_0's l2: 2396.64\n",
            "[500]\tvalid_0's l2: 2396.49\n",
            "Did not meet early stopping. Best iteration is:\n",
            "[446]\tvalid_0's l2: 2395.07\n",
            "Training until validation scores don't improve for 300 rounds.\n",
            "Early stopping, best iteration is:\n",
            "[77]\tvalid_0's l2: 2929.77\tvalid_0's rmse: 54.1273\n",
            "Training until validation scores don't improve for 100 rounds.\n",
            "[100]\tvalid_0's l2: 2937.16\n",
            "Early stopping, best iteration is:\n",
            "[77]\tvalid_0's l2: 2929.77\n"
          ]
        }
      ]
    },
    {
      "cell_type": "code",
      "metadata": {
        "colab": {
          "base_uri": "https://localhost:8080/"
        },
        "id": "hLu0d6z591um",
        "outputId": "8bbfadbc-d9ce-49d2-83b8-97fda2894427"
      },
      "source": [
        "  print(model.score(X_train, y_train)) # train R2 score를 출력합니다.\n",
        "  print(model.score(X_test, y_test)) # test R2 score를 출력합니다"
      ],
      "execution_count": null,
      "outputs": [
        {
          "name": "stdout",
          "output_type": "stream",
          "text": [
            "0.0996361864548756\n",
            "0.08966720414972618\n"
          ]
        }
      ]
    },
    {
      "cell_type": "code",
      "metadata": {
        "colab": {
          "base_uri": "https://localhost:8080/",
          "height": 424
        },
        "id": "XJHY0_lZCe09",
        "outputId": "9dd53bb6-6338-4ba9-8cb3-9e76d30c071f"
      },
      "source": [
        "lgmbr_back  = np.e**y_test\n",
        "y_compare_lgmbr={'y_test':lgmbr_back, 'y_predicted':lgmbr_pred}\n",
        "y_compare_lgmbr=pd.DataFrame(y_compare_lgmbr)\n",
        "y_compare_lgmbr"
      ],
      "execution_count": null,
      "outputs": [
        {
          "data": {
            "text/html": [
              "<div>\n",
              "<style scoped>\n",
              "    .dataframe tbody tr th:only-of-type {\n",
              "        vertical-align: middle;\n",
              "    }\n",
              "\n",
              "    .dataframe tbody tr th {\n",
              "        vertical-align: top;\n",
              "    }\n",
              "\n",
              "    .dataframe thead th {\n",
              "        text-align: right;\n",
              "    }\n",
              "</style>\n",
              "<table border=\"1\" class=\"dataframe\">\n",
              "  <thead>\n",
              "    <tr style=\"text-align: right;\">\n",
              "      <th></th>\n",
              "      <th>y_test</th>\n",
              "      <th>y_predicted</th>\n",
              "    </tr>\n",
              "  </thead>\n",
              "  <tbody>\n",
              "    <tr>\n",
              "      <th>221548</th>\n",
              "      <td>2.0</td>\n",
              "      <td>2.275895</td>\n",
              "    </tr>\n",
              "    <tr>\n",
              "      <th>187255</th>\n",
              "      <td>6.0</td>\n",
              "      <td>4.612498</td>\n",
              "    </tr>\n",
              "    <tr>\n",
              "      <th>144673</th>\n",
              "      <td>2.0</td>\n",
              "      <td>5.016294</td>\n",
              "    </tr>\n",
              "    <tr>\n",
              "      <th>243334</th>\n",
              "      <td>57.0</td>\n",
              "      <td>9.305942</td>\n",
              "    </tr>\n",
              "    <tr>\n",
              "      <th>18192</th>\n",
              "      <td>2.0</td>\n",
              "      <td>4.335393</td>\n",
              "    </tr>\n",
              "    <tr>\n",
              "      <th>...</th>\n",
              "      <td>...</td>\n",
              "      <td>...</td>\n",
              "    </tr>\n",
              "    <tr>\n",
              "      <th>128258</th>\n",
              "      <td>58.0</td>\n",
              "      <td>7.415613</td>\n",
              "    </tr>\n",
              "    <tr>\n",
              "      <th>101492</th>\n",
              "      <td>4.0</td>\n",
              "      <td>21.757580</td>\n",
              "    </tr>\n",
              "    <tr>\n",
              "      <th>103367</th>\n",
              "      <td>9.0</td>\n",
              "      <td>4.442437</td>\n",
              "    </tr>\n",
              "    <tr>\n",
              "      <th>181111</th>\n",
              "      <td>16.0</td>\n",
              "      <td>13.470522</td>\n",
              "    </tr>\n",
              "    <tr>\n",
              "      <th>222837</th>\n",
              "      <td>6.0</td>\n",
              "      <td>2.950939</td>\n",
              "    </tr>\n",
              "  </tbody>\n",
              "</table>\n",
              "<p>70269 rows × 2 columns</p>\n",
              "</div>"
            ],
            "text/plain": [
              "        y_test  y_predicted\n",
              "221548     2.0     2.275895\n",
              "187255     6.0     4.612498\n",
              "144673     2.0     5.016294\n",
              "243334    57.0     9.305942\n",
              "18192      2.0     4.335393\n",
              "...        ...          ...\n",
              "128258    58.0     7.415613\n",
              "101492     4.0    21.757580\n",
              "103367     9.0     4.442437\n",
              "181111    16.0    13.470522\n",
              "222837     6.0     2.950939\n",
              "\n",
              "[70269 rows x 2 columns]"
            ]
          },
          "execution_count": 87,
          "metadata": {},
          "output_type": "execute_result"
        }
      ]
    },
    {
      "cell_type": "code",
      "metadata": {
        "colab": {
          "base_uri": "https://localhost:8080/"
        },
        "id": "JfBxYc5fsW9S",
        "outputId": "a0fd61ab-efe2-434c-ad84-d5431838ee61"
      },
      "source": [
        "lgmbr_rmse=rmse\n",
        "lgmbr_rmse"
      ],
      "execution_count": null,
      "outputs": [
        {
          "data": {
            "text/plain": [
              "13.048541235894625"
            ]
          },
          "execution_count": 73,
          "metadata": {},
          "output_type": "execute_result"
        }
      ]
    },
    {
      "cell_type": "code",
      "metadata": {
        "colab": {
          "base_uri": "https://localhost:8080/"
        },
        "id": "xoN1l4rDPnt_",
        "outputId": "e6992693-5fe2-48ab-adfd-a075ed223abf"
      },
      "source": [
        "lgmbr_predict =model.predict(test_x)\n",
        "predicted_lgmbr=np.e**lgmbr_predict\n",
        "sub_lgmbr=predicted_lgmbr-test_y"
      ],
      "execution_count": null,
      "outputs": [
        {
          "data": {
            "text/plain": [
              "36.661194647457556"
            ]
          },
          "execution_count": 96,
          "metadata": {},
          "output_type": "execute_result"
        }
      ]
    },
    {
      "cell_type": "code",
      "metadata": {
        "colab": {
          "base_uri": "https://localhost:8080/"
        },
        "id": "24OFiRLQpUGM",
        "outputId": "f464f78f-f68c-4f5d-f036-73fdb45de393"
      },
      "source": [
        "sub_lgmbr"
      ],
      "execution_count": null,
      "outputs": [
        {
          "data": {
            "text/plain": [
              "0       -1.267173\n",
              "1       -2.242992\n",
              "2       -0.789760\n",
              "3       -1.575330\n",
              "4        2.142388\n",
              "           ...   \n",
              "70591    0.607995\n",
              "70592   -0.943642\n",
              "70593   -2.802777\n",
              "70594    1.256038\n",
              "70595    2.167023\n",
              "Name: hist_d, Length: 70596, dtype: float64"
            ]
          },
          "execution_count": 89,
          "metadata": {},
          "output_type": "execute_result"
        }
      ]
    },
    {
      "cell_type": "markdown",
      "metadata": {
        "id": "ZeU2BAgmcFEc"
      },
      "source": [
        "GradientBoostingRegressor"
      ]
    },
    {
      "cell_type": "code",
      "metadata": {
        "id": "1E02elZxosaa"
      },
      "source": [
        "gbm = GradientBoostingRegressor(random_state = 42)\n",
        "rmse_list = []\n",
        "gb_pred = np.zeros((X_train.shape[0]))\n",
        "for tr_idx, val_idx in kf.split(X_train, y_train) :\n",
        "    tr_x, tr_y = X_train.iloc[tr_idx], y_train.iloc[tr_idx]\n",
        "    val_x, val_y = X_train.iloc[val_idx], y_train.iloc[val_idx]\n",
        "    \n",
        "    gbm.fit(tr_x, tr_y)\n",
        "    \n",
        "    pred = np.expm1([0 if x < 0 else x for x in gbm.predict(val_x)])\n",
        "    sub_pred = np.expm1([0 if x < 0 else x for x in gbm.predict(X_test)])\n",
        "    rmse = np.sqrt(mean_squared_error(val_y, pred))\n",
        "    \n",
        "    rmse_list.append(rmse)\n",
        "    \n",
        "    gb_pred += (sub_pred / 10)"
      ],
      "execution_count": null,
      "outputs": []
    },
    {
      "cell_type": "code",
      "metadata": {
        "colab": {
          "base_uri": "https://localhost:8080/"
        },
        "id": "cGe_H7Bnqz9J",
        "outputId": "0e971ee2-5074-4e46-c2b6-c948a7fc0e35"
      },
      "source": [
        "print(np.mean(rmse_list))\n",
        "print(gbm.score(X_train, y_train)) # train R2 score를 출력합니다.\n",
        "print(gbm.score(X_test, y_test)) # test R2 score를 출력합니다"
      ],
      "execution_count": null,
      "outputs": [
        {
          "name": "stdout",
          "output_type": "stream",
          "text": [
            "11.056244390431504\n",
            "0.15760231925094126\n",
            "0.15493995750870115\n"
          ]
        }
      ]
    },
    {
      "cell_type": "markdown",
      "metadata": {
        "id": "k9hpK6AdTLly"
      },
      "source": [
        "train_data로 통해 구한 평균 예측 값과 실제 값"
      ]
    },
    {
      "cell_type": "code",
      "metadata": {
        "colab": {
          "base_uri": "https://localhost:8080/"
        },
        "id": "P6PLZEBiTVgO",
        "outputId": "3a9be82a-da72-4e02-88d7-e0e7553508e1"
      },
      "source": [
        "max(y_test)"
      ],
      "execution_count": null,
      "outputs": [
        {
          "data": {
            "text/plain": [
              "7.077498053569231"
            ]
          },
          "execution_count": 133,
          "metadata": {},
          "output_type": "execute_result"
        }
      ]
    },
    {
      "cell_type": "code",
      "metadata": {
        "colab": {
          "base_uri": "https://localhost:8080/",
          "height": 460
        },
        "id": "Wtm21q5pcURZ",
        "outputId": "e4f06f85-77d2-43db-d850-6e532a4d1ba5"
      },
      "source": [
        "pre_mean=(xgb_pred  + lgb_pred + rf_pred + gb_pred + lgmbr_pred) / 5\n",
        "\n",
        "y_test_back  = np.e**y_test\n",
        "\n",
        "y_compare_whole={'y_test':y_test_back, 'y_predicted':pre_mean}\n",
        "y_compare_whole=pd.DataFrame(y_compare_whole)\n",
        "y_compare_whole\n"
      ],
      "execution_count": null,
      "outputs": [
        {
          "name": "stdout",
          "output_type": "stream",
          "text": [
            "[ 6.86590545  5.80795982 19.82989854 ...  5.68804152 91.23750188\n",
            " 37.10247517]\n"
          ]
        },
        {
          "data": {
            "text/html": [
              "<div>\n",
              "<style scoped>\n",
              "    .dataframe tbody tr th:only-of-type {\n",
              "        vertical-align: middle;\n",
              "    }\n",
              "\n",
              "    .dataframe tbody tr th {\n",
              "        vertical-align: top;\n",
              "    }\n",
              "\n",
              "    .dataframe thead th {\n",
              "        text-align: right;\n",
              "    }\n",
              "</style>\n",
              "<table border=\"1\" class=\"dataframe\">\n",
              "  <thead>\n",
              "    <tr style=\"text-align: right;\">\n",
              "      <th></th>\n",
              "      <th>y_test</th>\n",
              "      <th>y_predicted</th>\n",
              "    </tr>\n",
              "  </thead>\n",
              "  <tbody>\n",
              "    <tr>\n",
              "      <th>249387</th>\n",
              "      <td>23.0</td>\n",
              "      <td>6.865905</td>\n",
              "    </tr>\n",
              "    <tr>\n",
              "      <th>1110</th>\n",
              "      <td>3.0</td>\n",
              "      <td>5.807960</td>\n",
              "    </tr>\n",
              "    <tr>\n",
              "      <th>128473</th>\n",
              "      <td>579.0</td>\n",
              "      <td>19.829899</td>\n",
              "    </tr>\n",
              "    <tr>\n",
              "      <th>205206</th>\n",
              "      <td>62.0</td>\n",
              "      <td>6.637857</td>\n",
              "    </tr>\n",
              "    <tr>\n",
              "      <th>9140</th>\n",
              "      <td>25.0</td>\n",
              "      <td>4.526178</td>\n",
              "    </tr>\n",
              "    <tr>\n",
              "      <th>...</th>\n",
              "      <td>...</td>\n",
              "      <td>...</td>\n",
              "    </tr>\n",
              "    <tr>\n",
              "      <th>168180</th>\n",
              "      <td>5.0</td>\n",
              "      <td>3.211284</td>\n",
              "    </tr>\n",
              "    <tr>\n",
              "      <th>249728</th>\n",
              "      <td>29.0</td>\n",
              "      <td>15.795703</td>\n",
              "    </tr>\n",
              "    <tr>\n",
              "      <th>143675</th>\n",
              "      <td>2.0</td>\n",
              "      <td>5.688042</td>\n",
              "    </tr>\n",
              "    <tr>\n",
              "      <th>33345</th>\n",
              "      <td>228.0</td>\n",
              "      <td>91.237502</td>\n",
              "    </tr>\n",
              "    <tr>\n",
              "      <th>68927</th>\n",
              "      <td>18.0</td>\n",
              "      <td>37.102475</td>\n",
              "    </tr>\n",
              "  </tbody>\n",
              "</table>\n",
              "<p>140538 rows × 2 columns</p>\n",
              "</div>"
            ],
            "text/plain": [
              "        y_test  y_predicted\n",
              "249387    23.0     6.865905\n",
              "1110       3.0     5.807960\n",
              "128473   579.0    19.829899\n",
              "205206    62.0     6.637857\n",
              "9140      25.0     4.526178\n",
              "...        ...          ...\n",
              "168180     5.0     3.211284\n",
              "249728    29.0    15.795703\n",
              "143675     2.0     5.688042\n",
              "33345    228.0    91.237502\n",
              "68927     18.0    37.102475\n",
              "\n",
              "[140538 rows x 2 columns]"
            ]
          },
          "execution_count": 131,
          "metadata": {},
          "output_type": "execute_result"
        }
      ]
    },
    {
      "cell_type": "code",
      "metadata": {
        "id": "fGKnJ3qAhLpf"
      },
      "source": [
        "gbm_predict =gbm.predict(test_x)\n",
        "predicted_gbm=np.e**gbm_predict\n",
        "sub_gbm=predicted_gbm-test_y"
      ],
      "execution_count": null,
      "outputs": []
    },
    {
      "cell_type": "markdown",
      "metadata": {
        "id": "BQdFKCgGQTIM"
      },
      "source": [
        "전체 모델 평균에 2021년 데이터 범위 맞추기"
      ]
    },
    {
      "cell_type": "code",
      "metadata": {
        "id": "3Wo9mFYIQSl6"
      },
      "source": [
        "result=(sub_gbm+ sub_lgmbr + sub_rf +sub_xgb)/4\n",
        "for i in range(len(result)):\n",
        "  if result[i]<0:\n",
        "    result[i]=0\n",
        "  if result[i]>146:\n",
        "    result[i]=146\n",
        "print(result)\n",
        "\n",
        "submission[\"hold_d\"] = np.round(result)\n",
        "submission.to_csv(\"dacon_baseline.csv\", index = False)\n",
        "submission"
      ],
      "execution_count": null,
      "outputs": []
    },
    {
      "cell_type": "markdown",
      "metadata": {
        "id": "sLT3Dbc0bzQF"
      },
      "source": [
        "## Data set is ready -> Feature extraction\n",
        "\n",
        "#### 1. Adjusted R2 = 1 – [(1-R2)*(n-1)/(n-k-1)]\n",
        "R2: The R2 of the model\n",
        "n: The number of observations\n",
        "k: The number of predictor variables"
      ]
    },
    {
      "cell_type": "code",
      "metadata": {
        "id": "jMFJCJ0NcHLp"
      },
      "source": [
        "#관계 예시\n",
        "\n",
        "import statsmodels.api as sm\n",
        "import pandas as pd\n",
        "\n",
        "#define URL where dataset is located\n",
        "url = \"https://raw.githubusercontent.com/Statology/Python-Guides/main/mtcars.csv\"\n",
        "\n",
        "#read in data\n",
        "data = pd.read_csv(url)\n",
        "\n",
        "X, y = data[[\"mpg\", \"wt\", \"drat\", \"qsec\"]], data.hp\n",
        "X = sm.add_constant(X)\n",
        "model = sm.OLS(y, X).fit()\n",
        "\n",
        "#display adjusted R-squared\n",
        "print(model.rsquared_adj)\n",
        "data"
      ],
      "execution_count": null,
      "outputs": []
    },
    {
      "cell_type": "code",
      "metadata": {
        "colab": {
          "base_uri": "https://localhost:8080/"
        },
        "id": "xE00V0pWbqyh",
        "outputId": "a45898a4-9f91-4ad4-bb0d-257e3c16c1f6"
      },
      "source": [
        "# 관계 나타내기\n",
        "import statsmodels.api as sm\n",
        "# data1 =X_train1\n",
        "#define response variable\n",
        "# y = Y_train1\n",
        "y=new_df['hist_d']\n",
        "#define predictor variables\n",
        "x = new_df.drop(['hist_d'], axis=1)\n",
        "# test_data = test_data.drop(['tot_aet_amt_group'], axis=1)\n",
        "\n",
        "#add constant to predictor variables\n",
        "# x= data1[['cus_aet_stn_cd']]\n",
        "x = sm.add_constant(x)\n",
        "\n",
        "#fit linear regression model\n",
        "model = sm.OLS(y, x).fit()\n",
        "\n",
        "#view model summaryf\n",
        "print(model.summary())"
      ],
      "execution_count": null,
      "outputs": [
        {
          "name": "stderr",
          "output_type": "stream",
          "text": [
            "/usr/local/lib/python3.7/dist-packages/statsmodels/tools/_testing.py:19: FutureWarning: pandas.util.testing is deprecated. Use the functions in the public API at pandas.testing instead.\n",
            "  import pandas.util.testing as tm\n"
          ]
        },
        {
          "name": "stdout",
          "output_type": "stream",
          "text": [
            "                            OLS Regression Results                            \n",
            "==============================================================================\n",
            "Dep. Variable:                 hist_d   R-squared:                       0.085\n",
            "Model:                            OLS   Adj. R-squared:                  0.085\n",
            "Method:                 Least Squares   F-statistic:                     2020.\n",
            "Date:                Wed, 06 Oct 2021   Prob (F-statistic):               0.00\n",
            "Time:                        08:31:19   Log-Likelihood:            -4.5559e+05\n",
            "No. Observations:              281076   AIC:                         9.112e+05\n",
            "Df Residuals:                  281062   BIC:                         9.114e+05\n",
            "Df Model:                          13                                         \n",
            "Covariance Type:            nonrobust                                         \n",
            "====================================================================================\n",
            "                       coef    std err          t      P>|t|      [0.025      0.975]\n",
            "------------------------------------------------------------------------------------\n",
            "const               -3.1829      1.002     -3.177      0.001      -5.146      -1.219\n",
            "tot_aet_amt          1.0053      0.018     56.181      0.000       0.970       1.040\n",
            "sb_amt               0.1171      0.014      8.316      0.000       0.090       0.145\n",
            "stk_p                0.5266      0.019     28.105      0.000       0.490       0.563\n",
            "krx_per             -0.2716      0.014    -18.733      0.000      -0.300      -0.243\n",
            "per_cd              -0.0156      0.004     -3.516      0.000      -0.024      -0.007\n",
            "interest_rate        0.2263      0.010     23.283      0.000       0.207       0.245\n",
            "asset_n             -0.1035      0.024     -4.403      0.000      -0.150      -0.057\n",
            "ivst_style_n         0.3655      0.009     42.642      0.000       0.349       0.382\n",
            "life_n               0.2064      0.034      6.138      0.000       0.140       0.272\n",
            "service_n            0.4489      0.024     18.808      0.000       0.402       0.496\n",
            "investing_time_n    -0.8865      0.409     -2.167      0.030      -1.688      -0.085\n",
            "mrkcap_n             0.0227      0.002     11.598      0.000       0.019       0.027\n",
            "market_div_n        -0.2012      0.002    -83.030      0.000      -0.206      -0.196\n",
            "==============================================================================\n",
            "Omnibus:                    26399.036   Durbin-Watson:                   1.523\n",
            "Prob(Omnibus):                  0.000   Jarque-Bera (JB):            34618.765\n",
            "Skew:                           0.857   Prob(JB):                         0.00\n",
            "Kurtosis:                       3.141   Cond. No.                     6.47e+03\n",
            "==============================================================================\n",
            "\n",
            "Warnings:\n",
            "[1] Standard Errors assume that the covariance matrix of the errors is correctly specified.\n",
            "[2] The condition number is large, 6.47e+03. This might indicate that there are\n",
            "strong multicollinearity or other numerical problems.\n"
          ]
        }
      ]
    },
    {
      "cell_type": "markdown",
      "metadata": {
        "id": "JZv-ZNARo2xe"
      },
      "source": [
        "hist로 부터 생성한 주식 보유일 조금이라도 팔았으면 값을 가져왔다."
      ]
    },
    {
      "cell_type": "code",
      "metadata": {
        "colab": {
          "base_uri": "https://localhost:8080/",
          "height": 762
        },
        "id": "cMygA2j5s3he",
        "outputId": "769dcdd5-f2e4-47c8-f1f5-8ac56c2d0012"
      },
      "source": [
        "id_same =hist['act_id']== id_list[1]\n",
        "id_check=hist[id_same]\n",
        "id_check"
      ],
      "execution_count": null,
      "outputs": [
        {
          "data": {
            "text/html": [
              "<div>\n",
              "<style scoped>\n",
              "    .dataframe tbody tr th:only-of-type {\n",
              "        vertical-align: middle;\n",
              "    }\n",
              "\n",
              "    .dataframe tbody tr th {\n",
              "        vertical-align: top;\n",
              "    }\n",
              "\n",
              "    .dataframe thead th {\n",
              "        text-align: right;\n",
              "    }\n",
              "</style>\n",
              "<table border=\"1\" class=\"dataframe\">\n",
              "  <thead>\n",
              "    <tr style=\"text-align: right;\">\n",
              "      <th></th>\n",
              "      <th>act_id</th>\n",
              "      <th>bse_dt</th>\n",
              "      <th>iem_cd</th>\n",
              "      <th>bnc_qty</th>\n",
              "      <th>tot_aet_amt</th>\n",
              "      <th>stk_par_pr</th>\n",
              "      <th>sb_amt</th>\n",
              "      <th>stk_p</th>\n",
              "    </tr>\n",
              "  </thead>\n",
              "  <tbody>\n",
              "    <tr>\n",
              "      <th>0</th>\n",
              "      <td>1119c23c3a504ca7b75060277410c0f6fb9018ec7638c2...</td>\n",
              "      <td>20200820</td>\n",
              "      <td>A008770</td>\n",
              "      <td>40</td>\n",
              "      <td>2828000</td>\n",
              "      <td>5000</td>\n",
              "      <td>23</td>\n",
              "      <td>70700.0</td>\n",
              "    </tr>\n",
              "    <tr>\n",
              "      <th>1</th>\n",
              "      <td>1119c23c3a504ca7b75060277410c0f6fb9018ec7638c2...</td>\n",
              "      <td>20200623</td>\n",
              "      <td>A008770</td>\n",
              "      <td>20</td>\n",
              "      <td>1390000</td>\n",
              "      <td>5000</td>\n",
              "      <td>23</td>\n",
              "      <td>69500.0</td>\n",
              "    </tr>\n",
              "    <tr>\n",
              "      <th>2</th>\n",
              "      <td>1119c23c3a504ca7b75060277410c0f6fb9018ec7638c2...</td>\n",
              "      <td>20160104</td>\n",
              "      <td>A005940</td>\n",
              "      <td>311</td>\n",
              "      <td>2982490</td>\n",
              "      <td>5000</td>\n",
              "      <td>23</td>\n",
              "      <td>9590.0</td>\n",
              "    </tr>\n",
              "    <tr>\n",
              "      <th>3</th>\n",
              "      <td>1119c23c3a504ca7b75060277410c0f6fb9018ec7638c2...</td>\n",
              "      <td>20200814</td>\n",
              "      <td>A005930</td>\n",
              "      <td>40</td>\n",
              "      <td>2320000</td>\n",
              "      <td>100</td>\n",
              "      <td>23</td>\n",
              "      <td>58000.0</td>\n",
              "    </tr>\n",
              "    <tr>\n",
              "      <th>4</th>\n",
              "      <td>1119c23c3a504ca7b75060277410c0f6fb9018ec7638c2...</td>\n",
              "      <td>20200623</td>\n",
              "      <td>A005930</td>\n",
              "      <td>20</td>\n",
              "      <td>1028000</td>\n",
              "      <td>100</td>\n",
              "      <td>23</td>\n",
              "      <td>51400.0</td>\n",
              "    </tr>\n",
              "    <tr>\n",
              "      <th>5</th>\n",
              "      <td>1119c23c3a504ca7b75060277410c0f6fb9018ec7638c2...</td>\n",
              "      <td>20200903</td>\n",
              "      <td>A005880</td>\n",
              "      <td>0</td>\n",
              "      <td>0</td>\n",
              "      <td>5000</td>\n",
              "      <td>23</td>\n",
              "      <td>NaN</td>\n",
              "    </tr>\n",
              "    <tr>\n",
              "      <th>6</th>\n",
              "      <td>1119c23c3a504ca7b75060277410c0f6fb9018ec7638c2...</td>\n",
              "      <td>20170904</td>\n",
              "      <td>A005880</td>\n",
              "      <td>150</td>\n",
              "      <td>5265000</td>\n",
              "      <td>5000</td>\n",
              "      <td>23</td>\n",
              "      <td>35100.0</td>\n",
              "    </tr>\n",
              "    <tr>\n",
              "      <th>7</th>\n",
              "      <td>1119c23c3a504ca7b75060277410c0f6fb9018ec7638c2...</td>\n",
              "      <td>20170706</td>\n",
              "      <td>A005490</td>\n",
              "      <td>15</td>\n",
              "      <td>4410000</td>\n",
              "      <td>5000</td>\n",
              "      <td>23</td>\n",
              "      <td>294000.0</td>\n",
              "    </tr>\n",
              "    <tr>\n",
              "      <th>8</th>\n",
              "      <td>1119c23c3a504ca7b75060277410c0f6fb9018ec7638c2...</td>\n",
              "      <td>20200811</td>\n",
              "      <td>A003620</td>\n",
              "      <td>0</td>\n",
              "      <td>0</td>\n",
              "      <td>5000</td>\n",
              "      <td>23</td>\n",
              "      <td>NaN</td>\n",
              "    </tr>\n",
              "    <tr>\n",
              "      <th>9</th>\n",
              "      <td>1119c23c3a504ca7b75060277410c0f6fb9018ec7638c2...</td>\n",
              "      <td>20160104</td>\n",
              "      <td>A003620</td>\n",
              "      <td>270</td>\n",
              "      <td>2087100</td>\n",
              "      <td>5000</td>\n",
              "      <td>23</td>\n",
              "      <td>7730.0</td>\n",
              "    </tr>\n",
              "    <tr>\n",
              "      <th>10</th>\n",
              "      <td>1119c23c3a504ca7b75060277410c0f6fb9018ec7638c2...</td>\n",
              "      <td>20200914</td>\n",
              "      <td>A137400</td>\n",
              "      <td>0</td>\n",
              "      <td>0</td>\n",
              "      <td>500</td>\n",
              "      <td>23</td>\n",
              "      <td>NaN</td>\n",
              "    </tr>\n",
              "    <tr>\n",
              "      <th>11</th>\n",
              "      <td>1119c23c3a504ca7b75060277410c0f6fb9018ec7638c2...</td>\n",
              "      <td>20200717</td>\n",
              "      <td>A137400</td>\n",
              "      <td>100</td>\n",
              "      <td>1400000</td>\n",
              "      <td>500</td>\n",
              "      <td>23</td>\n",
              "      <td>14000.0</td>\n",
              "    </tr>\n",
              "    <tr>\n",
              "      <th>12</th>\n",
              "      <td>1119c23c3a504ca7b75060277410c0f6fb9018ec7638c2...</td>\n",
              "      <td>20201229</td>\n",
              "      <td>A066570</td>\n",
              "      <td>0</td>\n",
              "      <td>0</td>\n",
              "      <td>5000</td>\n",
              "      <td>23</td>\n",
              "      <td>NaN</td>\n",
              "    </tr>\n",
              "    <tr>\n",
              "      <th>13</th>\n",
              "      <td>1119c23c3a504ca7b75060277410c0f6fb9018ec7638c2...</td>\n",
              "      <td>20201111</td>\n",
              "      <td>A066570</td>\n",
              "      <td>85</td>\n",
              "      <td>7378000</td>\n",
              "      <td>5000</td>\n",
              "      <td>23</td>\n",
              "      <td>86800.0</td>\n",
              "    </tr>\n",
              "    <tr>\n",
              "      <th>14</th>\n",
              "      <td>1119c23c3a504ca7b75060277410c0f6fb9018ec7638c2...</td>\n",
              "      <td>20200908</td>\n",
              "      <td>A066570</td>\n",
              "      <td>50</td>\n",
              "      <td>4290000</td>\n",
              "      <td>5000</td>\n",
              "      <td>23</td>\n",
              "      <td>85800.0</td>\n",
              "    </tr>\n",
              "    <tr>\n",
              "      <th>15</th>\n",
              "      <td>1119c23c3a504ca7b75060277410c0f6fb9018ec7638c2...</td>\n",
              "      <td>20200903</td>\n",
              "      <td>A035720</td>\n",
              "      <td>0</td>\n",
              "      <td>0</td>\n",
              "      <td>500</td>\n",
              "      <td>23</td>\n",
              "      <td>NaN</td>\n",
              "    </tr>\n",
              "    <tr>\n",
              "      <th>16</th>\n",
              "      <td>1119c23c3a504ca7b75060277410c0f6fb9018ec7638c2...</td>\n",
              "      <td>20200629</td>\n",
              "      <td>A035720</td>\n",
              "      <td>20</td>\n",
              "      <td>5350000</td>\n",
              "      <td>500</td>\n",
              "      <td>23</td>\n",
              "      <td>267500.0</td>\n",
              "    </tr>\n",
              "    <tr>\n",
              "      <th>17</th>\n",
              "      <td>1119c23c3a504ca7b75060277410c0f6fb9018ec7638c2...</td>\n",
              "      <td>20201123</td>\n",
              "      <td>A035420</td>\n",
              "      <td>20</td>\n",
              "      <td>5630000</td>\n",
              "      <td>100</td>\n",
              "      <td>23</td>\n",
              "      <td>281500.0</td>\n",
              "    </tr>\n",
              "    <tr>\n",
              "      <th>18</th>\n",
              "      <td>1119c23c3a504ca7b75060277410c0f6fb9018ec7638c2...</td>\n",
              "      <td>20200908</td>\n",
              "      <td>A035420</td>\n",
              "      <td>12</td>\n",
              "      <td>3732000</td>\n",
              "      <td>100</td>\n",
              "      <td>23</td>\n",
              "      <td>311000.0</td>\n",
              "    </tr>\n",
              "    <tr>\n",
              "      <th>19</th>\n",
              "      <td>1119c23c3a504ca7b75060277410c0f6fb9018ec7638c2...</td>\n",
              "      <td>20200623</td>\n",
              "      <td>A033780</td>\n",
              "      <td>20</td>\n",
              "      <td>1576000</td>\n",
              "      <td>5000</td>\n",
              "      <td>23</td>\n",
              "      <td>78800.0</td>\n",
              "    </tr>\n",
              "    <tr>\n",
              "      <th>20</th>\n",
              "      <td>1119c23c3a504ca7b75060277410c0f6fb9018ec7638c2...</td>\n",
              "      <td>20201214</td>\n",
              "      <td>A032640</td>\n",
              "      <td>135</td>\n",
              "      <td>1593000</td>\n",
              "      <td>5000</td>\n",
              "      <td>23</td>\n",
              "      <td>11800.0</td>\n",
              "    </tr>\n",
              "    <tr>\n",
              "      <th>21</th>\n",
              "      <td>1119c23c3a504ca7b75060277410c0f6fb9018ec7638c2...</td>\n",
              "      <td>20160115</td>\n",
              "      <td>A017810</td>\n",
              "      <td>0</td>\n",
              "      <td>0</td>\n",
              "      <td>5000</td>\n",
              "      <td>23</td>\n",
              "      <td>NaN</td>\n",
              "    </tr>\n",
              "    <tr>\n",
              "      <th>22</th>\n",
              "      <td>1119c23c3a504ca7b75060277410c0f6fb9018ec7638c2...</td>\n",
              "      <td>20160104</td>\n",
              "      <td>A017810</td>\n",
              "      <td>50</td>\n",
              "      <td>8900000</td>\n",
              "      <td>5000</td>\n",
              "      <td>23</td>\n",
              "      <td>178000.0</td>\n",
              "    </tr>\n",
              "  </tbody>\n",
              "</table>\n",
              "</div>"
            ],
            "text/plain": [
              "                                               act_id    bse_dt   iem_cd  \\\n",
              "0   1119c23c3a504ca7b75060277410c0f6fb9018ec7638c2...  20200820  A008770   \n",
              "1   1119c23c3a504ca7b75060277410c0f6fb9018ec7638c2...  20200623  A008770   \n",
              "2   1119c23c3a504ca7b75060277410c0f6fb9018ec7638c2...  20160104  A005940   \n",
              "3   1119c23c3a504ca7b75060277410c0f6fb9018ec7638c2...  20200814  A005930   \n",
              "4   1119c23c3a504ca7b75060277410c0f6fb9018ec7638c2...  20200623  A005930   \n",
              "5   1119c23c3a504ca7b75060277410c0f6fb9018ec7638c2...  20200903  A005880   \n",
              "6   1119c23c3a504ca7b75060277410c0f6fb9018ec7638c2...  20170904  A005880   \n",
              "7   1119c23c3a504ca7b75060277410c0f6fb9018ec7638c2...  20170706  A005490   \n",
              "8   1119c23c3a504ca7b75060277410c0f6fb9018ec7638c2...  20200811  A003620   \n",
              "9   1119c23c3a504ca7b75060277410c0f6fb9018ec7638c2...  20160104  A003620   \n",
              "10  1119c23c3a504ca7b75060277410c0f6fb9018ec7638c2...  20200914  A137400   \n",
              "11  1119c23c3a504ca7b75060277410c0f6fb9018ec7638c2...  20200717  A137400   \n",
              "12  1119c23c3a504ca7b75060277410c0f6fb9018ec7638c2...  20201229  A066570   \n",
              "13  1119c23c3a504ca7b75060277410c0f6fb9018ec7638c2...  20201111  A066570   \n",
              "14  1119c23c3a504ca7b75060277410c0f6fb9018ec7638c2...  20200908  A066570   \n",
              "15  1119c23c3a504ca7b75060277410c0f6fb9018ec7638c2...  20200903  A035720   \n",
              "16  1119c23c3a504ca7b75060277410c0f6fb9018ec7638c2...  20200629  A035720   \n",
              "17  1119c23c3a504ca7b75060277410c0f6fb9018ec7638c2...  20201123  A035420   \n",
              "18  1119c23c3a504ca7b75060277410c0f6fb9018ec7638c2...  20200908  A035420   \n",
              "19  1119c23c3a504ca7b75060277410c0f6fb9018ec7638c2...  20200623  A033780   \n",
              "20  1119c23c3a504ca7b75060277410c0f6fb9018ec7638c2...  20201214  A032640   \n",
              "21  1119c23c3a504ca7b75060277410c0f6fb9018ec7638c2...  20160115  A017810   \n",
              "22  1119c23c3a504ca7b75060277410c0f6fb9018ec7638c2...  20160104  A017810   \n",
              "\n",
              "    bnc_qty  tot_aet_amt  stk_par_pr  sb_amt     stk_p  \n",
              "0        40      2828000        5000      23   70700.0  \n",
              "1        20      1390000        5000      23   69500.0  \n",
              "2       311      2982490        5000      23    9590.0  \n",
              "3        40      2320000         100      23   58000.0  \n",
              "4        20      1028000         100      23   51400.0  \n",
              "5         0            0        5000      23       NaN  \n",
              "6       150      5265000        5000      23   35100.0  \n",
              "7        15      4410000        5000      23  294000.0  \n",
              "8         0            0        5000      23       NaN  \n",
              "9       270      2087100        5000      23    7730.0  \n",
              "10        0            0         500      23       NaN  \n",
              "11      100      1400000         500      23   14000.0  \n",
              "12        0            0        5000      23       NaN  \n",
              "13       85      7378000        5000      23   86800.0  \n",
              "14       50      4290000        5000      23   85800.0  \n",
              "15        0            0         500      23       NaN  \n",
              "16       20      5350000         500      23  267500.0  \n",
              "17       20      5630000         100      23  281500.0  \n",
              "18       12      3732000         100      23  311000.0  \n",
              "19       20      1576000        5000      23   78800.0  \n",
              "20      135      1593000        5000      23   11800.0  \n",
              "21        0            0        5000      23       NaN  \n",
              "22       50      8900000        5000      23  178000.0  "
            ]
          },
          "execution_count": 16,
          "metadata": {},
          "output_type": "execute_result"
        }
      ]
    },
    {
      "cell_type": "code",
      "metadata": {
        "colab": {
          "base_uri": "https://localhost:8080/"
        },
        "id": "pogxN_NoMaB_",
        "outputId": "c7d935e5-917b-4e31-e4e4-7f027aa7e4e7"
      },
      "source": [
        "new_arr=[]\n",
        "\n",
        "id_list= hist.drop_duplicates(['act_id'])\n",
        "id_list=list(id_list['act_id'])\n",
        "\n",
        "iem_list= hist.drop_duplicates(['iem_cd'])\n",
        "iem_list=list(iem_list['iem_cd'])\n",
        "id_same =hist['act_id']== id_list[1]\n",
        "id_check=hist[id_same]\n",
        "sub_iem_list=list(id_check['iem_cd'])\n",
        "sub_dt_list =list(id_check['bse_dt'])\n",
        "sub_minums_list=list(id_check['bnc_qty'])\n",
        "\n",
        "dict={}\n",
        "check=0\n",
        "for i in range(len(sub_iem_list)-1):\n",
        "  if sub_iem_list[i] ==sub_iem_list[i+1] and sub_dt_list[i]>sub_dt_list[i+1]:\n",
        "    check=0\n",
        "  elif sub_iem_list[i] ==sub_iem_list[i+1] and sub_dt_list[i]<sub_dt_list[i+1]:\n",
        "    check=1\n",
        "\n",
        "checking=[i for i in range(len(sub_iem_list))]\n",
        "if check==0:\n",
        "  for i in range(len(sub_iem_list)-1):\n",
        "    if sub_iem_list[i] ==sub_iem_list[i+1] and sub_dt_list[i]>sub_dt_list[i+1]:\n",
        "      now = datetime.strptime(str(sub_dt_list[i]), \"%Y%m%d\")\n",
        "      date_to_compare = datetime.strptime(str(sub_dt_list[i+1]), \"%Y%m%d\")\n",
        "      date_diff = str(now - date_to_compare)\n",
        "      if date_diff.split(' day')[0]:\n",
        "        dict[i]=int(date_diff.split(' day')[0])\n",
        "        dict[i+1]= 0\n",
        "      # else:\n",
        "      #   dict[i]= int(date_diff.split(' days')[0])\n",
        "      #   dict[i+1]= 0\n",
        "\n",
        "\n",
        "  for i in range(len(checking)):\n",
        "    if checking[i] not in dict.keys():\n",
        "      dict[i]=1\n",
        "  for i in range(0,len(sub_iem_list)-1):\n",
        "    if dict[i+1]==0:\n",
        "      dict[i+1]=dict[i]\n",
        "\n",
        "\n",
        "  for i in range(len(sub_iem_list)-1):\n",
        "    if sub_minums_list[i]!=0 and sub_iem_list[i] ==sub_iem_list[i+1]:\n",
        "      dict[i]+=dict[i+1]\n",
        "    elif sub_minums_list[i]==0 and sub_iem_list[i] ==sub_iem_list[i+1]:\n",
        "      dict[i]=dict[i+1]\n",
        "\n",
        "      \n",
        "  for i1 in range(len(dict)):\n",
        "    new_arr.append(dict[i1])\n",
        "\n",
        "elif check==1:\n",
        "  for i in range(0,len(sub_iem_list)-1):\n",
        "    if sub_iem_list[i] ==sub_iem_list[i+1] and sub_dt_list[i]<sub_dt_list[i+1]:\n",
        "      now = datetime.strptime(str(sub_dt_list[i+1]), \"%Y%m%d\")\n",
        "      date_to_compare = datetime.strptime(str(sub_dt_list[i]), \"%Y%m%d\")\n",
        "      date_diff = str(now - date_to_compare)\n",
        "      # dict[i]=0\n",
        "      if sub_minums_list[i+1]==0:\n",
        "        dict[i]=int(date_diff.split(' day')[0])\n",
        "        dict[i+1]=0\n",
        "        dict[i+1]+=dict[i]\n",
        "\n",
        "  # for i in range(len(checking)):\n",
        "  #   if checking[i] not in dict.keys():\n",
        "  #     dict[i]=1\n",
        "  # for i in range(0,len(sub_iem_list)-1):\n",
        "  #   if dict[i]==0:\n",
        "  #     dict[i]=dict[i+1]\n",
        "\n",
        "\n",
        "  # for i in range(len(sub_iem_list)-1):\n",
        "  #   if sub_minums_list[i]!=0 and sub_iem_list[i] ==sub_iem_list[i+1]:\n",
        "  #     dict[i]+=dict[i+1]\n",
        "  #   elif sub_minums_list[i]==0 and sub_iem_list[i] ==sub_iem_list[i+1]:\n",
        "  #     dict[i]=dict[i+1]\n",
        "\n",
        "      \n",
        "  # for i1 in range(len(dict)):\n",
        "  #   new_arr.append(dict[i1])\n",
        "        \n",
        "dict"
      ],
      "execution_count": null,
      "outputs": [
        {
          "data": {
            "text/plain": [
              "{1: 12,\n",
              " 2: 12,\n",
              " 3: 48,\n",
              " 4: 48,\n",
              " 12: 118,\n",
              " 13: 118,\n",
              " 14: 77,\n",
              " 15: 77,\n",
              " 25: 10,\n",
              " 26: 10,\n",
              " 27: 125,\n",
              " 28: 125,\n",
              " 29: 59,\n",
              " 30: 59,\n",
              " 31: 13,\n",
              " 32: 13,\n",
              " 36: 43,\n",
              " 37: 43,\n",
              " 38: 4,\n",
              " 39: 4,\n",
              " 42: 5,\n",
              " 43: 5,\n",
              " 44: 18,\n",
              " 45: 18,\n",
              " 46: 1,\n",
              " 47: 1}"
            ]
          },
          "execution_count": 31,
          "metadata": {},
          "output_type": "execute_result"
        }
      ]
    },
    {
      "cell_type": "code",
      "metadata": {
        "id": "CkLLQIFgfeI3"
      },
      "source": [
        "from datetime import datetime\n",
        "new_arr=[]\n",
        "\n",
        "id_list= hist.drop_duplicates(['act_id'])\n",
        "id_list=list(id_list['act_id'])\n",
        "\n",
        "iem_list= hist.drop_duplicates(['iem_cd'])\n",
        "iem_list=list(iem_list['iem_cd'])\n",
        "id_same =hist['act_id']== id_list[1]\n",
        "id_check=hist[id_same]\n",
        "sub_iem_list=list(id_check['iem_cd'])\n",
        "sub_dt_list =list(id_check['bse_dt'])\n",
        "\n",
        "def solution(k):\n",
        "  id_same =hist['act_id']== id_list[k]\n",
        "  id_check=hist[id_same]\n",
        "  sub_iem_list=list(id_check['iem_cd'])\n",
        "  sub_dt_list =list(id_check['bse_dt'])\n",
        "  sub_minums_list=list(id_check['bnc_qty'])\n",
        "\n",
        "  dict={}\n",
        "  check=0\n",
        "  for i in range(len(sub_iem_list)-1):\n",
        "    if sub_iem_list[i] ==sub_iem_list[i+1] and sub_dt_list[i]>sub_dt_list[i+1]:\n",
        "      check=0\n",
        "    elif sub_iem_list[i] ==sub_iem_list[i+1] and sub_dt_list[i]<sub_dt_list[i+1]:\n",
        "      check=1\n",
        "\n",
        "  checking=[i for i in range(len(sub_iem_list))]\n",
        "  if check==0:\n",
        "    for i in range(len(sub_iem_list)-1):\n",
        "      if sub_iem_list[i] ==sub_iem_list[i+1] and sub_dt_list[i]>sub_dt_list[i+1]:\n",
        "        now = datetime.strptime(str(sub_dt_list[i]), \"%Y%m%d\")\n",
        "        date_to_compare = datetime.strptime(str(sub_dt_list[i+1]), \"%Y%m%d\")\n",
        "        date_diff = str(now - date_to_compare)\n",
        "        if date_diff.split(' day')[0]:\n",
        "          dict[i]=int(date_diff.split(' day')[0])\n",
        "          dict[i+1]= 0\n",
        "        else:\n",
        "          dict[i]= int(date_diff.split(' days')[0])\n",
        "          dict[i+1]= 0\n",
        "    for i in range(len(checking)):\n",
        "      if checking[i] not in dict.keys():\n",
        "        dict[i]=1\n",
        "    for i in range(0,len(sub_iem_list)-1):\n",
        "      if dict[i+1]==0:\n",
        "        dict[i+1]=dict[i]\n",
        "\n",
        "    for i1 in range(len(dict)):\n",
        "      new_arr.append(dict[i1])\n",
        "\n",
        "  elif check==1:\n",
        "    for i in range(0,len(sub_iem_list)-1):\n",
        "      if sub_iem_list[i] ==sub_iem_list[i+1] and sub_dt_list[i]<sub_dt_list[i+1]:\n",
        "        now = datetime.strptime(str(sub_dt_list[i+1]), \"%Y%m%d\")\n",
        "        date_to_compare = datetime.strptime(str(sub_dt_list[i]), \"%Y%m%d\")\n",
        "        date_diff = str(now - date_to_compare)\n",
        "        if date_diff.split(' day')[0]:\n",
        "          dict[i]=int(date_diff.split(' day')[0])\n",
        "          dict[i+1]= int(date_diff.split(' day')[0])\n",
        "        else:\n",
        "          dict[i]= int(date_diff.split(' days')[0])\n",
        "          if dict[i+1]==0:\n",
        "            dict[i+1]=dict[i]\n",
        "          else:\n",
        "            dict[i]= int(date_diff.split(' days')[0])\n",
        "\n",
        "    for i in range(len(checking)):\n",
        "      if checking[i] not in dict.keys():\n",
        "        dict[i]=1\n",
        "    for i in range(0,len(sub_iem_list)-1):\n",
        "      if dict[i]==0:\n",
        "        dict[i]=dict[i+1]\n",
        "\n",
        "    for i1 in range(len(dict)):\n",
        "      new_arr.append(dict[i1])\n",
        "\n",
        "    print(len(new_arr))\n",
        "\n",
        "\n"
      ],
      "execution_count": null,
      "outputs": []
    },
    {
      "cell_type": "code",
      "metadata": {
        "id": "fw7oeoPXgUPC"
      },
      "source": [
        "from datetime import datetime\n",
        "id_list= hist.drop_duplicates(['act_id'])\n",
        "id_list=list(id_list['act_id'])\n",
        "\n",
        "iem_list= hist.drop_duplicates(['iem_cd'])\n",
        "iem_list=list(iem_list['iem_cd'])\n",
        "\n",
        "for k in range(len(id_list)):\n",
        "  solution(k)\n"
      ],
      "execution_count": null,
      "outputs": []
    },
    {
      "cell_type": "code",
      "metadata": {
        "colab": {
          "base_uri": "https://localhost:8080/",
          "height": 439
        },
        "id": "G8D6aOwxhB9O",
        "outputId": "b4780f27-83ab-4a98-d60e-5773c507820c"
      },
      "source": [
        "hist['past_d']=new_arr\n",
        "hist"
      ],
      "execution_count": null,
      "outputs": [
        {
          "data": {
            "text/html": [
              "<div>\n",
              "<style scoped>\n",
              "    .dataframe tbody tr th:only-of-type {\n",
              "        vertical-align: middle;\n",
              "    }\n",
              "\n",
              "    .dataframe tbody tr th {\n",
              "        vertical-align: top;\n",
              "    }\n",
              "\n",
              "    .dataframe thead th {\n",
              "        text-align: right;\n",
              "    }\n",
              "</style>\n",
              "<table border=\"1\" class=\"dataframe\">\n",
              "  <thead>\n",
              "    <tr style=\"text-align: right;\">\n",
              "      <th></th>\n",
              "      <th>act_id</th>\n",
              "      <th>bse_dt</th>\n",
              "      <th>iem_cd</th>\n",
              "      <th>bnc_qty</th>\n",
              "      <th>tot_aet_amt</th>\n",
              "      <th>stk_par_pr</th>\n",
              "      <th>sb_amt</th>\n",
              "      <th>stk_p</th>\n",
              "      <th>past_d</th>\n",
              "    </tr>\n",
              "  </thead>\n",
              "  <tbody>\n",
              "    <tr>\n",
              "      <th>0</th>\n",
              "      <td>1119c23c3a504ca7b75060277410c0f6fb9018ec7638c2...</td>\n",
              "      <td>20200820</td>\n",
              "      <td>A008770</td>\n",
              "      <td>40</td>\n",
              "      <td>2828000</td>\n",
              "      <td>5000</td>\n",
              "      <td>23</td>\n",
              "      <td>70700.0</td>\n",
              "      <td>58</td>\n",
              "    </tr>\n",
              "    <tr>\n",
              "      <th>1</th>\n",
              "      <td>1119c23c3a504ca7b75060277410c0f6fb9018ec7638c2...</td>\n",
              "      <td>20200623</td>\n",
              "      <td>A008770</td>\n",
              "      <td>20</td>\n",
              "      <td>1390000</td>\n",
              "      <td>5000</td>\n",
              "      <td>23</td>\n",
              "      <td>69500.0</td>\n",
              "      <td>58</td>\n",
              "    </tr>\n",
              "    <tr>\n",
              "      <th>2</th>\n",
              "      <td>1119c23c3a504ca7b75060277410c0f6fb9018ec7638c2...</td>\n",
              "      <td>20160104</td>\n",
              "      <td>A005940</td>\n",
              "      <td>311</td>\n",
              "      <td>2982490</td>\n",
              "      <td>5000</td>\n",
              "      <td>23</td>\n",
              "      <td>9590.0</td>\n",
              "      <td>1</td>\n",
              "    </tr>\n",
              "    <tr>\n",
              "      <th>3</th>\n",
              "      <td>1119c23c3a504ca7b75060277410c0f6fb9018ec7638c2...</td>\n",
              "      <td>20200814</td>\n",
              "      <td>A005930</td>\n",
              "      <td>40</td>\n",
              "      <td>2320000</td>\n",
              "      <td>100</td>\n",
              "      <td>23</td>\n",
              "      <td>58000.0</td>\n",
              "      <td>52</td>\n",
              "    </tr>\n",
              "    <tr>\n",
              "      <th>4</th>\n",
              "      <td>1119c23c3a504ca7b75060277410c0f6fb9018ec7638c2...</td>\n",
              "      <td>20200623</td>\n",
              "      <td>A005930</td>\n",
              "      <td>20</td>\n",
              "      <td>1028000</td>\n",
              "      <td>100</td>\n",
              "      <td>23</td>\n",
              "      <td>51400.0</td>\n",
              "      <td>52</td>\n",
              "    </tr>\n",
              "    <tr>\n",
              "      <th>...</th>\n",
              "      <td>...</td>\n",
              "      <td>...</td>\n",
              "      <td>...</td>\n",
              "      <td>...</td>\n",
              "      <td>...</td>\n",
              "      <td>...</td>\n",
              "      <td>...</td>\n",
              "      <td>...</td>\n",
              "      <td>...</td>\n",
              "    </tr>\n",
              "    <tr>\n",
              "      <th>1048570</th>\n",
              "      <td>fd3dfcf13c21834d2bd707bafea9e6c4d17fcc21a90ee6...</td>\n",
              "      <td>20191011</td>\n",
              "      <td>A010240</td>\n",
              "      <td>9</td>\n",
              "      <td>41580</td>\n",
              "      <td>500</td>\n",
              "      <td>12552</td>\n",
              "      <td>4620.0</td>\n",
              "      <td>1</td>\n",
              "    </tr>\n",
              "    <tr>\n",
              "      <th>1048571</th>\n",
              "      <td>fd3dfcf13c21834d2bd707bafea9e6c4d17fcc21a90ee6...</td>\n",
              "      <td>20191010</td>\n",
              "      <td>A010240</td>\n",
              "      <td>8</td>\n",
              "      <td>37520</td>\n",
              "      <td>500</td>\n",
              "      <td>12552</td>\n",
              "      <td>4690.0</td>\n",
              "      <td>14</td>\n",
              "    </tr>\n",
              "    <tr>\n",
              "      <th>1048572</th>\n",
              "      <td>fd3dfcf13c21834d2bd707bafea9e6c4d17fcc21a90ee6...</td>\n",
              "      <td>20190926</td>\n",
              "      <td>A010240</td>\n",
              "      <td>5</td>\n",
              "      <td>24425</td>\n",
              "      <td>500</td>\n",
              "      <td>12552</td>\n",
              "      <td>4885.0</td>\n",
              "      <td>2</td>\n",
              "    </tr>\n",
              "    <tr>\n",
              "      <th>1048573</th>\n",
              "      <td>fd3dfcf13c21834d2bd707bafea9e6c4d17fcc21a90ee6...</td>\n",
              "      <td>20190924</td>\n",
              "      <td>A010240</td>\n",
              "      <td>2</td>\n",
              "      <td>10120</td>\n",
              "      <td>500</td>\n",
              "      <td>12552</td>\n",
              "      <td>5060.0</td>\n",
              "      <td>1</td>\n",
              "    </tr>\n",
              "    <tr>\n",
              "      <th>1048574</th>\n",
              "      <td>fd3dfcf13c21834d2bd707bafea9e6c4d17fcc21a90ee6...</td>\n",
              "      <td>20190923</td>\n",
              "      <td>A010240</td>\n",
              "      <td>0</td>\n",
              "      <td>0</td>\n",
              "      <td>500</td>\n",
              "      <td>12552</td>\n",
              "      <td>NaN</td>\n",
              "      <td>1</td>\n",
              "    </tr>\n",
              "  </tbody>\n",
              "</table>\n",
              "<p>1048575 rows × 9 columns</p>\n",
              "</div>"
            ],
            "text/plain": [
              "                                                    act_id    bse_dt   iem_cd  \\\n",
              "0        1119c23c3a504ca7b75060277410c0f6fb9018ec7638c2...  20200820  A008770   \n",
              "1        1119c23c3a504ca7b75060277410c0f6fb9018ec7638c2...  20200623  A008770   \n",
              "2        1119c23c3a504ca7b75060277410c0f6fb9018ec7638c2...  20160104  A005940   \n",
              "3        1119c23c3a504ca7b75060277410c0f6fb9018ec7638c2...  20200814  A005930   \n",
              "4        1119c23c3a504ca7b75060277410c0f6fb9018ec7638c2...  20200623  A005930   \n",
              "...                                                    ...       ...      ...   \n",
              "1048570  fd3dfcf13c21834d2bd707bafea9e6c4d17fcc21a90ee6...  20191011  A010240   \n",
              "1048571  fd3dfcf13c21834d2bd707bafea9e6c4d17fcc21a90ee6...  20191010  A010240   \n",
              "1048572  fd3dfcf13c21834d2bd707bafea9e6c4d17fcc21a90ee6...  20190926  A010240   \n",
              "1048573  fd3dfcf13c21834d2bd707bafea9e6c4d17fcc21a90ee6...  20190924  A010240   \n",
              "1048574  fd3dfcf13c21834d2bd707bafea9e6c4d17fcc21a90ee6...  20190923  A010240   \n",
              "\n",
              "         bnc_qty  tot_aet_amt  stk_par_pr  sb_amt    stk_p  past_d  \n",
              "0             40      2828000        5000      23  70700.0      58  \n",
              "1             20      1390000        5000      23  69500.0      58  \n",
              "2            311      2982490        5000      23   9590.0       1  \n",
              "3             40      2320000         100      23  58000.0      52  \n",
              "4             20      1028000         100      23  51400.0      52  \n",
              "...          ...          ...         ...     ...      ...     ...  \n",
              "1048570        9        41580         500   12552   4620.0       1  \n",
              "1048571        8        37520         500   12552   4690.0      14  \n",
              "1048572        5        24425         500   12552   4885.0       2  \n",
              "1048573        2        10120         500   12552   5060.0       1  \n",
              "1048574        0            0         500   12552      NaN       1  \n",
              "\n",
              "[1048575 rows x 9 columns]"
            ]
          },
          "execution_count": 77,
          "metadata": {},
          "output_type": "execute_result"
        }
      ]
    },
    {
      "cell_type": "code",
      "metadata": {
        "id": "o44So62HLXMe"
      },
      "source": [
        "import matplotlib.pyplot as plt\n",
        "import seaborn as sns\n",
        "from sklearn.metrics import mean_squared_error\n",
        "\n",
        "my_predictions = {}\n",
        "my_pred = None\n",
        "my_actual = None\n",
        "my_name = None\n",
        "\n",
        "colors = ['r', 'c', 'm', 'y', 'k', 'khaki', 'teal', 'orchid', 'sandybrown',\n",
        "          'greenyellow', 'dodgerblue', 'deepskyblue', 'rosybrown', 'firebrick',\n",
        "          'deeppink', 'crimson', 'salmon', 'darkred', 'olivedrab', 'olive', \n",
        "          'forestgreen', 'royalblue', 'indigo', 'navy', 'mediumpurple', 'chocolate',\n",
        "          'gold', 'darkorange', 'seagreen', 'turquoise', 'steelblue', 'slategray', \n",
        "          'peru', 'midnightblue', 'slateblue', 'dimgray', 'cadetblue', 'tomato'\n",
        "         ]\n",
        "\n",
        "def plot_predictions(name_, pred, actual):\n",
        "    df = pd.DataFrame({'prediction': pred, 'actual': y_test})\n",
        "    df = df.sort_values(by='actual').reset_index(drop=True)\n",
        "\n",
        "    plt.figure(figsize=(11, 8))\n",
        "    plt.scatter(df.index, df['prediction'], marker='x', color='r')\n",
        "    plt.scatter(df.index, df['actual'], alpha=0.7, marker='o', color='black')\n",
        "    plt.title(name_, fontsize=15)\n",
        "    plt.legend(['prediction', 'actual'], fontsize=12)\n",
        "    plt.show()\n",
        "\n",
        "def mse_eval(name_, pred, actual):\n",
        "    global my_predictions, colors, my_pred, my_actual, my_name\n",
        "    \n",
        "    my_name = name_\n",
        "    my_pred = pred\n",
        "    my_actual = actual\n",
        "\n",
        "    plot_predictions(name_, pred, actual)\n",
        "\n",
        "    mse = mean_squared_error(pred, actual)\n",
        "    my_predictions[name_] = mse\n",
        "\n",
        "    y_value = sorted(my_predictions.items(), key=lambda x: x[1], reverse=True)\n",
        "    \n",
        "    df = pd.DataFrame(y_value, columns=['model', 'mse'])\n",
        "    print(df)\n",
        "    min_ = df['mse'].min() - 10\n",
        "    max_ = df['mse'].max() + 10\n",
        "    \n",
        "    length = len(df) / 2\n",
        "    \n",
        "    plt.figure(figsize=(9, length))\n",
        "    ax = plt.subplot()\n",
        "    ax.set_yticks(np.arange(len(df)))\n",
        "    ax.set_yticklabels(df['model'], fontsize=12)\n",
        "    bars = ax.barh(np.arange(len(df)), df['mse'], height=0.3)\n",
        "    \n",
        "    for i, v in enumerate(df['mse']):\n",
        "        idx = np.random.choice(len(colors))\n",
        "        bars[i].set_color(colors[idx])\n",
        "        ax.text(v + 2, i, str(round(v, 3)), color='k', fontsize=12, fontweight='bold', verticalalignment='center')\n",
        "        \n",
        "    plt.title('MSE Error', fontsize=16)\n",
        "    plt.xlim(min_, max_)\n",
        "    \n",
        "    plt.show()\n",
        "    \n",
        "def add_model(name_, pred, actual):\n",
        "    global my_predictions, my_pred, my_actual, my_name\n",
        "    my_name = name_\n",
        "    my_pred = pred\n",
        "    my_actual = actual\n",
        "    \n",
        "    mse = mean_squared_error(pred, actual)\n",
        "    my_predictions[name_] = mse\n",
        "\n",
        "def remove_model(name_):\n",
        "    global my_predictions\n",
        "    try:\n",
        "        del my_predictions[name_]\n",
        "    except KeyError:\n",
        "        return False\n",
        "    return True\n",
        "\n",
        "def plot_all():\n",
        "    global my_predictions, my_pred, my_actual, my_name\n",
        "    \n",
        "    plot_predictions(my_name, my_pred, my_actual)\n",
        "    \n",
        "    y_value = sorted(my_predictions.items(), key=lambda x: x[1], reverse=True)\n",
        "    \n",
        "    df = pd.DataFrame(y_value, columns=['model', 'mse'])\n",
        "    print(df)\n",
        "    min_ = df['mse'].min() - 10\n",
        "    max_ = df['mse'].max() + 10\n",
        "    \n",
        "    length = len(df) / 2\n",
        "    \n",
        "    plt.figure(figsize=(9, length))\n",
        "    ax = plt.subplot()\n",
        "    ax.set_yticks(np.arange(len(df)))\n",
        "    ax.set_yticklabels(df['model'], fontsize=12)\n",
        "    bars = ax.barh(np.arange(len(df)), df['mse'], height=0.3)\n",
        "    \n",
        "    for i, v in enumerate(df['mse']):\n",
        "        idx = np.random.choice(len(colors))\n",
        "        bars[i].set_color(colors[idx])\n",
        "        ax.text(v + 2, i, str(round(v, 3)), color='k', fontsize=12, fontweight='bold', verticalalignment='center')\n",
        "        \n",
        "    plt.title('MSE Error', fontsize=16)\n",
        "    plt.xlim(min_, max_)\n",
        "    \n",
        "    plt.show()"
      ],
      "execution_count": null,
      "outputs": []
    },
    {
      "cell_type": "code",
      "metadata": {
        "id": "lhGTcaDxLZF0"
      },
      "source": [
        "from sklearn.linear_model import LinearRegression\n",
        "from sklearn.linear_model import Ridge\n",
        "from sklearn.linear_model import Lasso\n",
        "from sklearn.linear_model import ElasticNet\n",
        "from sklearn.preprocessing import StandardScaler, MinMaxScaler\n",
        "from sklearn.pipeline import make_pipeline\n",
        "from sklearn.preprocessing import PolynomialFeatures"
      ],
      "execution_count": null,
      "outputs": []
    },
    {
      "cell_type": "code",
      "metadata": {
        "colab": {
          "base_uri": "https://localhost:8080/",
          "height": 614
        },
        "id": "D9RPvsrMLbD7",
        "outputId": "59dc747f-a665-49cc-a935-78c38d9bf69b"
      },
      "source": [
        "linear_reg = LinearRegression()\n",
        "linear_reg.fit(X_train, y_train)\n",
        "pred = linear_reg.predict(X_test)\n",
        "mse_eval('LinearRegression', pred, y_test)"
      ],
      "execution_count": null,
      "outputs": [
        {
          "data": {
            "image/png": "[encoded data removed]",
            "text/plain": [
              "<Figure size 792x576 with 1 Axes>"
            ]
          },
          "metadata": {},
          "output_type": "display_data"
        },
        {
          "name": "stdout",
          "output_type": "stream",
          "text": [
            "              model       mse\n",
            "0  LinearRegression  1.234055\n"
          ]
        },
        {
          "data": {
            "image/png": "[encoded data removed]",
            "text/plain": [
              "<Figure size 648x36 with 1 Axes>"
            ]
          },
          "metadata": {},
          "output_type": "display_data"
        }
      ]
    },
    {
      "cell_type": "code",
      "metadata": {
        "colab": {
          "base_uri": "https://localhost:8080/",
          "height": 659
        },
        "id": "1ecHkkyjL4Uu",
        "outputId": "8d83b248-10a2-4970-f75b-bab918acc757"
      },
      "source": [
        "ridge = Ridge(alpha=0.1)\n",
        "ridge.fit(X_train, y_train)\n",
        "pred = ridge.predict(X_test)\n",
        "mse_eval('Ridge(alpha=0.1)', pred, y_test)"
      ],
      "execution_count": null,
      "outputs": [
        {
          "data": {
            "image/png": "[encoded data removed]",
            "text/plain": [
              "<Figure size 792x576 with 1 Axes>"
            ]
          },
          "metadata": {},
          "output_type": "display_data"
        },
        {
          "name": "stdout",
          "output_type": "stream",
          "text": [
            "              model       mse\n",
            "0  Ridge(alpha=0.1)  1.494773\n",
            "1  LinearRegression  1.234055\n"
          ]
        },
        {
          "data": {
            "image/png": "[encoded data removed]",
            "text/plain": [
              "<Figure size 648x72 with 1 Axes>"
            ]
          },
          "metadata": {},
          "output_type": "display_data"
        }
      ]
    },
    {
      "cell_type": "code",
      "metadata": {
        "colab": {
          "base_uri": "https://localhost:8080/",
          "height": 704
        },
        "id": "syy8qNc_MrKH",
        "outputId": "d858dca7-ebc8-44be-9cbb-2a07f5efde45"
      },
      "source": [
        "lasso = Lasso(alpha=0.01)\n",
        "lasso.fit(X_train, y_train)\n",
        "pred = lasso.predict(X_test)\n",
        "mse_eval('Lasso(alpha=0.01)', pred, y_test)"
      ],
      "execution_count": null,
      "outputs": [
        {
          "data": {
            "image/png": "[encoded data removed]",
            "text/plain": [
              "<Figure size 792x576 with 1 Axes>"
            ]
          },
          "metadata": {},
          "output_type": "display_data"
        },
        {
          "name": "stdout",
          "output_type": "stream",
          "text": [
            "               model       mse\n",
            "0  Lasso(alpha=0.01)  1.506729\n",
            "1   Ridge(alpha=0.1)  1.494773\n",
            "2   LinearRegression  1.494771\n"
          ]
        },
        {
          "data": {
            "image/png": "[encoded data removed]",
            "text/plain": [
              "<Figure size 648x108 with 1 Axes>"
            ]
          },
          "metadata": {},
          "output_type": "display_data"
        }
      ]
    },
    {
      "cell_type": "code",
      "metadata": {
        "colab": {
          "base_uri": "https://localhost:8080/",
          "height": 749
        },
        "id": "AHBoApJVMyNt",
        "outputId": "05962998-92b0-4e65-cf56-6a27b66a3dd0"
      },
      "source": [
        "elasticnet = ElasticNet(alpha=0.01, l1_ratio=0.8)\n",
        "elasticnet.fit(X_train, y_train)\n",
        "pred = elasticnet.predict(X_test)\n",
        "mse_eval('ElasticNet(alpha=0.1, l1_ratio=0.8)', pred, y_test)    "
      ],
      "execution_count": null,
      "outputs": [
        {
          "data": {
            "image/png": "[encoded data removed]",
            "text/plain": [
              "<Figure size 792x576 with 1 Axes>"
            ]
          },
          "metadata": {},
          "output_type": "display_data"
        },
        {
          "name": "stdout",
          "output_type": "stream",
          "text": [
            "                                 model       mse\n",
            "0                    Lasso(alpha=0.01)  1.506729\n",
            "1  ElasticNet(alpha=0.1, l1_ratio=0.8)  1.505868\n",
            "2                     Ridge(alpha=0.1)  1.494773\n",
            "3                     LinearRegression  1.494771\n"
          ]
        },
        {
          "data": {
            "image/png": "[encoded data removed]",
            "text/plain": [
              "<Figure size 648x144 with 1 Axes>"
            ]
          },
          "metadata": {},
          "output_type": "display_data"
        }
      ]
    },
    {
      "cell_type": "code",
      "metadata": {
        "colab": {
          "base_uri": "https://localhost:8080/",
          "height": 794
        },
        "id": "tUEBJdPtMyLK",
        "outputId": "7bd6ae1f-3ed3-4a1a-bb11-e1a5cde7a0c5"
      },
      "source": [
        "elasticnet_pipeline = make_pipeline(\n",
        "    StandardScaler(),\n",
        "    ElasticNet(alpha=0.01, l1_ratio=0.8)\n",
        ")\n",
        "elasticnet_pipeline.fit(X_train, y_train)\n",
        "elasticnet_pred = elasticnet_pipeline.predict(X_test)\n",
        "mse_eval('Standard ElasticNet', elasticnet_pred, y_test)"
      ],
      "execution_count": null,
      "outputs": [
        {
          "data": {
            "image/png": "[encoded data removed]",
            "text/plain": [
              "<Figure size 792x576 with 1 Axes>"
            ]
          },
          "metadata": {},
          "output_type": "display_data"
        },
        {
          "name": "stdout",
          "output_type": "stream",
          "text": [
            "                                 model       mse\n",
            "0                    Lasso(alpha=0.01)  1.506729\n",
            "1  ElasticNet(alpha=0.1, l1_ratio=0.8)  1.505868\n",
            "2                  Standard ElasticNet  1.494965\n",
            "3                     Ridge(alpha=0.1)  1.494773\n",
            "4                     LinearRegression  1.494771\n"
          ]
        },
        {
          "data": {
            "image/png": "[encoded data removed]",
            "text/plain": [
              "<Figure size 648x180 with 1 Axes>"
            ]
          },
          "metadata": {},
          "output_type": "display_data"
        }
      ]
    },
    {
      "cell_type": "code",
      "metadata": {
        "colab": {
          "base_uri": "https://localhost:8080/",
          "height": 658
        },
        "id": "uwQ3AJMzMyIp",
        "outputId": "4bf48299-703f-415c-9f9a-1fa23589d5ef"
      },
      "source": [
        "poly_pipeline = make_pipeline(\n",
        "    PolynomialFeatures(degree=2, include_bias=False),\n",
        "    ElasticNet(alpha=0.1, l1_ratio=0.2)\n",
        ")\n",
        "poly_pipeline.fit(X_train, y_train)\n",
        "poly_pred = poly_pipeline.predict(X_test)\n",
        "mse_eval('Poly ElasticNet', poly_pred, y_test)"
      ],
      "execution_count": null,
      "outputs": [
        {
          "data": {
            "image/png": "[encoded data removed]",
            "text/plain": [
              "<Figure size 792x576 with 1 Axes>"
            ]
          },
          "metadata": {},
          "output_type": "display_data"
        },
        {
          "name": "stdout",
          "output_type": "stream",
          "text": [
            "             model          mse\n",
            "0  Poly ElasticNet  3319.342140\n",
            "1  Voting Ensemble  3072.583603\n"
          ]
        },
        {
          "data": {
            "image/png": "[encoded data removed]",
            "text/plain": [
              "<Figure size 648x72 with 1 Axes>"
            ]
          },
          "metadata": {},
          "output_type": "display_data"
        }
      ]
    },
    {
      "cell_type": "code",
      "metadata": {
        "colab": {
          "base_uri": "https://localhost:8080/"
        },
        "id": "mCEhrD6EMyGL",
        "outputId": "4d8333a7-807d-4d59-83c0-99df27f857ae"
      },
      "source": [
        "poly_pred=np.e**poly_pred\n",
        "max(poly_pred)"
      ],
      "execution_count": null,
      "outputs": [
        {
          "data": {
            "text/plain": [
              "1.549977086441507e+23"
            ]
          },
          "execution_count": 97,
          "metadata": {},
          "output_type": "execute_result"
        }
      ]
    },
    {
      "cell_type": "code",
      "metadata": {
        "colab": {
          "base_uri": "https://localhost:8080/"
        },
        "id": "HQ-QCNcdQJgV",
        "outputId": "90f01c97-0c27-40b3-99b4-ebaa062f9020"
      },
      "source": [
        "poly_pred"
      ],
      "execution_count": null,
      "outputs": [
        {
          "data": {
            "text/plain": [
              "array([1.76445763, 1.64622033, 1.85768919, ..., 1.94138938, 2.09307173,\n",
              "       1.63506956])"
            ]
          },
          "execution_count": 93,
          "metadata": {},
          "output_type": "execute_result"
        }
      ]
    },
    {
      "cell_type": "code",
      "metadata": {
        "id": "C-tRp0F-MO-i"
      },
      "source": [
        "from sklearn.ensemble import VotingRegressor, VotingClassifier\n",
        "from sklearn.linear_model import LinearRegression\n",
        "from sklearn.linear_model import Ridge\n",
        "from sklearn.linear_model import Lasso\n",
        "from sklearn.linear_model import ElasticNet\n",
        "from sklearn.preprocessing import StandardScaler, MinMaxScaler\n",
        "from sklearn.pipeline import make_pipeline\n",
        "from sklearn.preprocessing import PolynomialFeatures\n",
        "single_models = [\n",
        "    ('linear_reg', linear_reg), \n",
        "    ('ridge', ridge), \n",
        "    ('lasso', lasso), \n",
        "    ('elasticnet_pipeline', elasticnet_pipeline), \n",
        "    ('poly_pipeline', poly_pipeline)\n",
        "]"
      ],
      "execution_count": null,
      "outputs": []
    },
    {
      "cell_type": "code",
      "metadata": {
        "id": "WdeMuvvuMRyN"
      },
      "source": [
        "voting_regressor = VotingRegressor(single_models, n_jobs=-1)"
      ],
      "execution_count": null,
      "outputs": []
    },
    {
      "cell_type": "code",
      "metadata": {
        "colab": {
          "base_uri": "https://localhost:8080/"
        },
        "id": "DVp5_1-sMTO4",
        "outputId": "8ca3608f-d30a-4dfb-936e-335ab9fe3273"
      },
      "source": [
        "voting_regressor.fit(X_train, y_train)"
      ],
      "execution_count": null,
      "outputs": [
        {
          "data": {
            "text/plain": [
              "VotingRegressor(estimators=[('linear_reg',\n",
              "                             LinearRegression(copy_X=True, fit_intercept=True,\n",
              "                                              n_jobs=None, normalize=False)),\n",
              "                            ('ridge',\n",
              "                             Ridge(alpha=0.1, copy_X=True, fit_intercept=True,\n",
              "                                   max_iter=None, normalize=False,\n",
              "                                   random_state=None, solver='auto',\n",
              "                                   tol=0.001)),\n",
              "                            ('lasso',\n",
              "                             Lasso(alpha=0.01, copy_X=True, fit_intercept=True,\n",
              "                                   max_iter=1000, normalize=False,\n",
              "                                   positive=Fals...\n",
              "                                      steps=[('polynomialfeatures',\n",
              "                                              PolynomialFeatures(degree=2,\n",
              "                                                                 include_bias=False,\n",
              "                                                                 interaction_only=False,\n",
              "                                                                 order='C')),\n",
              "                                             ('elasticnet',\n",
              "                                              ElasticNet(alpha=0.1, copy_X=True,\n",
              "                                                         fit_intercept=True,\n",
              "                                                         l1_ratio=0.2,\n",
              "                                                         max_iter=1000,\n",
              "                                                         normalize=False,\n",
              "                                                         positive=False,\n",
              "                                                         precompute=False,\n",
              "                                                         random_state=None,\n",
              "                                                         selection='cyclic',\n",
              "                                                         tol=0.0001,\n",
              "                                                         warm_start=False))],\n",
              "                                      verbose=False))],\n",
              "                n_jobs=-1, weights=None)"
            ]
          },
          "execution_count": 68,
          "metadata": {},
          "output_type": "execute_result"
        }
      ]
    },
    {
      "cell_type": "code",
      "metadata": {
        "id": "G4ezSSHSNHZH"
      },
      "source": [
        "voting_pred = voting_regressor.predict(X_test)"
      ],
      "execution_count": null,
      "outputs": []
    },
    {
      "cell_type": "code",
      "metadata": {
        "id": "1kg4gCMYOFrM"
      },
      "source": [
        "voting_pred=np.e**voting_pred\n",
        "# y_test=np.e**y_test"
      ],
      "execution_count": null,
      "outputs": []
    },
    {
      "cell_type": "code",
      "metadata": {
        "colab": {
          "base_uri": "https://localhost:8080/"
        },
        "id": "Y00eNIRLPOhV",
        "outputId": "a027eefd-92e5-4aac-e35a-5d5e5165a972"
      },
      "source": [
        "max(voting_pred)"
      ],
      "execution_count": null,
      "outputs": [
        {
          "data": {
            "text/plain": [
              "32.233251913985356"
            ]
          },
          "execution_count": 86,
          "metadata": {},
          "output_type": "execute_result"
        }
      ]
    },
    {
      "cell_type": "code",
      "metadata": {
        "colab": {
          "base_uri": "https://localhost:8080/"
        },
        "id": "_dFrTILWOcxr",
        "outputId": "fb1e6e21-011a-44f3-8a5c-ecb4c8687857"
      },
      "source": [
        "max(y_test)"
      ],
      "execution_count": null,
      "outputs": [
        {
          "data": {
            "text/plain": [
              "1184.999999999999"
            ]
          },
          "execution_count": 87,
          "metadata": {},
          "output_type": "execute_result"
        }
      ]
    },
    {
      "cell_type": "code",
      "metadata": {
        "colab": {
          "base_uri": "https://localhost:8080/",
          "height": 613
        },
        "id": "lxehIDeLNLWv",
        "outputId": "4f166111-6f68-426a-e54e-dc5283b4ec2a"
      },
      "source": [
        "mse_eval('Voting Ensemble', voting_pred, y_test)"
      ],
      "execution_count": null,
      "outputs": [
        {
          "data": {
            "image/png": "[encoded data removed]",
            "text/plain": [
              "<Figure size 792x576 with 1 Axes>"
            ]
          },
          "metadata": {},
          "output_type": "display_data"
        },
        {
          "name": "stdout",
          "output_type": "stream",
          "text": [
            "             model          mse\n",
            "0  Voting Ensemble  3072.583603\n"
          ]
        },
        {
          "data": {
            "image/png": "[encoded data removed]",
            "text/plain": [
              "<Figure size 648x36 with 1 Axes>"
            ]
          },
          "metadata": {},
          "output_type": "display_data"
        }
      ]
    },
    {
      "cell_type": "code",
      "metadata": {
        "id": "fIv5yaKENOWO"
      },
      "source": [
        "params = {\n",
        "    'n_estimators': [200, 500, 1000, 2000], \n",
        "    'learning_rate': [0.1, 0.05, 0.01], \n",
        "    'max_depth': [6, 7, 8], \n",
        "    'colsample_bytree': [0.8, 0.9, 1.0], \n",
        "    'subsample': [0.8, 0.9, 1.0],\n",
        "}\n",
        "from sklearn.model_selection import RandomizedSearchCV"
      ],
      "execution_count": null,
      "outputs": []
    },
    {
      "cell_type": "code",
      "metadata": {
        "id": "ibxQV58zQqfq"
      },
      "source": [
        "clf = RandomizedSearchCV(LGBMRegressor(), params, random_state=42, cv=3, n_iter=25, scoring='neg_mean_squared_error')"
      ],
      "execution_count": null,
      "outputs": []
    },
    {
      "cell_type": "code",
      "metadata": {
        "id": "SKLj3RgrQsS1"
      },
      "source": [
        "clf.fit(X_train, y_train)"
      ],
      "execution_count": null,
      "outputs": []
    },
    {
      "cell_type": "code",
      "metadata": {
        "id": "3vYYUnoeQuYS"
      },
      "source": [
        "clf.best_score_"
      ],
      "execution_count": null,
      "outputs": []
    },
    {
      "cell_type": "code",
      "metadata": {
        "colab": {
          "base_uri": "https://localhost:8080/",
          "height": 704
        },
        "id": "ZHlrTNS7Qv3T",
        "outputId": "7dca7856-68f6-469c-c089-b9a2347c8702"
      },
      "source": [
        "lgbm_best = LGBMRegressor(n_estimators=2000, subsample=0.8, max_depth=7, learning_rate=0.01, colsample_bytree=0.8)\n",
        "lgbm_best.fit(X_train, y_train)\n",
        "lgbm_best_pred = lgbm_best.predict(X_test)\n",
        "mse_eval('RandomSearch LGBM', lgbm_best_pred, y_test)"
      ],
      "execution_count": null,
      "outputs": [
        {
          "data": {
            "image/png": "[encoded data removed]",
            "text/plain": [
              "<Figure size 792x576 with 1 Axes>"
            ]
          },
          "metadata": {},
          "output_type": "display_data"
        },
        {
          "name": "stdout",
          "output_type": "stream",
          "text": [
            "               model          mse\n",
            "0    Poly ElasticNet  3319.342140\n",
            "1  RandomSearch LGBM  3305.237276\n",
            "2    Voting Ensemble  3072.583603\n"
          ]
        },
        {
          "data": {
            "image/png": "[encoded data removed]",
            "text/plain": [
              "<Figure size 648x108 with 1 Axes>"
            ]
          },
          "metadata": {},
          "output_type": "display_data"
        }
      ]
    },
    {
      "cell_type": "code",
      "metadata": {
        "id": "NVPwoFxUQzKU"
      },
      "source": [
        ""
      ],
      "execution_count": null,
      "outputs": []
    }
  ]
}