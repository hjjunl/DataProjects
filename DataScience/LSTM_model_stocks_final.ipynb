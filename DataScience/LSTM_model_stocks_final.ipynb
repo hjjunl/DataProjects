{
  "nbformat": 4,
  "nbformat_minor": 0,
  "metadata": {
    "language_info": {
      "codemirror_mode": {
        "name": "ipython",
        "version": 3
      },
      "file_extension": ".py",
      "mimetype": "text/x-python",
      "name": "python",
      "nbconvert_exporter": "python",
      "pygments_lexer": "ipython3",
      "version": "3.7.4-final"
    },
    "orig_nbformat": 2,
    "kernelspec": {
      "name": "python_defaultSpec_1595456381049",
      "display_name": "Python 3.7.4 64-bit ('base': conda)"
    },
    "colab": {
      "name": "LSTM_model_stocks_final.ipynb",
      "provenance": [],
      "collapsed_sections": []
    }
  },
  "cells": [
    {
      "cell_type": "markdown",
      "metadata": {
        "id": "7rgEuqRoYGlE"
      },
      "source": [
        "<h2>Stock price prediction</h2> \n",
        "\n",
        "* I used Vytautas Bielinskas as my baseline. 2020.\n",
        "\n",
        "* Modified and upraded version by HyunJun Lee. 2021"
      ]
    },
    {
      "cell_type": "code",
      "metadata": {
        "id": "yFAD85TcDD0F"
      },
      "source": [
        "# yahoo finance Api\n",
        "%pip install yfinance\n",
        "% pip install yahoo-finance\n",
        "%pip install yahoo_fin\n",
        "%pip install requests_html"
      ],
      "execution_count": null,
      "outputs": []
    },
    {
      "cell_type": "code",
      "metadata": {
        "colab": {
          "base_uri": "https://localhost:8080/"
        },
        "id": "QtP_9QRzVb3I",
        "outputId": "b62f6aba-62ed-4a27-f246-026b4918cb69"
      },
      "source": [
        "from google.colab import drive\n",
        "drive.mount('/content/drive')"
      ],
      "execution_count": 64,
      "outputs": [
        {
          "output_type": "stream",
          "name": "stdout",
          "text": [
            "Drive already mounted at /content/drive; to attempt to forcibly remount, call drive.mount(\"/content/drive\", force_remount=True).\n"
          ]
        }
      ]
    },
    {
      "cell_type": "markdown",
      "metadata": {
        "id": "Ga_NkxbGC9Ff"
      },
      "source": [
        "<h3>1. Read data</h3>\n",
        "\n",
        "- FED FUNDS data source: https://fred.stlouisfed.org/series/FEDFUNDS\n",
        "- Stock data source is from yahoofinance Api"
      ]
    },
    {
      "cell_type": "code",
      "metadata": {
        "tags": [],
        "colab": {
          "base_uri": "https://localhost:8080/"
        },
        "id": "2p77cRaBC9Fd",
        "outputId": "bb2e85f1-553b-498a-d6bc-d9efc445eaf5"
      },
      "source": [
        "# Import modules and packages\n",
        "import numpy as np\n",
        "import pandas as pd\n",
        "import matplotlib.pyplot as plt\n",
        "import datetime as dt\n",
        "from datetime import datetime\n",
        "from keras.callbacks import EarlyStopping, ReduceLROnPlateau, ModelCheckpoint, TensorBoard\n",
        "%matplotlib inline\n",
        "import yfinance as yf\n",
        "import matplotlib.pyplot as plt\n",
        "# FED FUNDS add\n",
        "ff = pd.read_excel(\"/content/drive/MyDrive/excel/FEDFUNDS.xlsx\")\n",
        "yf.pdr_override()\n",
        "\n",
        "# company_cd=input()\n",
        "company_cd = 'AMKR'\n",
        "\n",
        "# Training data set\n",
        "df=yf.download(company_cd)\n",
        "df = df.reset_index()"
      ],
      "execution_count": 65,
      "outputs": [
        {
          "output_type": "stream",
          "name": "stdout",
          "text": [
            "\r[*********************100%***********************]  1 of 1 completed\n"
          ]
        }
      ]
    },
    {
      "cell_type": "markdown",
      "metadata": {
        "id": "enbeMF6YHq_I"
      },
      "source": [
        "Data concatnation and preprocessing"
      ]
    },
    {
      "cell_type": "code",
      "metadata": {
        "colab": {
          "base_uri": "https://localhost:8080/",
          "height": 507
        },
        "id": "lMDOhgr0bs_u",
        "outputId": "d17ebfe8-de16-4e1a-d0ef-aeb36a147a15"
      },
      "source": [
        "ff['Date_ff']=ff['Date_ff']//100\n",
        "\n",
        "df['Date_ff']=df[\"Date\"]\n",
        "df_date = df['Date_ff']\n",
        "df['Date_ff'] = pd.to_datetime(df['Date_ff']).astype(str)\n",
        "df['Date_ff']=df['Date_ff'].replace('-',\"\")\n",
        "\n",
        "for i in range(len(df['Date_ff'])):\n",
        "  df['Date_ff'][i]=df['Date_ff'][i].replace('-',\"\")\n",
        "df['Date_ff'] = df['Date_ff'].astype(int)//100\n",
        "df = pd.merge(df, ff, how = \"left\", on = [\"Date_ff\"])\n",
        "df.drop([\"Date_ff\"], axis = 1, inplace = True)\n",
        "df.drop([\"Adj Close\"], axis = 1, inplace = True)\n",
        "\n",
        "df = df.fillna(0.08)\n",
        "df.reset_index(drop = True, inplace = True)\n",
        "df"
      ],
      "execution_count": 66,
      "outputs": [
        {
          "output_type": "stream",
          "name": "stderr",
          "text": [
            "/usr/local/lib/python3.7/dist-packages/ipykernel_launcher.py:10: SettingWithCopyWarning: \n",
            "A value is trying to be set on a copy of a slice from a DataFrame\n",
            "\n",
            "See the caveats in the documentation: https://pandas.pydata.org/pandas-docs/stable/user_guide/indexing.html#returning-a-view-versus-a-copy\n",
            "  # Remove the CWD from sys.path while we load stuff.\n"
          ]
        },
        {
          "output_type": "execute_result",
          "data": {
            "text/html": [
              "<div>\n",
              "<style scoped>\n",
              "    .dataframe tbody tr th:only-of-type {\n",
              "        vertical-align: middle;\n",
              "    }\n",
              "\n",
              "    .dataframe tbody tr th {\n",
              "        vertical-align: top;\n",
              "    }\n",
              "\n",
              "    .dataframe thead th {\n",
              "        text-align: right;\n",
              "    }\n",
              "</style>\n",
              "<table border=\"1\" class=\"dataframe\">\n",
              "  <thead>\n",
              "    <tr style=\"text-align: right;\">\n",
              "      <th></th>\n",
              "      <th>Date</th>\n",
              "      <th>Open</th>\n",
              "      <th>High</th>\n",
              "      <th>Low</th>\n",
              "      <th>Close</th>\n",
              "      <th>Volume</th>\n",
              "      <th>FEDFUNDS</th>\n",
              "    </tr>\n",
              "  </thead>\n",
              "  <tbody>\n",
              "    <tr>\n",
              "      <th>0</th>\n",
              "      <td>1998-05-01</td>\n",
              "      <td>12.375000</td>\n",
              "      <td>13.562500</td>\n",
              "      <td>11.750000</td>\n",
              "      <td>13.312500</td>\n",
              "      <td>23597300</td>\n",
              "      <td>5.49</td>\n",
              "    </tr>\n",
              "    <tr>\n",
              "      <th>1</th>\n",
              "      <td>1998-05-04</td>\n",
              "      <td>13.437500</td>\n",
              "      <td>14.000000</td>\n",
              "      <td>13.375000</td>\n",
              "      <td>13.750000</td>\n",
              "      <td>3529400</td>\n",
              "      <td>5.49</td>\n",
              "    </tr>\n",
              "    <tr>\n",
              "      <th>2</th>\n",
              "      <td>1998-05-05</td>\n",
              "      <td>13.750000</td>\n",
              "      <td>13.875000</td>\n",
              "      <td>13.000000</td>\n",
              "      <td>13.250000</td>\n",
              "      <td>3056300</td>\n",
              "      <td>5.49</td>\n",
              "    </tr>\n",
              "    <tr>\n",
              "      <th>3</th>\n",
              "      <td>1998-05-06</td>\n",
              "      <td>13.250000</td>\n",
              "      <td>13.250000</td>\n",
              "      <td>11.875000</td>\n",
              "      <td>12.625000</td>\n",
              "      <td>3109900</td>\n",
              "      <td>5.49</td>\n",
              "    </tr>\n",
              "    <tr>\n",
              "      <th>4</th>\n",
              "      <td>1998-05-07</td>\n",
              "      <td>12.625000</td>\n",
              "      <td>12.750000</td>\n",
              "      <td>12.250000</td>\n",
              "      <td>12.312500</td>\n",
              "      <td>1304100</td>\n",
              "      <td>5.49</td>\n",
              "    </tr>\n",
              "    <tr>\n",
              "      <th>...</th>\n",
              "      <td>...</td>\n",
              "      <td>...</td>\n",
              "      <td>...</td>\n",
              "      <td>...</td>\n",
              "      <td>...</td>\n",
              "      <td>...</td>\n",
              "      <td>...</td>\n",
              "    </tr>\n",
              "    <tr>\n",
              "      <th>5919</th>\n",
              "      <td>2021-11-05</td>\n",
              "      <td>23.570000</td>\n",
              "      <td>23.920000</td>\n",
              "      <td>23.230000</td>\n",
              "      <td>23.520000</td>\n",
              "      <td>913100</td>\n",
              "      <td>0.08</td>\n",
              "    </tr>\n",
              "    <tr>\n",
              "      <th>5920</th>\n",
              "      <td>2021-11-08</td>\n",
              "      <td>23.680000</td>\n",
              "      <td>24.139999</td>\n",
              "      <td>23.639999</td>\n",
              "      <td>23.790001</td>\n",
              "      <td>893200</td>\n",
              "      <td>0.08</td>\n",
              "    </tr>\n",
              "    <tr>\n",
              "      <th>5921</th>\n",
              "      <td>2021-11-09</td>\n",
              "      <td>23.889999</td>\n",
              "      <td>23.930000</td>\n",
              "      <td>23.150000</td>\n",
              "      <td>23.520000</td>\n",
              "      <td>752500</td>\n",
              "      <td>0.08</td>\n",
              "    </tr>\n",
              "    <tr>\n",
              "      <th>5922</th>\n",
              "      <td>2021-11-10</td>\n",
              "      <td>23.090000</td>\n",
              "      <td>23.450001</td>\n",
              "      <td>22.590000</td>\n",
              "      <td>22.690001</td>\n",
              "      <td>685300</td>\n",
              "      <td>0.08</td>\n",
              "    </tr>\n",
              "    <tr>\n",
              "      <th>5923</th>\n",
              "      <td>2021-11-11</td>\n",
              "      <td>23.100000</td>\n",
              "      <td>23.260000</td>\n",
              "      <td>22.860001</td>\n",
              "      <td>23.100000</td>\n",
              "      <td>452988</td>\n",
              "      <td>0.08</td>\n",
              "    </tr>\n",
              "  </tbody>\n",
              "</table>\n",
              "<p>5924 rows × 7 columns</p>\n",
              "</div>"
            ],
            "text/plain": [
              "           Date       Open       High        Low      Close    Volume  FEDFUNDS\n",
              "0    1998-05-01  12.375000  13.562500  11.750000  13.312500  23597300      5.49\n",
              "1    1998-05-04  13.437500  14.000000  13.375000  13.750000   3529400      5.49\n",
              "2    1998-05-05  13.750000  13.875000  13.000000  13.250000   3056300      5.49\n",
              "3    1998-05-06  13.250000  13.250000  11.875000  12.625000   3109900      5.49\n",
              "4    1998-05-07  12.625000  12.750000  12.250000  12.312500   1304100      5.49\n",
              "...         ...        ...        ...        ...        ...       ...       ...\n",
              "5919 2021-11-05  23.570000  23.920000  23.230000  23.520000    913100      0.08\n",
              "5920 2021-11-08  23.680000  24.139999  23.639999  23.790001    893200      0.08\n",
              "5921 2021-11-09  23.889999  23.930000  23.150000  23.520000    752500      0.08\n",
              "5922 2021-11-10  23.090000  23.450001  22.590000  22.690001    685300      0.08\n",
              "5923 2021-11-11  23.100000  23.260000  22.860001  23.100000    452988      0.08\n",
              "\n",
              "[5924 rows x 7 columns]"
            ]
          },
          "metadata": {},
          "execution_count": 66
        }
      ]
    },
    {
      "cell_type": "markdown",
      "metadata": {
        "id": "pY8G0HUEC9Ff"
      },
      "source": [
        "<h3>2. Data pre-processing and data extraction</h3>\n"
      ]
    },
    {
      "cell_type": "code",
      "metadata": {
        "colab": {
          "base_uri": "https://localhost:8080/",
          "height": 418
        },
        "id": "BfPO5utejh9x",
        "outputId": "247ae373-2e99-4a96-c72a-03afc8a8189f"
      },
      "source": [
        "df"
      ],
      "execution_count": 67,
      "outputs": [
        {
          "output_type": "execute_result",
          "data": {
            "text/html": [
              "<div>\n",
              "<style scoped>\n",
              "    .dataframe tbody tr th:only-of-type {\n",
              "        vertical-align: middle;\n",
              "    }\n",
              "\n",
              "    .dataframe tbody tr th {\n",
              "        vertical-align: top;\n",
              "    }\n",
              "\n",
              "    .dataframe thead th {\n",
              "        text-align: right;\n",
              "    }\n",
              "</style>\n",
              "<table border=\"1\" class=\"dataframe\">\n",
              "  <thead>\n",
              "    <tr style=\"text-align: right;\">\n",
              "      <th></th>\n",
              "      <th>Date</th>\n",
              "      <th>Open</th>\n",
              "      <th>High</th>\n",
              "      <th>Low</th>\n",
              "      <th>Close</th>\n",
              "      <th>Volume</th>\n",
              "      <th>FEDFUNDS</th>\n",
              "    </tr>\n",
              "  </thead>\n",
              "  <tbody>\n",
              "    <tr>\n",
              "      <th>0</th>\n",
              "      <td>1998-05-01</td>\n",
              "      <td>12.375000</td>\n",
              "      <td>13.562500</td>\n",
              "      <td>11.750000</td>\n",
              "      <td>13.312500</td>\n",
              "      <td>23597300</td>\n",
              "      <td>5.49</td>\n",
              "    </tr>\n",
              "    <tr>\n",
              "      <th>1</th>\n",
              "      <td>1998-05-04</td>\n",
              "      <td>13.437500</td>\n",
              "      <td>14.000000</td>\n",
              "      <td>13.375000</td>\n",
              "      <td>13.750000</td>\n",
              "      <td>3529400</td>\n",
              "      <td>5.49</td>\n",
              "    </tr>\n",
              "    <tr>\n",
              "      <th>2</th>\n",
              "      <td>1998-05-05</td>\n",
              "      <td>13.750000</td>\n",
              "      <td>13.875000</td>\n",
              "      <td>13.000000</td>\n",
              "      <td>13.250000</td>\n",
              "      <td>3056300</td>\n",
              "      <td>5.49</td>\n",
              "    </tr>\n",
              "    <tr>\n",
              "      <th>3</th>\n",
              "      <td>1998-05-06</td>\n",
              "      <td>13.250000</td>\n",
              "      <td>13.250000</td>\n",
              "      <td>11.875000</td>\n",
              "      <td>12.625000</td>\n",
              "      <td>3109900</td>\n",
              "      <td>5.49</td>\n",
              "    </tr>\n",
              "    <tr>\n",
              "      <th>4</th>\n",
              "      <td>1998-05-07</td>\n",
              "      <td>12.625000</td>\n",
              "      <td>12.750000</td>\n",
              "      <td>12.250000</td>\n",
              "      <td>12.312500</td>\n",
              "      <td>1304100</td>\n",
              "      <td>5.49</td>\n",
              "    </tr>\n",
              "    <tr>\n",
              "      <th>...</th>\n",
              "      <td>...</td>\n",
              "      <td>...</td>\n",
              "      <td>...</td>\n",
              "      <td>...</td>\n",
              "      <td>...</td>\n",
              "      <td>...</td>\n",
              "      <td>...</td>\n",
              "    </tr>\n",
              "    <tr>\n",
              "      <th>5919</th>\n",
              "      <td>2021-11-05</td>\n",
              "      <td>23.570000</td>\n",
              "      <td>23.920000</td>\n",
              "      <td>23.230000</td>\n",
              "      <td>23.520000</td>\n",
              "      <td>913100</td>\n",
              "      <td>0.08</td>\n",
              "    </tr>\n",
              "    <tr>\n",
              "      <th>5920</th>\n",
              "      <td>2021-11-08</td>\n",
              "      <td>23.680000</td>\n",
              "      <td>24.139999</td>\n",
              "      <td>23.639999</td>\n",
              "      <td>23.790001</td>\n",
              "      <td>893200</td>\n",
              "      <td>0.08</td>\n",
              "    </tr>\n",
              "    <tr>\n",
              "      <th>5921</th>\n",
              "      <td>2021-11-09</td>\n",
              "      <td>23.889999</td>\n",
              "      <td>23.930000</td>\n",
              "      <td>23.150000</td>\n",
              "      <td>23.520000</td>\n",
              "      <td>752500</td>\n",
              "      <td>0.08</td>\n",
              "    </tr>\n",
              "    <tr>\n",
              "      <th>5922</th>\n",
              "      <td>2021-11-10</td>\n",
              "      <td>23.090000</td>\n",
              "      <td>23.450001</td>\n",
              "      <td>22.590000</td>\n",
              "      <td>22.690001</td>\n",
              "      <td>685300</td>\n",
              "      <td>0.08</td>\n",
              "    </tr>\n",
              "    <tr>\n",
              "      <th>5923</th>\n",
              "      <td>2021-11-11</td>\n",
              "      <td>23.100000</td>\n",
              "      <td>23.260000</td>\n",
              "      <td>22.860001</td>\n",
              "      <td>23.100000</td>\n",
              "      <td>452988</td>\n",
              "      <td>0.08</td>\n",
              "    </tr>\n",
              "  </tbody>\n",
              "</table>\n",
              "<p>5924 rows × 7 columns</p>\n",
              "</div>"
            ],
            "text/plain": [
              "           Date       Open       High        Low      Close    Volume  FEDFUNDS\n",
              "0    1998-05-01  12.375000  13.562500  11.750000  13.312500  23597300      5.49\n",
              "1    1998-05-04  13.437500  14.000000  13.375000  13.750000   3529400      5.49\n",
              "2    1998-05-05  13.750000  13.875000  13.000000  13.250000   3056300      5.49\n",
              "3    1998-05-06  13.250000  13.250000  11.875000  12.625000   3109900      5.49\n",
              "4    1998-05-07  12.625000  12.750000  12.250000  12.312500   1304100      5.49\n",
              "...         ...        ...        ...        ...        ...       ...       ...\n",
              "5919 2021-11-05  23.570000  23.920000  23.230000  23.520000    913100      0.08\n",
              "5920 2021-11-08  23.680000  24.139999  23.639999  23.790001    893200      0.08\n",
              "5921 2021-11-09  23.889999  23.930000  23.150000  23.520000    752500      0.08\n",
              "5922 2021-11-10  23.090000  23.450001  22.590000  22.690001    685300      0.08\n",
              "5923 2021-11-11  23.100000  23.260000  22.860001  23.100000    452988      0.08\n",
              "\n",
              "[5924 rows x 7 columns]"
            ]
          },
          "metadata": {},
          "execution_count": 67
        }
      ]
    },
    {
      "cell_type": "markdown",
      "metadata": {
        "id": "BWoVtCl8km4O"
      },
      "source": [
        "<h3> Feature extraction </h3>\n",
        "\n",
        "- As you see 'Open', 'High', 'Low', 'Close' there correlation is over 99% which means they are not useful as features.\n",
        "- However 'FED FUNDS's correlation is over than 40% which is pretty high can be used as features."
      ]
    },
    {
      "cell_type": "code",
      "metadata": {
        "colab": {
          "base_uri": "https://localhost:8080/",
          "height": 235
        },
        "id": "JtJxgt9XjUKn",
        "outputId": "261c41bc-6da9-4d3b-cbf6-04a7a290293f"
      },
      "source": [
        "check = df\n",
        "check.reset_index(drop = True, inplace = True)\n",
        "check.corr()"
      ],
      "execution_count": 68,
      "outputs": [
        {
          "output_type": "execute_result",
          "data": {
            "text/html": [
              "<div>\n",
              "<style scoped>\n",
              "    .dataframe tbody tr th:only-of-type {\n",
              "        vertical-align: middle;\n",
              "    }\n",
              "\n",
              "    .dataframe tbody tr th {\n",
              "        vertical-align: top;\n",
              "    }\n",
              "\n",
              "    .dataframe thead th {\n",
              "        text-align: right;\n",
              "    }\n",
              "</style>\n",
              "<table border=\"1\" class=\"dataframe\">\n",
              "  <thead>\n",
              "    <tr style=\"text-align: right;\">\n",
              "      <th></th>\n",
              "      <th>Open</th>\n",
              "      <th>High</th>\n",
              "      <th>Low</th>\n",
              "      <th>Close</th>\n",
              "      <th>Volume</th>\n",
              "      <th>FEDFUNDS</th>\n",
              "    </tr>\n",
              "  </thead>\n",
              "  <tbody>\n",
              "    <tr>\n",
              "      <th>Open</th>\n",
              "      <td>1.000000</td>\n",
              "      <td>0.998596</td>\n",
              "      <td>0.998444</td>\n",
              "      <td>0.997149</td>\n",
              "      <td>-0.086886</td>\n",
              "      <td>0.421552</td>\n",
              "    </tr>\n",
              "    <tr>\n",
              "      <th>High</th>\n",
              "      <td>0.998596</td>\n",
              "      <td>1.000000</td>\n",
              "      <td>0.998024</td>\n",
              "      <td>0.998790</td>\n",
              "      <td>-0.079869</td>\n",
              "      <td>0.427416</td>\n",
              "    </tr>\n",
              "    <tr>\n",
              "      <th>Low</th>\n",
              "      <td>0.998444</td>\n",
              "      <td>0.998024</td>\n",
              "      <td>1.000000</td>\n",
              "      <td>0.998505</td>\n",
              "      <td>-0.093083</td>\n",
              "      <td>0.414589</td>\n",
              "    </tr>\n",
              "    <tr>\n",
              "      <th>Close</th>\n",
              "      <td>0.997149</td>\n",
              "      <td>0.998790</td>\n",
              "      <td>0.998505</td>\n",
              "      <td>1.000000</td>\n",
              "      <td>-0.085376</td>\n",
              "      <td>0.420953</td>\n",
              "    </tr>\n",
              "    <tr>\n",
              "      <th>Volume</th>\n",
              "      <td>-0.086886</td>\n",
              "      <td>-0.079869</td>\n",
              "      <td>-0.093083</td>\n",
              "      <td>-0.085376</td>\n",
              "      <td>1.000000</td>\n",
              "      <td>0.089541</td>\n",
              "    </tr>\n",
              "    <tr>\n",
              "      <th>FEDFUNDS</th>\n",
              "      <td>0.421552</td>\n",
              "      <td>0.427416</td>\n",
              "      <td>0.414589</td>\n",
              "      <td>0.420953</td>\n",
              "      <td>0.089541</td>\n",
              "      <td>1.000000</td>\n",
              "    </tr>\n",
              "  </tbody>\n",
              "</table>\n",
              "</div>"
            ],
            "text/plain": [
              "              Open      High       Low     Close    Volume  FEDFUNDS\n",
              "Open      1.000000  0.998596  0.998444  0.997149 -0.086886  0.421552\n",
              "High      0.998596  1.000000  0.998024  0.998790 -0.079869  0.427416\n",
              "Low       0.998444  0.998024  1.000000  0.998505 -0.093083  0.414589\n",
              "Close     0.997149  0.998790  0.998505  1.000000 -0.085376  0.420953\n",
              "Volume   -0.086886 -0.079869 -0.093083 -0.085376  1.000000  0.089541\n",
              "FEDFUNDS  0.421552  0.427416  0.414589  0.420953  0.089541  1.000000"
            ]
          },
          "metadata": {},
          "execution_count": 68
        }
      ]
    },
    {
      "cell_type": "code",
      "metadata": {
        "id": "v7hcwFPoj6Pq"
      },
      "source": [
        "# drop unuseful columns\n",
        "dataset_train =df\n",
        "dataset_train.drop([\"High\", \"Low\", \"Open\", \"Volume\"], axis = 1, inplace = True)"
      ],
      "execution_count": 69,
      "outputs": []
    },
    {
      "cell_type": "code",
      "metadata": {
        "tags": [],
        "id": "OQmknMWQC9Ff"
      },
      "source": [
        "# Select features (columns) to be involved intro training and predictions\n",
        "cols = list(dataset_train)[1:3]\n",
        "\n",
        "# Extract dates (will be used in visualization)\n",
        "datelist_train = pd.to_datetime(dataset_train['Date'])\n",
        "datelist_train = list(map(str, dataset_train['Date']))\n",
        "for i in range(len(datelist_train)):\n",
        "  datelist_train[i]=datelist_train[i][:10]\n",
        "\n",
        "datelist_train = [dt.datetime.strptime(date, '%Y-%m-%d').date() for date in datelist_train]\n"
      ],
      "execution_count": 70,
      "outputs": []
    },
    {
      "cell_type": "code",
      "metadata": {
        "colab": {
          "base_uri": "https://localhost:8080/"
        },
        "id": "2P1ETSXYUete",
        "outputId": "c6dda4ef-24f4-42b0-c19e-2ffd6451f422"
      },
      "source": [
        "print('Training set shape == {}'.format(dataset_train.shape))\n",
        "print('All timestamps == {}'.format(len(datelist_train)))\n",
        "print('Featured selected: {}'.format(cols))"
      ],
      "execution_count": 71,
      "outputs": [
        {
          "output_type": "stream",
          "name": "stdout",
          "text": [
            "Training set shape == (5924, 3)\n",
            "All timestamps == 5924\n",
            "Featured selected: ['Close', 'FEDFUNDS']\n"
          ]
        }
      ]
    },
    {
      "cell_type": "markdown",
      "metadata": {
        "id": "jzRqLg7kgJcO"
      },
      "source": [
        "<h3> Mutivariable LSTM model</h3>\n",
        "\n",
        "- Add external data 'FED FUNDS'\n",
        "- Stock 'Closed' dataset\n"
      ]
    },
    {
      "cell_type": "code",
      "metadata": {
        "id": "m1ueCRXJf_Ul"
      },
      "source": [
        "# Scaling\n",
        "from sklearn.preprocessing import StandardScaler\n",
        "from sklearn.preprocessing import RobustScaler\n",
        "from sklearn.preprocessing import MinMaxScaler\n",
        "from sklearn.model_selection import train_test_split\n",
        "\n",
        "# Import Libraries and packages from Keras\n",
        "from keras.models import Sequential\n",
        "from keras.layers import Dense\n",
        "from keras.layers import LSTM\n",
        "from keras.layers import Dropout\n",
        "from tensorflow.keras.optimizers import Adam # - Works\n",
        "from keras.layers import Bidirectional"
      ],
      "execution_count": 72,
      "outputs": []
    },
    {
      "cell_type": "code",
      "metadata": {
        "tags": [],
        "id": "nH_bKDQYC9Fg"
      },
      "source": [
        "dataset_train = dataset_train[cols].astype(str)\n",
        "for i in cols:\n",
        "    for j in range(0, len(dataset_train)):\n",
        "        dataset_train[i][j] = dataset_train[i][j].replace(',', '')\n",
        "\n",
        "dataset_train = dataset_train.astype(float)"
      ],
      "execution_count": 345,
      "outputs": []
    },
    {
      "cell_type": "code",
      "metadata": {
        "colab": {
          "base_uri": "https://localhost:8080/",
          "height": 418
        },
        "id": "ZZHWpKdQ0daM",
        "outputId": "d4106f74-d256-4ddd-ccd5-e36fae16d45d"
      },
      "source": [
        "dataset_train"
      ],
      "execution_count": 333,
      "outputs": [
        {
          "output_type": "execute_result",
          "data": {
            "text/html": [
              "<div>\n",
              "<style scoped>\n",
              "    .dataframe tbody tr th:only-of-type {\n",
              "        vertical-align: middle;\n",
              "    }\n",
              "\n",
              "    .dataframe tbody tr th {\n",
              "        vertical-align: top;\n",
              "    }\n",
              "\n",
              "    .dataframe thead th {\n",
              "        text-align: right;\n",
              "    }\n",
              "</style>\n",
              "<table border=\"1\" class=\"dataframe\">\n",
              "  <thead>\n",
              "    <tr style=\"text-align: right;\">\n",
              "      <th></th>\n",
              "      <th>Close</th>\n",
              "      <th>FEDFUNDS</th>\n",
              "    </tr>\n",
              "  </thead>\n",
              "  <tbody>\n",
              "    <tr>\n",
              "      <th>1998-05-01</th>\n",
              "      <td>13.312500</td>\n",
              "      <td>5.49</td>\n",
              "    </tr>\n",
              "    <tr>\n",
              "      <th>1998-05-04</th>\n",
              "      <td>13.750000</td>\n",
              "      <td>5.49</td>\n",
              "    </tr>\n",
              "    <tr>\n",
              "      <th>1998-05-05</th>\n",
              "      <td>13.250000</td>\n",
              "      <td>5.49</td>\n",
              "    </tr>\n",
              "    <tr>\n",
              "      <th>1998-05-06</th>\n",
              "      <td>12.625000</td>\n",
              "      <td>5.49</td>\n",
              "    </tr>\n",
              "    <tr>\n",
              "      <th>1998-05-07</th>\n",
              "      <td>12.312500</td>\n",
              "      <td>5.49</td>\n",
              "    </tr>\n",
              "    <tr>\n",
              "      <th>...</th>\n",
              "      <td>...</td>\n",
              "      <td>...</td>\n",
              "    </tr>\n",
              "    <tr>\n",
              "      <th>2021-11-05</th>\n",
              "      <td>23.520000</td>\n",
              "      <td>0.08</td>\n",
              "    </tr>\n",
              "    <tr>\n",
              "      <th>2021-11-08</th>\n",
              "      <td>23.790001</td>\n",
              "      <td>0.08</td>\n",
              "    </tr>\n",
              "    <tr>\n",
              "      <th>2021-11-09</th>\n",
              "      <td>23.520000</td>\n",
              "      <td>0.08</td>\n",
              "    </tr>\n",
              "    <tr>\n",
              "      <th>2021-11-10</th>\n",
              "      <td>22.690001</td>\n",
              "      <td>0.08</td>\n",
              "    </tr>\n",
              "    <tr>\n",
              "      <th>2021-11-11</th>\n",
              "      <td>23.100000</td>\n",
              "      <td>0.08</td>\n",
              "    </tr>\n",
              "  </tbody>\n",
              "</table>\n",
              "<p>5924 rows × 2 columns</p>\n",
              "</div>"
            ],
            "text/plain": [
              "                Close  FEDFUNDS\n",
              "1998-05-01  13.312500      5.49\n",
              "1998-05-04  13.750000      5.49\n",
              "1998-05-05  13.250000      5.49\n",
              "1998-05-06  12.625000      5.49\n",
              "1998-05-07  12.312500      5.49\n",
              "...               ...       ...\n",
              "2021-11-05  23.520000      0.08\n",
              "2021-11-08  23.790001      0.08\n",
              "2021-11-09  23.520000      0.08\n",
              "2021-11-10  22.690001      0.08\n",
              "2021-11-11  23.100000      0.08\n",
              "\n",
              "[5924 rows x 2 columns]"
            ]
          },
          "metadata": {},
          "execution_count": 333
        }
      ]
    },
    {
      "cell_type": "code",
      "metadata": {
        "colab": {
          "base_uri": "https://localhost:8080/"
        },
        "id": "_27-f3mGxWTV",
        "outputId": "012b80bc-b9ca-4e00-e771-d62776fccff3"
      },
      "source": [
        "# Using multiple features (predictors)\n",
        "data_set = dataset_train.to_numpy()\n",
        "\n",
        "print('Shape of training set == {}.'.format(data_set.shape))\n",
        "# MinMaxScaler\n",
        "sc = MinMaxScaler()\n",
        "training_set_scaled = sc.fit_transform(data_set)\n",
        "\n",
        "sc_predict = MinMaxScaler()\n",
        "sc_predict.fit_transform(data_set[:, 0:1])\n",
        "\n",
        "# sc_df = scaling_df(dataset_train)\n",
        "\n",
        "# training_set_scaled"
      ],
      "execution_count": 412,
      "outputs": [
        {
          "output_type": "stream",
          "name": "stdout",
          "text": [
            "Shape of training set == (5924, 2).\n"
          ]
        },
        {
          "output_type": "execute_result",
          "data": {
            "text/plain": [
              "array([[0.19116196],\n",
              "       [0.19806668],\n",
              "       [0.19017558],\n",
              "       ...,\n",
              "       [0.35225883],\n",
              "       [0.33915961],\n",
              "       [0.34563031]])"
            ]
          },
          "metadata": {},
          "execution_count": 412
        }
      ]
    },
    {
      "cell_type": "code",
      "metadata": {
        "tags": [],
        "colab": {
          "base_uri": "https://localhost:8080/"
        },
        "id": "lmTRlpKoC9Fh",
        "outputId": "493727c2-68e5-4d2d-902e-0cf0518974ed"
      },
      "source": [
        "n_future = 20   # Number of days we want top predict into the future\n",
        "n_past = 60     # Number of past days we want to use to predict the future\n",
        "X_train = []\n",
        "y_train = []\n",
        "\n",
        "\n",
        "for i in range(n_past, len(training_set_scaled) +1):\n",
        "    X_train.append(training_set_scaled[i - n_past:i, 0:dataset_train.shape[1] - 1])\n",
        "    y_train.append(training_set_scaled[i  - 1:i , 0])\n",
        "    # y_train.append(training_set_scaled[i + n_future - 1:i + n_future, 0])\n",
        "\n",
        "X_train, y_train = np.array(X_train), np.array(y_train)\n",
        "\n",
        "print('X_train shape == {}.'.format(X_train.shape))\n",
        "print('y_train shape == {}.'.format(y_train.shape))"
      ],
      "execution_count": 397,
      "outputs": [
        {
          "output_type": "stream",
          "name": "stdout",
          "text": [
            "X_train shape == (5865, 60, 1).\n",
            "y_train shape == (5865, 1).\n"
          ]
        }
      ]
    },
    {
      "cell_type": "code",
      "metadata": {
        "id": "0mIvtSYrb_x_"
      },
      "source": [
        "############TRAIN, VALIDATE\n",
        "X_train1, X_test1 = train_test_split(X_train, test_size=0.2, random_state=0, shuffle=False)\n",
        "y_train1, y_test1 = train_test_split(y_train, test_size=0.2, random_state=0, shuffle=False)\n",
        "X_train_dt, y_test_dt = train_test_split(datelist_train, test_size=0.2, random_state=0, shuffle=False)\n"
      ],
      "execution_count": 84,
      "outputs": []
    },
    {
      "cell_type": "markdown",
      "metadata": {
        "id": "FvUbRyLIC9Fi"
      },
      "source": [
        "<h3>3. Building the LSTM based Neural Network</h3>"
      ]
    },
    {
      "cell_type": "markdown",
      "metadata": {
        "id": "SP5Ja-V_HwIY"
      },
      "source": [
        "<h3>LSTM model must be 3D</h3>\n",
        "\n",
        "* (batch_size, time_steps, units)\n",
        "* use past day as prediction\n",
        "\n",
        "![image.png](data:image/png;base64,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)"
      ]
    },
    {
      "cell_type": "code",
      "metadata": {
        "colab": {
          "base_uri": "https://localhost:8080/"
        },
        "id": "TH9rKBi6HnTn",
        "outputId": "68311008-609f-4c49-9ef2-729cc2b903d4"
      },
      "source": [
        "n_past, dataset_train.shape[1]-1"
      ],
      "execution_count": 336,
      "outputs": [
        {
          "output_type": "execute_result",
          "data": {
            "text/plain": [
              "(21, 1)"
            ]
          },
          "metadata": {},
          "execution_count": 336
        }
      ]
    },
    {
      "cell_type": "markdown",
      "metadata": {
        "id": "1HbpbytUfRVI"
      },
      "source": [
        "<h3>model input: [data_size, time_steps, features]\n",
        "\n",
        "- <b>data_size</b>: As you added the train data you don't need additional information of data_size.\n",
        "- <b>time_stemps</b>: You use 60 days of patterns to predict 20 days so time_steps are 60\n",
        "- <b>features</b>: As I used 2 features 'Closed' and 'FED FUNDS'.\n",
        "\n",
        " However I used 'Closed' as a prediction target so features are df.shape[1]-1.\n",
        "\n",
        " Which is 2 -1 = 1 in this code."
      ]
    },
    {
      "cell_type": "code",
      "metadata": {
        "tags": [],
        "id": "PInLyvBWC9Fj",
        "colab": {
          "base_uri": "https://localhost:8080/"
        },
        "outputId": "80e3ad16-075a-4438-8f93-c0a99ffe46ce"
      },
      "source": [
        "# Initializing the Neural Network based on LSTM\n",
        "model1 = Sequential()\n",
        "\n",
        "# Adding 1st LSTM layer\n",
        "model1.add(Bidirectional(LSTM(128, return_sequences = True), input_shape = (n_past, dataset_train.shape[1]-1)))\n",
        "\n",
        "# Adding 2nd LSTM layer\n",
        "model1.add(LSTM(units=100, return_sequences=False))\n",
        "\n",
        "# Adding Dropout\n",
        "model1.add(Dropout(0.5))\n",
        "\n",
        "# Output layer\n",
        "model1.add(Dense(units=1, activation='linear'))\n",
        "\n",
        "# Compiling the Neural Network\n",
        "model1.compile(optimizer = Adam(learning_rate=0.01), loss='mean_squared_error')\n",
        "\n",
        "es = EarlyStopping(monitor='val_loss', min_delta=1e-10, patience=10, verbose=1)\n",
        "rlr = ReduceLROnPlateau(monitor='val_loss', factor=0.5, patience=10, verbose=1)\n",
        "mcp = ModelCheckpoint(filepath='weights.h5', monitor='val_loss', verbose=1, save_best_only=True, save_weights_only=True)\n",
        "\n",
        "tb = TensorBoard('logs')\n",
        "\n",
        "history = model1.fit(X_train, y_train, shuffle=True, epochs=30, callbacks=[es, rlr, mcp, tb], validation_split=0.2, verbose=1, batch_size=256)\n"
      ],
      "execution_count": 411,
      "outputs": [
        {
          "output_type": "stream",
          "name": "stdout",
          "text": [
            "Epoch 1/30\n",
            "19/19 [==============================] - ETA: 0s - loss: 0.0267\n",
            "Epoch 00001: val_loss improved from inf to 0.00024, saving model to weights.h5\n",
            "19/19 [==============================] - 22s 912ms/step - loss: 0.0267 - val_loss: 2.3521e-04 - lr: 0.0100\n",
            "Epoch 2/30\n",
            "19/19 [==============================] - ETA: 0s - loss: 0.0013\n",
            "Epoch 00002: val_loss improved from 0.00024 to 0.00008, saving model to weights.h5\n",
            "19/19 [==============================] - 16s 847ms/step - loss: 0.0013 - val_loss: 8.2905e-05 - lr: 0.0100\n",
            "Epoch 3/30\n",
            "19/19 [==============================] - ETA: 0s - loss: 9.2386e-04\n",
            "Epoch 00003: val_loss did not improve from 0.00008\n",
            "19/19 [==============================] - 16s 839ms/step - loss: 9.2386e-04 - val_loss: 1.3423e-04 - lr: 0.0100\n",
            "Epoch 4/30\n",
            "19/19 [==============================] - ETA: 0s - loss: 6.8901e-04\n",
            "Epoch 00004: val_loss improved from 0.00008 to 0.00007, saving model to weights.h5\n",
            "19/19 [==============================] - 17s 910ms/step - loss: 6.8901e-04 - val_loss: 6.5742e-05 - lr: 0.0100\n",
            "Epoch 5/30\n",
            "19/19 [==============================] - ETA: 0s - loss: 6.3926e-04\n",
            "Epoch 00005: val_loss did not improve from 0.00007\n",
            "19/19 [==============================] - 16s 843ms/step - loss: 6.3926e-04 - val_loss: 3.0388e-04 - lr: 0.0100\n",
            "Epoch 6/30\n",
            "19/19 [==============================] - ETA: 0s - loss: 6.8745e-04\n",
            "Epoch 00006: val_loss improved from 0.00007 to 0.00006, saving model to weights.h5\n",
            "19/19 [==============================] - 17s 913ms/step - loss: 6.8745e-04 - val_loss: 5.7135e-05 - lr: 0.0100\n",
            "Epoch 7/30\n",
            "19/19 [==============================] - ETA: 0s - loss: 5.6173e-04\n",
            "Epoch 00007: val_loss did not improve from 0.00006\n",
            "19/19 [==============================] - 17s 916ms/step - loss: 5.6173e-04 - val_loss: 9.2638e-05 - lr: 0.0100\n",
            "Epoch 8/30\n",
            "19/19 [==============================] - ETA: 0s - loss: 5.4849e-04\n",
            "Epoch 00008: val_loss improved from 0.00006 to 0.00005, saving model to weights.h5\n",
            "19/19 [==============================] - 16s 839ms/step - loss: 5.4849e-04 - val_loss: 5.1003e-05 - lr: 0.0100\n",
            "Epoch 9/30\n",
            "19/19 [==============================] - ETA: 0s - loss: 5.1684e-04\n",
            "Epoch 00009: val_loss did not improve from 0.00005\n",
            "19/19 [==============================] - 16s 837ms/step - loss: 5.1684e-04 - val_loss: 1.0744e-04 - lr: 0.0100\n",
            "Epoch 10/30\n",
            "19/19 [==============================] - ETA: 0s - loss: 4.6616e-04\n",
            "Epoch 00010: val_loss improved from 0.00005 to 0.00005, saving model to weights.h5\n",
            "19/19 [==============================] - 16s 842ms/step - loss: 4.6616e-04 - val_loss: 4.7103e-05 - lr: 0.0100\n",
            "Epoch 11/30\n",
            "19/19 [==============================] - ETA: 0s - loss: 4.5734e-04\n",
            "Epoch 00011: val_loss improved from 0.00005 to 0.00004, saving model to weights.h5\n",
            "19/19 [==============================] - 17s 917ms/step - loss: 4.5734e-04 - val_loss: 3.6509e-05 - lr: 0.0100\n",
            "Epoch 12/30\n",
            "19/19 [==============================] - ETA: 0s - loss: 4.0000e-04\n",
            "Epoch 00012: ReduceLROnPlateau reducing learning rate to 0.004999999888241291.\n",
            "\n",
            "Epoch 00012: val_loss did not improve from 0.00004\n",
            "19/19 [==============================] - 16s 857ms/step - loss: 4.0000e-04 - val_loss: 1.0602e-04 - lr: 0.0100\n",
            "Epoch 13/30\n",
            "19/19 [==============================] - ETA: 0s - loss: 3.5034e-04\n",
            "Epoch 00013: val_loss improved from 0.00004 to 0.00003, saving model to weights.h5\n",
            "19/19 [==============================] - 16s 855ms/step - loss: 3.5034e-04 - val_loss: 3.4548e-05 - lr: 0.0050\n",
            "Epoch 14/30\n",
            "19/19 [==============================] - ETA: 0s - loss: 3.6314e-04\n",
            "Epoch 00014: val_loss did not improve from 0.00003\n",
            "19/19 [==============================] - 16s 851ms/step - loss: 3.6314e-04 - val_loss: 4.5024e-05 - lr: 0.0050\n",
            "Epoch 15/30\n",
            "19/19 [==============================] - ETA: 0s - loss: 3.5640e-04\n",
            "Epoch 00015: val_loss improved from 0.00003 to 0.00003, saving model to weights.h5\n",
            "19/19 [==============================] - 17s 924ms/step - loss: 3.5640e-04 - val_loss: 3.1130e-05 - lr: 0.0050\n",
            "Epoch 16/30\n",
            "19/19 [==============================] - ETA: 0s - loss: 3.2861e-04\n",
            "Epoch 00016: val_loss improved from 0.00003 to 0.00003, saving model to weights.h5\n",
            "19/19 [==============================] - 16s 847ms/step - loss: 3.2861e-04 - val_loss: 3.0171e-05 - lr: 0.0050\n",
            "Epoch 17/30\n",
            "19/19 [==============================] - ETA: 0s - loss: 3.1252e-04\n",
            "Epoch 00017: val_loss did not improve from 0.00003\n",
            "19/19 [==============================] - 16s 851ms/step - loss: 3.1252e-04 - val_loss: 5.3861e-05 - lr: 0.0050\n",
            "Epoch 18/30\n",
            "19/19 [==============================] - ETA: 0s - loss: 3.3284e-04\n",
            "Epoch 00018: val_loss did not improve from 0.00003\n",
            "19/19 [==============================] - 16s 847ms/step - loss: 3.3284e-04 - val_loss: 4.7593e-05 - lr: 0.0050\n",
            "Epoch 19/30\n",
            "19/19 [==============================] - ETA: 0s - loss: 3.5880e-04\n",
            "Epoch 00019: val_loss did not improve from 0.00003\n",
            "19/19 [==============================] - 16s 850ms/step - loss: 3.5880e-04 - val_loss: 3.5518e-05 - lr: 0.0050\n",
            "Epoch 20/30\n",
            "19/19 [==============================] - ETA: 0s - loss: 3.0877e-04\n",
            "Epoch 00020: val_loss did not improve from 0.00003\n",
            "19/19 [==============================] - 17s 926ms/step - loss: 3.0877e-04 - val_loss: 5.0419e-05 - lr: 0.0050\n",
            "Epoch 21/30\n",
            "19/19 [==============================] - ETA: 0s - loss: 2.9316e-04\n",
            "Epoch 00021: val_loss did not improve from 0.00003\n",
            "19/19 [==============================] - 16s 861ms/step - loss: 2.9316e-04 - val_loss: 5.3941e-05 - lr: 0.0050\n",
            "Epoch 22/30\n",
            "19/19 [==============================] - ETA: 0s - loss: 2.9040e-04\n",
            "Epoch 00022: ReduceLROnPlateau reducing learning rate to 0.0024999999441206455.\n",
            "\n",
            "Epoch 00022: val_loss did not improve from 0.00003\n",
            "19/19 [==============================] - 18s 928ms/step - loss: 2.9040e-04 - val_loss: 3.2039e-05 - lr: 0.0050\n",
            "Epoch 23/30\n",
            "19/19 [==============================] - ETA: 0s - loss: 2.9261e-04\n",
            "Epoch 00023: val_loss did not improve from 0.00003\n",
            "19/19 [==============================] - 16s 857ms/step - loss: 2.9261e-04 - val_loss: 3.9945e-05 - lr: 0.0025\n",
            "Epoch 24/30\n",
            "19/19 [==============================] - ETA: 0s - loss: 2.6937e-04\n",
            "Epoch 00024: val_loss improved from 0.00003 to 0.00003, saving model to weights.h5\n",
            "19/19 [==============================] - 17s 920ms/step - loss: 2.6937e-04 - val_loss: 2.7710e-05 - lr: 0.0025\n",
            "Epoch 25/30\n",
            "19/19 [==============================] - ETA: 0s - loss: 2.7677e-04\n",
            "Epoch 00025: val_loss improved from 0.00003 to 0.00002, saving model to weights.h5\n",
            "19/19 [==============================] - 16s 856ms/step - loss: 2.7677e-04 - val_loss: 2.4596e-05 - lr: 0.0025\n",
            "Epoch 26/30\n",
            "19/19 [==============================] - ETA: 0s - loss: 2.8514e-04\n",
            "Epoch 00026: val_loss improved from 0.00002 to 0.00002, saving model to weights.h5\n",
            "19/19 [==============================] - 16s 856ms/step - loss: 2.8514e-04 - val_loss: 2.0685e-05 - lr: 0.0025\n",
            "Epoch 27/30\n",
            "19/19 [==============================] - ETA: 0s - loss: 2.7282e-04\n",
            "Epoch 00027: val_loss did not improve from 0.00002\n",
            "19/19 [==============================] - 18s 928ms/step - loss: 2.7282e-04 - val_loss: 3.1883e-05 - lr: 0.0025\n",
            "Epoch 28/30\n",
            "19/19 [==============================] - ETA: 0s - loss: 2.4966e-04\n",
            "Epoch 00028: val_loss did not improve from 0.00002\n",
            "19/19 [==============================] - 16s 858ms/step - loss: 2.4966e-04 - val_loss: 2.2211e-05 - lr: 0.0025\n",
            "Epoch 29/30\n",
            "19/19 [==============================] - ETA: 0s - loss: 2.3130e-04\n",
            "Epoch 00029: val_loss improved from 0.00002 to 0.00002, saving model to weights.h5\n",
            "19/19 [==============================] - 16s 852ms/step - loss: 2.3130e-04 - val_loss: 1.9824e-05 - lr: 0.0025\n",
            "Epoch 30/30\n",
            "19/19 [==============================] - ETA: 0s - loss: 2.4076e-04\n",
            "Epoch 00030: val_loss did not improve from 0.00002\n",
            "19/19 [==============================] - 16s 832ms/step - loss: 2.4076e-04 - val_loss: 2.9412e-05 - lr: 0.0025\n"
          ]
        }
      ]
    },
    {
      "cell_type": "markdown",
      "metadata": {
        "id": "3W_Dug-9C9Fk"
      },
      "source": [
        "<p>\n",
        "Notes:<br>\n",
        "<ul>\n",
        "<li><b>EarlyStopping</b> - Stop training when a monitored metric has stopped improving.</li>\n",
        "<li><code>monitor</code> - quantity to be monitored.</li>\n",
        "<li><code>min_delta</code> - minimum change in the monitored quantity to qualify as an improvement, i.e. an absolute change of less than <code>min_delta</code>, will count as no improvement.</li>\n",
        "<li><code>patience</code> - number of epochs with no improvement after which training will be stopped.</li>\n",
        "</ul>\n",
        "\n",
        "<ul>\n",
        "<li><b>ReduceLROnPlateau</b> - Reduce learning rate when a metric has stopped improving.</li>\n",
        "<li><code>factor</code> - factor by which the learning rate will be reduced. <code>new_lr = lr * factor</code>.</li>\n",
        "</ul>\n",
        "</p>\n",
        "\n",
        "<hr>\n",
        "\n",
        "\n",
        "<!-- <p>\n",
        "We will perform predictions for the next <b>20</b> days, since <b>2020-07-10</b> to <b>today +20</b>.\n",
        "</p> -->"
      ]
    },
    {
      "cell_type": "markdown",
      "metadata": {
        "id": "CsBtYf3HC9Fk"
      },
      "source": [
        "<h2>Make future predictions (20days)</h2>"
      ]
    },
    {
      "cell_type": "code",
      "metadata": {
        "id": "UeSfEUPhC9Fl"
      },
      "source": [
        "# Generate list of sequence of days for predictions\n",
        "datelist_future = pd.date_range(datelist_train[-1], periods=n_future, freq='1d').tolist()\n",
        "\n",
        "'''\n",
        "Remeber, we have datelist_train from begining.\n",
        "'''\n",
        "\n",
        "# Convert Pandas Timestamp to Datetime object (for transformation) --> FUTURE\n",
        "datelist_future_ = []\n",
        "for this_timestamp in datelist_future:\n",
        "    datelist_future_.append(this_timestamp.date())"
      ],
      "execution_count": 437,
      "outputs": []
    },
    {
      "cell_type": "markdown",
      "metadata": {
        "id": "krUoTMh0C9Fl"
      },
      "source": [
        "<h3>4. Make predictions for future dates</h3>"
      ]
    },
    {
      "cell_type": "code",
      "metadata": {
        "tags": [],
        "id": "HiIt7SKnC9Fl"
      },
      "source": [
        "# Perform predictions\n",
        "def prediction(data):\n",
        "  predictions_future = model1.predict(data[-n_future:]) # predict next 20days\n",
        "  predictions_train = model1.predict(data[n_past:])\n",
        "  return predictions_future, predictions_train\n",
        "\n",
        "pre = prediction(X_train)\n",
        "\n",
        "predictions_future = pre[0]\n",
        "predictions_train = pre[1]"
      ],
      "execution_count": 438,
      "outputs": []
    },
    {
      "cell_type": "code",
      "metadata": {
        "colab": {
          "base_uri": "https://localhost:8080/"
        },
        "id": "Vy8CwrlBm5yc",
        "outputId": "6e596244-9b3c-402b-fb71-0f1efbb5208e"
      },
      "source": [
        "print(len(dataset_train))\n",
        "print(len(predictions_train))\n",
        "print(len(predictions_future))"
      ],
      "execution_count": 415,
      "outputs": [
        {
          "output_type": "stream",
          "name": "stdout",
          "text": [
            "5924\n",
            "5805\n",
            "20\n"
          ]
        }
      ]
    },
    {
      "cell_type": "code",
      "metadata": {
        "tags": [],
        "id": "TDrzkyjWC9Fl",
        "colab": {
          "base_uri": "https://localhost:8080/",
          "height": 141
        },
        "outputId": "da73e4cd-2db4-4d1b-c024-ef434afa4b34"
      },
      "source": [
        "#Inverse the predictions to original measurements\n",
        "\n",
        "# ---> Special function: convert <datetime.date> to <Timestamp>\n",
        "def datetime_to_timestamp(x):\n",
        "    '''\n",
        "        x : a given datetime value (datetime.date)\n",
        "    '''\n",
        "    return dt.datetime.strptime(x.strftime('%Y%m%d'), '%Y%m%d')\n",
        "\n",
        "\n",
        "y_pred_future = sc_predict.inverse_transform(predictions_future)\n",
        "y_pred_train = sc_predict.inverse_transform(predictions_train)\n",
        "\n",
        "PREDICTIONS_FUTURE = pd.DataFrame(y_pred_future, columns=['Close']).set_index(pd.Series(datelist_future))\n",
        "PREDICTION_TRAIN = pd.DataFrame(y_pred_train, columns=['Close']).set_index(pd.Series(datelist_train[2 * n_past -1:]))\n",
        "\n",
        "# Convert <datetime.date> to <Timestamp> for PREDCITION_TRAIN\n",
        "PREDICTION_TRAIN.index = PREDICTION_TRAIN.index.to_series().apply(datetime_to_timestamp)\n",
        "\n",
        "PREDICTION_TRAIN.tail(3)"
      ],
      "execution_count": 439,
      "outputs": [
        {
          "output_type": "execute_result",
          "data": {
            "text/html": [
              "<div>\n",
              "<style scoped>\n",
              "    .dataframe tbody tr th:only-of-type {\n",
              "        vertical-align: middle;\n",
              "    }\n",
              "\n",
              "    .dataframe tbody tr th {\n",
              "        vertical-align: top;\n",
              "    }\n",
              "\n",
              "    .dataframe thead th {\n",
              "        text-align: right;\n",
              "    }\n",
              "</style>\n",
              "<table border=\"1\" class=\"dataframe\">\n",
              "  <thead>\n",
              "    <tr style=\"text-align: right;\">\n",
              "      <th></th>\n",
              "      <th>Close</th>\n",
              "    </tr>\n",
              "  </thead>\n",
              "  <tbody>\n",
              "    <tr>\n",
              "      <th>2021-11-09</th>\n",
              "      <td>23.460798</td>\n",
              "    </tr>\n",
              "    <tr>\n",
              "      <th>2021-11-10</th>\n",
              "      <td>23.034155</td>\n",
              "    </tr>\n",
              "    <tr>\n",
              "      <th>2021-11-11</th>\n",
              "      <td>22.926733</td>\n",
              "    </tr>\n",
              "  </tbody>\n",
              "</table>\n",
              "</div>"
            ],
            "text/plain": [
              "                Close\n",
              "2021-11-09  23.460798\n",
              "2021-11-10  23.034155\n",
              "2021-11-11  22.926733"
            ]
          },
          "metadata": {},
          "execution_count": 439
        }
      ]
    },
    {
      "cell_type": "markdown",
      "metadata": {
        "id": "2VJ4rP3mC9Fn"
      },
      "source": [
        "<h3>5. Visualizing Predictions</h3>"
      ]
    },
    {
      "cell_type": "code",
      "metadata": {
        "tags": [],
        "id": "3pPDF7ntC9Fo"
      },
      "source": [
        "# Parse training set timestamp for better visualization\n",
        "dataset_train = pd.DataFrame(dataset_train, columns=cols)\n",
        "dataset_train.index = datelist_train\n",
        "dataset_train.index = pd.to_datetime(dataset_train.index)"
      ],
      "execution_count": 440,
      "outputs": []
    },
    {
      "cell_type": "code",
      "metadata": {
        "id": "qi115EcmAV0p"
      },
      "source": [
        "# Balance the diffrence\n",
        "diffrence = dataset_train['Close'][-1] - PREDICTIONS_FUTURE['Close'][0]\n",
        "PREDICTIONS_FUTURE= PREDICTIONS_FUTURE.apply(lambda x: x+diffrence)"
      ],
      "execution_count": 441,
      "outputs": []
    },
    {
      "cell_type": "code",
      "metadata": {
        "colab": {
          "base_uri": "https://localhost:8080/",
          "height": 537
        },
        "id": "cZLGZ0JtE3RF",
        "outputId": "774d11bf-668f-4baf-c6fb-6e3f2158d195"
      },
      "source": [
        "plt.figure(figsize=(12, 9))\n",
        "plt.plot(dataset_train['Close'][len(dataset_train)-20:], label='actual')\n",
        "plt.plot(PREDICTIONS_FUTURE['Close'], label='prediction')\n",
        "plt.legend()\n",
        "plt.show()"
      ],
      "execution_count": 442,
      "outputs": [
        {
          "output_type": "display_data",
          "data": {
            "image/png": "[encoded data removed]",
            "text/plain": [
              "<Figure size 864x648 with 1 Axes>"
            ]
          },
          "metadata": {
            "needs_background": "light"
          }
        }
      ]
    },
    {
      "cell_type": "code",
      "metadata": {
        "colab": {
          "base_uri": "https://localhost:8080/",
          "height": 111
        },
        "id": "f7x32OkzW5kd",
        "outputId": "1d3ce11c-3ac5-44e6-eaed-e8f0bebd2263"
      },
      "source": [
        "dataset_train.tail(2)"
      ],
      "execution_count": 443,
      "outputs": [
        {
          "output_type": "execute_result",
          "data": {
            "text/html": [
              "<div>\n",
              "<style scoped>\n",
              "    .dataframe tbody tr th:only-of-type {\n",
              "        vertical-align: middle;\n",
              "    }\n",
              "\n",
              "    .dataframe tbody tr th {\n",
              "        vertical-align: top;\n",
              "    }\n",
              "\n",
              "    .dataframe thead th {\n",
              "        text-align: right;\n",
              "    }\n",
              "</style>\n",
              "<table border=\"1\" class=\"dataframe\">\n",
              "  <thead>\n",
              "    <tr style=\"text-align: right;\">\n",
              "      <th></th>\n",
              "      <th>Close</th>\n",
              "      <th>FEDFUNDS</th>\n",
              "    </tr>\n",
              "  </thead>\n",
              "  <tbody>\n",
              "    <tr>\n",
              "      <th>2021-11-10</th>\n",
              "      <td>22.690001</td>\n",
              "      <td>0.08</td>\n",
              "    </tr>\n",
              "    <tr>\n",
              "      <th>2021-11-11</th>\n",
              "      <td>23.100000</td>\n",
              "      <td>0.08</td>\n",
              "    </tr>\n",
              "  </tbody>\n",
              "</table>\n",
              "</div>"
            ],
            "text/plain": [
              "                Close  FEDFUNDS\n",
              "2021-11-10  22.690001      0.08\n",
              "2021-11-11  23.100000      0.08"
            ]
          },
          "metadata": {},
          "execution_count": 443
        }
      ]
    },
    {
      "cell_type": "code",
      "metadata": {
        "colab": {
          "base_uri": "https://localhost:8080/",
          "height": 572
        },
        "id": "rPd9Du8_WHyk",
        "outputId": "c80381ab-84d8-414a-89cb-ff08b64b055d"
      },
      "source": [
        "a= np.asarray(PREDICTION_TRAIN['Close'])[-20:]\n",
        "b = np.asarray(PREDICTIONS_FUTURE['Close'])\n",
        "print(len(a))\n",
        "print(len(b))\n",
        "\n",
        "a = np.concatenate((a, b))\n",
        "plt.figure(figsize=(12, 9))\n",
        "plt.plot(np.asarray(dataset_train['Close'])[-20:], label='actual')\n",
        "plt.plot(a, color='r', label='Predicted Stock Price')\n",
        "plt.legend()\n",
        "plt.show()"
      ],
      "execution_count": 444,
      "outputs": [
        {
          "output_type": "stream",
          "name": "stdout",
          "text": [
            "20\n",
            "20\n"
          ]
        },
        {
          "output_type": "display_data",
          "data": {
            "image/png": "[encoded data removed]",
            "text/plain": [
              "<Figure size 864x648 with 1 Axes>"
            ]
          },
          "metadata": {
            "needs_background": "light"
          }
        }
      ]
    },
    {
      "cell_type": "code",
      "metadata": {
        "colab": {
          "base_uri": "https://localhost:8080/",
          "height": 379
        },
        "id": "velFfzcrC9Fo",
        "outputId": "4b951b57-9c58-488e-e2b3-158550d1aded"
      },
      "source": [
        "# Set plot size \n",
        "from pylab import rcParams\n",
        "rcParams['figure.figsize'] = 14, 5\n",
        "\n",
        "# Plot parameters\n",
        "START_DATE_FOR_PLOTTING = '2021-02-20'\n",
        "START_DATE_FOR_PLOTTING_ACTUAL = '2021-09-11'\n",
        "plt.plot(PREDICTIONS_FUTURE.index, PREDICTIONS_FUTURE['Close'], color='r', label='Predicted Stock Price')\n",
        "plt.plot(PREDICTION_TRAIN.loc[START_DATE_FOR_PLOTTING_ACTUAL:].index, PREDICTION_TRAIN.loc[START_DATE_FOR_PLOTTING_ACTUAL:]['Close'], color='orange', label='Training predictions')\n",
        "plt.plot(dataset_train.loc[START_DATE_FOR_PLOTTING_ACTUAL:].index, dataset_train.loc[START_DATE_FOR_PLOTTING_ACTUAL:]['Close'], color='b', label='Actual Stock Price')\n",
        "plt.axvline(x = min(PREDICTIONS_FUTURE.index), color='green', linewidth=2, linestyle='--')\n",
        "\n",
        "plt.grid(which='major', color='#cccccc', alpha=0.5)\n",
        "\n",
        "plt.legend(shadow=True)\n",
        "plt.title('Predcitions and Acutal Stock Prices', family='Arial', fontsize=12)\n",
        "plt.xlabel('Timeline', family='Arial', fontsize=10)\n",
        "plt.ylabel('Stock Price Value', family='Arial', fontsize=10)\n",
        "plt.xticks(rotation=45, fontsize=8)\n",
        "plt.show()"
      ],
      "execution_count": 445,
      "outputs": [
        {
          "output_type": "display_data",
          "data": {
            "image/png": "[encoded data removed]",
            "text/plain": [
              "<Figure size 1008x360 with 1 Axes>"
            ]
          },
          "metadata": {
            "needs_background": "light"
          }
        }
      ]
    },
    {
      "cell_type": "code",
      "metadata": {
        "colab": {
          "base_uri": "https://localhost:8080/",
          "height": 379
        },
        "id": "vGU-ZdtDoKU9",
        "outputId": "55c23b13-4ecc-4ca9-c22a-c436b7643ea1"
      },
      "source": [
        "plt.plot(PREDICTIONS_FUTURE.index, PREDICTIONS_FUTURE['Close'], color='r', label='Predicted Stock Price')\n",
        "plt.axvline(x = min(PREDICTIONS_FUTURE.index), color='green', linewidth=2, linestyle='--')\n",
        "\n",
        "plt.grid(which='major', color='#cccccc', alpha=0.5)\n",
        "\n",
        "plt.legend(shadow=True)\n",
        "plt.title('Predcitions for 5 days', family='Arial', fontsize=12)\n",
        "plt.xlabel('Timeline', family='Arial', fontsize=10)\n",
        "plt.ylabel('Stock Price Value', family='Arial', fontsize=10)\n",
        "plt.xticks(rotation=45, fontsize=8)\n",
        "plt.show()"
      ],
      "execution_count": 446,
      "outputs": [
        {
          "output_type": "display_data",
          "data": {
            "image/png": "[encoded data removed]",
            "text/plain": [
              "<Figure size 1008x360 with 1 Axes>"
            ]
          },
          "metadata": {
            "needs_background": "light"
          }
        }
      ]
    },
    {
      "cell_type": "code",
      "metadata": {
        "id": "Z-4DepvKhBNC",
        "colab": {
          "base_uri": "https://localhost:8080/",
          "height": 667
        },
        "outputId": "6b30b13b-98c7-40cc-fb97-e1cf81a1acb0"
      },
      "source": [
        "PREDICTIONS_FUTURE"
      ],
      "execution_count": 447,
      "outputs": [
        {
          "output_type": "execute_result",
          "data": {
            "text/html": [
              "<div>\n",
              "<style scoped>\n",
              "    .dataframe tbody tr th:only-of-type {\n",
              "        vertical-align: middle;\n",
              "    }\n",
              "\n",
              "    .dataframe tbody tr th {\n",
              "        vertical-align: top;\n",
              "    }\n",
              "\n",
              "    .dataframe thead th {\n",
              "        text-align: right;\n",
              "    }\n",
              "</style>\n",
              "<table border=\"1\" class=\"dataframe\">\n",
              "  <thead>\n",
              "    <tr style=\"text-align: right;\">\n",
              "      <th></th>\n",
              "      <th>Close</th>\n",
              "    </tr>\n",
              "  </thead>\n",
              "  <tbody>\n",
              "    <tr>\n",
              "      <th>2021-11-11</th>\n",
              "      <td>23.100000</td>\n",
              "    </tr>\n",
              "    <tr>\n",
              "      <th>2021-11-12</th>\n",
              "      <td>23.184429</td>\n",
              "    </tr>\n",
              "    <tr>\n",
              "      <th>2021-11-13</th>\n",
              "      <td>23.237200</td>\n",
              "    </tr>\n",
              "    <tr>\n",
              "      <th>2021-11-14</th>\n",
              "      <td>23.526854</td>\n",
              "    </tr>\n",
              "    <tr>\n",
              "      <th>2021-11-15</th>\n",
              "      <td>23.744297</td>\n",
              "    </tr>\n",
              "    <tr>\n",
              "      <th>2021-11-16</th>\n",
              "      <td>23.442450</td>\n",
              "    </tr>\n",
              "    <tr>\n",
              "      <th>2021-11-17</th>\n",
              "      <td>23.524275</td>\n",
              "    </tr>\n",
              "    <tr>\n",
              "      <th>2021-11-18</th>\n",
              "      <td>23.333687</td>\n",
              "    </tr>\n",
              "    <tr>\n",
              "      <th>2021-11-19</th>\n",
              "      <td>23.073645</td>\n",
              "    </tr>\n",
              "    <tr>\n",
              "      <th>2021-11-20</th>\n",
              "      <td>23.032085</td>\n",
              "    </tr>\n",
              "    <tr>\n",
              "      <th>2021-11-21</th>\n",
              "      <td>22.935043</td>\n",
              "    </tr>\n",
              "    <tr>\n",
              "      <th>2021-11-22</th>\n",
              "      <td>23.313110</td>\n",
              "    </tr>\n",
              "    <tr>\n",
              "      <th>2021-11-23</th>\n",
              "      <td>23.382225</td>\n",
              "    </tr>\n",
              "    <tr>\n",
              "      <th>2021-11-24</th>\n",
              "      <td>23.567827</td>\n",
              "    </tr>\n",
              "    <tr>\n",
              "      <th>2021-11-25</th>\n",
              "      <td>23.918524</td>\n",
              "    </tr>\n",
              "    <tr>\n",
              "      <th>2021-11-26</th>\n",
              "      <td>24.194256</td>\n",
              "    </tr>\n",
              "    <tr>\n",
              "      <th>2021-11-27</th>\n",
              "      <td>24.471319</td>\n",
              "    </tr>\n",
              "    <tr>\n",
              "      <th>2021-11-28</th>\n",
              "      <td>24.492147</td>\n",
              "    </tr>\n",
              "    <tr>\n",
              "      <th>2021-11-29</th>\n",
              "      <td>24.065504</td>\n",
              "    </tr>\n",
              "    <tr>\n",
              "      <th>2021-11-30</th>\n",
              "      <td>23.958084</td>\n",
              "    </tr>\n",
              "  </tbody>\n",
              "</table>\n",
              "</div>"
            ],
            "text/plain": [
              "                Close\n",
              "2021-11-11  23.100000\n",
              "2021-11-12  23.184429\n",
              "2021-11-13  23.237200\n",
              "2021-11-14  23.526854\n",
              "2021-11-15  23.744297\n",
              "2021-11-16  23.442450\n",
              "2021-11-17  23.524275\n",
              "2021-11-18  23.333687\n",
              "2021-11-19  23.073645\n",
              "2021-11-20  23.032085\n",
              "2021-11-21  22.935043\n",
              "2021-11-22  23.313110\n",
              "2021-11-23  23.382225\n",
              "2021-11-24  23.567827\n",
              "2021-11-25  23.918524\n",
              "2021-11-26  24.194256\n",
              "2021-11-27  24.471319\n",
              "2021-11-28  24.492147\n",
              "2021-11-29  24.065504\n",
              "2021-11-30  23.958084"
            ]
          },
          "metadata": {},
          "execution_count": 447
        }
      ]
    },
    {
      "cell_type": "markdown",
      "metadata": {
        "id": "1JqIT8o9qk_e"
      },
      "source": [
        "<h3>7. Evaluating the model</h3>"
      ]
    },
    {
      "cell_type": "code",
      "metadata": {
        "colab": {
          "base_uri": "https://localhost:8080/"
        },
        "id": "-Abe9E4HjbvP",
        "outputId": "c8646ade-4d3f-4d67-c6e7-32f5c1e87878"
      },
      "source": [
        "from sklearn.metrics import mean_squared_error \n",
        "from sklearn.metrics import mean_absolute_error\n",
        "\n",
        "MSE = mean_squared_error(np.asarray(PREDICTION_TRAIN['Close'])[-20:], np.asarray(dataset_train['Close'])[-20:]) \n",
        "print('MSE: ', np.sqrt(MSE))\n",
        "MAE = mean_absolute_error(np.asarray(PREDICTION_TRAIN['Close'])[-20:], np.asarray(dataset_train['Close'])[-20:])\n",
        "\n",
        "print('MAE: ', MAE)"
      ],
      "execution_count": 461,
      "outputs": [
        {
          "output_type": "stream",
          "name": "stdout",
          "text": [
            "MSE:  0.3190520793945514\n",
            "MAE:  0.26849021911621096\n"
          ]
        }
      ]
    },
    {
      "cell_type": "markdown",
      "metadata": {
        "id": "EH7jWszm9LpP"
      },
      "source": [
        "<h2>Stock & Economy Study </h2>"
      ]
    },
    {
      "cell_type": "markdown",
      "metadata": {
        "id": "B_G4xVEnF_mQ"
      },
      "source": [
        "<h4>EPS(Earning Per Share)=(company's net income)/(total shares)\n",
        "</h4>\n",
        "ex) A company's net income 2million won,10000 stocks issuance: A company's EPS= 2million won / 10000= 20000 won-> 1 stock for 20000 won\n",
        "<br>\n",
        "<br>\n",
        "<h4>PER(Price Earning Ratio)=(current stock price)/EPS</h4>\n",
        "ex) A stock price: 200000 won: A company's PER= 200000/20000=10(times)\n",
        "\n",
        "<br> \n",
        "\n",
        "<h4>BPS(Book-value Per Share:주당순자산가치)</h4>\n",
        "ex) A company's BPS = 8 million won / 10000 = 80000 won\n",
        "<br> <br>\n",
        "<h4>PBR(Price Book-value Ratio: 주가 순자산비율) </h4>\n",
        "ex) PBR = (currend stock price / (current BPS)"
      ]
    },
    {
      "cell_type": "markdown",
      "metadata": {
        "id": "0MyGtuaQB8Cd"
      },
      "source": [
        "<h2>How to find good stocks by checking ROE! </h2>\n",
        "<br>\n",
        "1. The reason ROE is important from an investor's point of view is that it is easy to determine how much return a company can earn with its investment.\n",
        "<br>\n",
        "ex) \n",
        "\n",
        "Company A said that it would make an annual profit of 100 million won with an investment of 1 billion won. If company B makes a profit of 200 million won with the same investment, people will invest more in company B. Because I can earn more with my investment"
      ]
    },
    {
      "cell_type": "code",
      "metadata": {
        "colab": {
          "base_uri": "https://localhost:8080/"
        },
        "id": "_GUFw5HE_Vqj",
        "outputId": "9a1ee511-903c-4902-cda0-9164dd42e84e"
      },
      "source": [
        "from yahoo_fin.stock_info import get_analysts_info\n",
        "from yahoo_fin.stock_info import *\n",
        "get_analysts_info('AMKR')"
      ],
      "execution_count": 100,
      "outputs": [
        {
          "output_type": "execute_result",
          "data": {
            "text/plain": [
              "{'EPS Revisions':        EPS Revisions  ...  Next Year (2022)\n",
              " 0     Up Last 7 Days  ...               NaN\n",
              " 1    Up Last 30 Days  ...               1.0\n",
              " 2   Down Last 7 Days  ...               NaN\n",
              " 3  Down Last 30 Days  ...               NaN\n",
              " \n",
              " [4 rows x 5 columns], 'EPS Trend':           EPS Trend  ...  Next Year (2022)\n",
              " 0  Current Estimate  ...              2.45\n",
              " 1        7 Days Ago  ...              2.45\n",
              " 2       30 Days Ago  ...              2.45\n",
              " 3       60 Days Ago  ...              2.60\n",
              " 4       90 Days Ago  ...              2.60\n",
              " \n",
              " [5 rows x 5 columns], 'Earnings Estimate':   Earnings Estimate  ...  Next Year (2022)\n",
              " 0   No. of Analysts  ...              1.00\n",
              " 1     Avg. Estimate  ...              2.45\n",
              " 2      Low Estimate  ...              2.45\n",
              " 3     High Estimate  ...              2.45\n",
              " 4      Year Ago EPS  ...              2.40\n",
              " \n",
              " [5 rows x 5 columns], 'Earnings History':   Earnings History 6/29/2020 9/29/2020 12/30/2020 3/30/2021\n",
              " 0         EPS Est.     -0.03      0.31       0.37      0.46\n",
              " 1       EPS Actual      0.23      0.38       0.52      0.49\n",
              " 2       Difference      0.26      0.07       0.15      0.03\n",
              " 3       Surprise %   866.70%    22.60%     40.50%     6.50%, 'Growth Estimates':            Growth Estimates    AMKR  Industry  Sector(s)  S&P 500\n",
              " 0              Current Qtr.     NaN       NaN        NaN      NaN\n",
              " 1                 Next Qtr.     NaN       NaN        NaN      NaN\n",
              " 2              Current Year  71.40%       NaN        NaN      NaN\n",
              " 3                 Next Year   2.10%       NaN        NaN      NaN\n",
              " 4  Next 5 Years (per annum)  21.44%       NaN        NaN      NaN\n",
              " 5  Past 5 Years (per annum)   7.79%       NaN        NaN      NaN, 'Revenue Estimate':           Revenue Estimate  ... Next Year (2022)\n",
              " 0          No. of Analysts  ...                1\n",
              " 1            Avg. Estimate  ...            6.45B\n",
              " 2             Low Estimate  ...            6.45B\n",
              " 3            High Estimate  ...            6.45B\n",
              " 4           Year Ago Sales  ...            6.06B\n",
              " 5  Sales Growth (year/est)  ...            6.50%\n",
              " \n",
              " [6 rows x 5 columns]}"
            ]
          },
          "metadata": {},
          "execution_count": 100
        }
      ]
    },
    {
      "cell_type": "code",
      "metadata": {
        "colab": {
          "base_uri": "https://localhost:8080/",
          "height": 883
        },
        "id": "kIGjFeNL9cvc",
        "outputId": "20b6a553-9a0c-4c20-d23f-97e9afe5223e"
      },
      "source": [
        "get_balance_sheet('AMKR', yearly = False)"
      ],
      "execution_count": 101,
      "outputs": [
        {
          "output_type": "execute_result",
          "data": {
            "text/html": [
              "<div>\n",
              "<style scoped>\n",
              "    .dataframe tbody tr th:only-of-type {\n",
              "        vertical-align: middle;\n",
              "    }\n",
              "\n",
              "    .dataframe tbody tr th {\n",
              "        vertical-align: top;\n",
              "    }\n",
              "\n",
              "    .dataframe thead th {\n",
              "        text-align: right;\n",
              "    }\n",
              "</style>\n",
              "<table border=\"1\" class=\"dataframe\">\n",
              "  <thead>\n",
              "    <tr style=\"text-align: right;\">\n",
              "      <th>endDate</th>\n",
              "      <th>2021-09-30</th>\n",
              "      <th>2021-06-30</th>\n",
              "      <th>2021-03-31</th>\n",
              "      <th>2020-12-31</th>\n",
              "    </tr>\n",
              "    <tr>\n",
              "      <th>Breakdown</th>\n",
              "      <th></th>\n",
              "      <th></th>\n",
              "      <th></th>\n",
              "      <th></th>\n",
              "    </tr>\n",
              "  </thead>\n",
              "  <tbody>\n",
              "    <tr>\n",
              "      <th>capitalSurplus</th>\n",
              "      <td>1.973207e+09</td>\n",
              "      <td>1.968339e+09</td>\n",
              "      <td>1.964331e+09</td>\n",
              "      <td>1.953378e+09</td>\n",
              "    </tr>\n",
              "    <tr>\n",
              "      <th>totalLiab</th>\n",
              "      <td>3.010769e+09</td>\n",
              "      <td>2.984709e+09</td>\n",
              "      <td>2.591228e+09</td>\n",
              "      <td>2.668352e+09</td>\n",
              "    </tr>\n",
              "    <tr>\n",
              "      <th>totalStockholderEquity</th>\n",
              "      <td>2.730013e+09</td>\n",
              "      <td>2.554248e+09</td>\n",
              "      <td>2.433917e+09</td>\n",
              "      <td>2.325699e+09</td>\n",
              "    </tr>\n",
              "    <tr>\n",
              "      <th>minorityInterest</th>\n",
              "      <td>2.966600e+07</td>\n",
              "      <td>2.882200e+07</td>\n",
              "      <td>2.832000e+07</td>\n",
              "      <td>2.826000e+07</td>\n",
              "    </tr>\n",
              "    <tr>\n",
              "      <th>otherCurrentLiab</th>\n",
              "      <td>4.968310e+08</td>\n",
              "      <td>5.564660e+08</td>\n",
              "      <td>3.523070e+08</td>\n",
              "      <td>2.382100e+08</td>\n",
              "    </tr>\n",
              "    <tr>\n",
              "      <th>totalAssets</th>\n",
              "      <td>5.770448e+09</td>\n",
              "      <td>5.567779e+09</td>\n",
              "      <td>5.053465e+09</td>\n",
              "      <td>5.022311e+09</td>\n",
              "    </tr>\n",
              "    <tr>\n",
              "      <th>commonStock</th>\n",
              "      <td>2.900000e+05</td>\n",
              "      <td>2.900000e+05</td>\n",
              "      <td>2.900000e+05</td>\n",
              "      <td>2.890000e+05</td>\n",
              "    </tr>\n",
              "    <tr>\n",
              "      <th>otherCurrentAssets</th>\n",
              "      <td>4.952700e+07</td>\n",
              "      <td>4.662100e+07</td>\n",
              "      <td>4.252700e+07</td>\n",
              "      <td>4.122500e+07</td>\n",
              "    </tr>\n",
              "    <tr>\n",
              "      <th>retainedEarnings</th>\n",
              "      <td>9.596410e+08</td>\n",
              "      <td>7.885670e+08</td>\n",
              "      <td>6.725340e+08</td>\n",
              "      <td>5.625020e+08</td>\n",
              "    </tr>\n",
              "    <tr>\n",
              "      <th>otherLiab</th>\n",
              "      <td>2.567460e+08</td>\n",
              "      <td>2.687670e+08</td>\n",
              "      <td>2.314000e+08</td>\n",
              "      <td>2.495500e+08</td>\n",
              "    </tr>\n",
              "    <tr>\n",
              "      <th>goodWill</th>\n",
              "      <td>2.535100e+07</td>\n",
              "      <td>2.539200e+07</td>\n",
              "      <td>2.548100e+07</td>\n",
              "      <td>2.732500e+07</td>\n",
              "    </tr>\n",
              "    <tr>\n",
              "      <th>treasuryStock</th>\n",
              "      <td>-2.031250e+08</td>\n",
              "      <td>-2.029480e+08</td>\n",
              "      <td>-2.032380e+08</td>\n",
              "      <td>-1.904700e+08</td>\n",
              "    </tr>\n",
              "    <tr>\n",
              "      <th>otherAssets</th>\n",
              "      <td>1.221990e+08</td>\n",
              "      <td>1.532460e+08</td>\n",
              "      <td>1.492130e+08</td>\n",
              "      <td>1.488160e+08</td>\n",
              "    </tr>\n",
              "    <tr>\n",
              "      <th>cash</th>\n",
              "      <td>5.455920e+08</td>\n",
              "      <td>7.247850e+08</td>\n",
              "      <td>6.502740e+08</td>\n",
              "      <td>6.980020e+08</td>\n",
              "    </tr>\n",
              "    <tr>\n",
              "      <th>totalCurrentLiabilities</th>\n",
              "      <td>1.738985e+09</td>\n",
              "      <td>1.679653e+09</td>\n",
              "      <td>1.316857e+09</td>\n",
              "      <td>1.315987e+09</td>\n",
              "    </tr>\n",
              "    <tr>\n",
              "      <th>shortLongTermDebt</th>\n",
              "      <td>1.403800e+08</td>\n",
              "      <td>1.349120e+08</td>\n",
              "      <td>1.354050e+08</td>\n",
              "      <td>1.490070e+08</td>\n",
              "    </tr>\n",
              "    <tr>\n",
              "      <th>otherStockholderEquity</th>\n",
              "      <td>1.593600e+07</td>\n",
              "      <td>1.611300e+07</td>\n",
              "      <td>1.582300e+07</td>\n",
              "      <td>2.727000e+07</td>\n",
              "    </tr>\n",
              "    <tr>\n",
              "      <th>propertyPlantEquipment</th>\n",
              "      <td>3.047774e+09</td>\n",
              "      <td>3.018099e+09</td>\n",
              "      <td>2.764717e+09</td>\n",
              "      <td>2.713238e+09</td>\n",
              "    </tr>\n",
              "    <tr>\n",
              "      <th>totalCurrentAssets</th>\n",
              "      <td>2.575124e+09</td>\n",
              "      <td>2.371042e+09</td>\n",
              "      <td>2.114054e+09</td>\n",
              "      <td>2.132932e+09</td>\n",
              "    </tr>\n",
              "    <tr>\n",
              "      <th>netTangibleAssets</th>\n",
              "      <td>2.704662e+09</td>\n",
              "      <td>2.528856e+09</td>\n",
              "      <td>2.408436e+09</td>\n",
              "      <td>2.298374e+09</td>\n",
              "    </tr>\n",
              "    <tr>\n",
              "      <th>shortTermInvestments</th>\n",
              "      <td>2.444700e+08</td>\n",
              "      <td>1.609410e+08</td>\n",
              "      <td>1.636930e+08</td>\n",
              "      <td>1.337690e+08</td>\n",
              "    </tr>\n",
              "    <tr>\n",
              "      <th>netReceivables</th>\n",
              "      <td>1.289617e+09</td>\n",
              "      <td>1.064586e+09</td>\n",
              "      <td>9.500150e+08</td>\n",
              "      <td>9.626430e+08</td>\n",
              "    </tr>\n",
              "    <tr>\n",
              "      <th>longTermDebt</th>\n",
              "      <td>8.842360e+08</td>\n",
              "      <td>9.164070e+08</td>\n",
              "      <td>9.523660e+08</td>\n",
              "      <td>1.005339e+09</td>\n",
              "    </tr>\n",
              "    <tr>\n",
              "      <th>inventory</th>\n",
              "      <td>4.459180e+08</td>\n",
              "      <td>3.741090e+08</td>\n",
              "      <td>3.075450e+08</td>\n",
              "      <td>2.972930e+08</td>\n",
              "    </tr>\n",
              "    <tr>\n",
              "      <th>accountsPayable</th>\n",
              "      <td>8.158770e+08</td>\n",
              "      <td>7.103260e+08</td>\n",
              "      <td>6.029620e+08</td>\n",
              "      <td>6.364340e+08</td>\n",
              "    </tr>\n",
              "    <tr>\n",
              "      <th>deferredLongTermAssetCharges</th>\n",
              "      <td>NaN</td>\n",
              "      <td>NaN</td>\n",
              "      <td>NaN</td>\n",
              "      <td>9.504500e+07</td>\n",
              "    </tr>\n",
              "  </tbody>\n",
              "</table>\n",
              "</div>"
            ],
            "text/plain": [
              "endDate                         2021-09-30  ...    2020-12-31\n",
              "Breakdown                                   ...              \n",
              "capitalSurplus                1.973207e+09  ...  1.953378e+09\n",
              "totalLiab                     3.010769e+09  ...  2.668352e+09\n",
              "totalStockholderEquity        2.730013e+09  ...  2.325699e+09\n",
              "minorityInterest              2.966600e+07  ...  2.826000e+07\n",
              "otherCurrentLiab              4.968310e+08  ...  2.382100e+08\n",
              "totalAssets                   5.770448e+09  ...  5.022311e+09\n",
              "commonStock                   2.900000e+05  ...  2.890000e+05\n",
              "otherCurrentAssets            4.952700e+07  ...  4.122500e+07\n",
              "retainedEarnings              9.596410e+08  ...  5.625020e+08\n",
              "otherLiab                     2.567460e+08  ...  2.495500e+08\n",
              "goodWill                      2.535100e+07  ...  2.732500e+07\n",
              "treasuryStock                -2.031250e+08  ... -1.904700e+08\n",
              "otherAssets                   1.221990e+08  ...  1.488160e+08\n",
              "cash                          5.455920e+08  ...  6.980020e+08\n",
              "totalCurrentLiabilities       1.738985e+09  ...  1.315987e+09\n",
              "shortLongTermDebt             1.403800e+08  ...  1.490070e+08\n",
              "otherStockholderEquity        1.593600e+07  ...  2.727000e+07\n",
              "propertyPlantEquipment        3.047774e+09  ...  2.713238e+09\n",
              "totalCurrentAssets            2.575124e+09  ...  2.132932e+09\n",
              "netTangibleAssets             2.704662e+09  ...  2.298374e+09\n",
              "shortTermInvestments          2.444700e+08  ...  1.337690e+08\n",
              "netReceivables                1.289617e+09  ...  9.626430e+08\n",
              "longTermDebt                  8.842360e+08  ...  1.005339e+09\n",
              "inventory                     4.459180e+08  ...  2.972930e+08\n",
              "accountsPayable               8.158770e+08  ...  6.364340e+08\n",
              "deferredLongTermAssetCharges           NaN  ...  9.504500e+07\n",
              "\n",
              "[26 rows x 4 columns]"
            ]
          },
          "metadata": {},
          "execution_count": 101
        }
      ]
    },
    {
      "cell_type": "code",
      "metadata": {
        "colab": {
          "base_uri": "https://localhost:8080/",
          "height": 667
        },
        "id": "w9Xzp5iy9lJj",
        "outputId": "9171501c-0cbc-4563-9f8e-0b16a6edc230"
      },
      "source": [
        "get_cash_flow('AMKR', yearly = False)"
      ],
      "execution_count": 102,
      "outputs": [
        {
          "output_type": "execute_result",
          "data": {
            "text/html": [
              "<div>\n",
              "<style scoped>\n",
              "    .dataframe tbody tr th:only-of-type {\n",
              "        vertical-align: middle;\n",
              "    }\n",
              "\n",
              "    .dataframe tbody tr th {\n",
              "        vertical-align: top;\n",
              "    }\n",
              "\n",
              "    .dataframe thead th {\n",
              "        text-align: right;\n",
              "    }\n",
              "</style>\n",
              "<table border=\"1\" class=\"dataframe\">\n",
              "  <thead>\n",
              "    <tr style=\"text-align: right;\">\n",
              "      <th>endDate</th>\n",
              "      <th>2021-09-30</th>\n",
              "      <th>2021-06-30</th>\n",
              "      <th>2021-03-31</th>\n",
              "      <th>2020-12-31</th>\n",
              "    </tr>\n",
              "    <tr>\n",
              "      <th>Breakdown</th>\n",
              "      <th></th>\n",
              "      <th></th>\n",
              "      <th></th>\n",
              "      <th></th>\n",
              "    </tr>\n",
              "  </thead>\n",
              "  <tbody>\n",
              "    <tr>\n",
              "      <th>investments</th>\n",
              "      <td>-88168000.0</td>\n",
              "      <td>4456000.0</td>\n",
              "      <td>-29251000.0</td>\n",
              "      <td>222575000.0</td>\n",
              "    </tr>\n",
              "    <tr>\n",
              "      <th>changeToLiabilities</th>\n",
              "      <td>0.0</td>\n",
              "      <td>0.0</td>\n",
              "      <td>0.0</td>\n",
              "      <td>48786000.0</td>\n",
              "    </tr>\n",
              "    <tr>\n",
              "      <th>totalCashflowsFromInvestingActivities</th>\n",
              "      <td>-314874000.0</td>\n",
              "      <td>-157123000.0</td>\n",
              "      <td>-164372000.0</td>\n",
              "      <td>-27368000.0</td>\n",
              "    </tr>\n",
              "    <tr>\n",
              "      <th>netBorrowings</th>\n",
              "      <td>-30512000.0</td>\n",
              "      <td>-39581000.0</td>\n",
              "      <td>-37024000.0</td>\n",
              "      <td>-187047000.0</td>\n",
              "    </tr>\n",
              "    <tr>\n",
              "      <th>totalCashFromFinancingActivities</th>\n",
              "      <td>-39109000.0</td>\n",
              "      <td>-48095000.0</td>\n",
              "      <td>-49444000.0</td>\n",
              "      <td>-180557000.0</td>\n",
              "    </tr>\n",
              "    <tr>\n",
              "      <th>changeToOperatingActivities</th>\n",
              "      <td>-174455000.0</td>\n",
              "      <td>15549000.0</td>\n",
              "      <td>-80991000.0</td>\n",
              "      <td>217526000.0</td>\n",
              "    </tr>\n",
              "    <tr>\n",
              "      <th>netIncome</th>\n",
              "      <td>180854000.0</td>\n",
              "      <td>125806000.0</td>\n",
              "      <td>119809000.0</td>\n",
              "      <td>126674000.0</td>\n",
              "    </tr>\n",
              "    <tr>\n",
              "      <th>changeInCash</th>\n",
              "      <td>-179191000.0</td>\n",
              "      <td>74448000.0</td>\n",
              "      <td>-47425000.0</td>\n",
              "      <td>131420000.0</td>\n",
              "    </tr>\n",
              "    <tr>\n",
              "      <th>effectOfExchangeRate</th>\n",
              "      <td>-496000.0</td>\n",
              "      <td>123000.0</td>\n",
              "      <td>-10397000.0</td>\n",
              "      <td>3360000.0</td>\n",
              "    </tr>\n",
              "    <tr>\n",
              "      <th>totalCashFromOperatingActivities</th>\n",
              "      <td>175288000.0</td>\n",
              "      <td>279543000.0</td>\n",
              "      <td>176788000.0</td>\n",
              "      <td>335985000.0</td>\n",
              "    </tr>\n",
              "    <tr>\n",
              "      <th>depreciation</th>\n",
              "      <td>145979000.0</td>\n",
              "      <td>139601000.0</td>\n",
              "      <td>135390000.0</td>\n",
              "      <td>132674000.0</td>\n",
              "    </tr>\n",
              "    <tr>\n",
              "      <th>otherCashflowsFromInvestingActivities</th>\n",
              "      <td>-9371000.0</td>\n",
              "      <td>-15000.0</td>\n",
              "      <td>-25317000.0</td>\n",
              "      <td>26438000.0</td>\n",
              "    </tr>\n",
              "    <tr>\n",
              "      <th>dividendsPaid</th>\n",
              "      <td>-9772000.0</td>\n",
              "      <td>-9764000.0</td>\n",
              "      <td>-19457000.0</td>\n",
              "      <td>-19457000.0</td>\n",
              "    </tr>\n",
              "    <tr>\n",
              "      <th>otherCashflowsFromFinancingActivities</th>\n",
              "      <td>1175000.0</td>\n",
              "      <td>1250000.0</td>\n",
              "      <td>7037000.0</td>\n",
              "      <td>-11121000.0</td>\n",
              "    </tr>\n",
              "    <tr>\n",
              "      <th>changeToNetincome</th>\n",
              "      <td>22910000.0</td>\n",
              "      <td>-1413000.0</td>\n",
              "      <td>2580000.0</td>\n",
              "      <td>-9462000.0</td>\n",
              "    </tr>\n",
              "    <tr>\n",
              "      <th>capitalExpenditures</th>\n",
              "      <td>-217808000.0</td>\n",
              "      <td>-163266000.0</td>\n",
              "      <td>-110351000.0</td>\n",
              "      <td>-277490000.0</td>\n",
              "    </tr>\n",
              "    <tr>\n",
              "      <th>issuanceOfStock</th>\n",
              "      <td>NaN</td>\n",
              "      <td>NaN</td>\n",
              "      <td>NaN</td>\n",
              "      <td>17611000.0</td>\n",
              "    </tr>\n",
              "    <tr>\n",
              "      <th>changeToInventory</th>\n",
              "      <td>NaN</td>\n",
              "      <td>NaN</td>\n",
              "      <td>NaN</td>\n",
              "      <td>-75499000.0</td>\n",
              "    </tr>\n",
              "    <tr>\n",
              "      <th>changeToAccountReceivables</th>\n",
              "      <td>NaN</td>\n",
              "      <td>NaN</td>\n",
              "      <td>NaN</td>\n",
              "      <td>-106693000.0</td>\n",
              "    </tr>\n",
              "  </tbody>\n",
              "</table>\n",
              "</div>"
            ],
            "text/plain": [
              "endDate                                 2021-09-30  ...   2020-12-31\n",
              "Breakdown                                           ...             \n",
              "investments                            -88168000.0  ...  222575000.0\n",
              "changeToLiabilities                            0.0  ...   48786000.0\n",
              "totalCashflowsFromInvestingActivities -314874000.0  ...  -27368000.0\n",
              "netBorrowings                          -30512000.0  ... -187047000.0\n",
              "totalCashFromFinancingActivities       -39109000.0  ... -180557000.0\n",
              "changeToOperatingActivities           -174455000.0  ...  217526000.0\n",
              "netIncome                              180854000.0  ...  126674000.0\n",
              "changeInCash                          -179191000.0  ...  131420000.0\n",
              "effectOfExchangeRate                     -496000.0  ...    3360000.0\n",
              "totalCashFromOperatingActivities       175288000.0  ...  335985000.0\n",
              "depreciation                           145979000.0  ...  132674000.0\n",
              "otherCashflowsFromInvestingActivities   -9371000.0  ...   26438000.0\n",
              "dividendsPaid                           -9772000.0  ...  -19457000.0\n",
              "otherCashflowsFromFinancingActivities    1175000.0  ...  -11121000.0\n",
              "changeToNetincome                       22910000.0  ...   -9462000.0\n",
              "capitalExpenditures                   -217808000.0  ... -277490000.0\n",
              "issuanceOfStock                                NaN  ...   17611000.0\n",
              "changeToInventory                              NaN  ...  -75499000.0\n",
              "changeToAccountReceivables                     NaN  ... -106693000.0\n",
              "\n",
              "[19 rows x 4 columns]"
            ]
          },
          "metadata": {},
          "execution_count": 102
        }
      ]
    }
  ]
}