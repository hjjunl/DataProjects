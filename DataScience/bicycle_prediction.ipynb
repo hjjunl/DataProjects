{
  "nbformat": 4,
  "nbformat_minor": 0,
  "metadata": {
    "colab": {
      "name": "따릉이.ipynb",
      "provenance": []
    },
    "kernelspec": {
      "name": "python3",
      "display_name": "Python 3"
    },
    "language_info": {
      "name": "python"
    }
  },
  "cells": [
    {
      "cell_type": "markdown",
      "metadata": {
        "id": "vRmOJ1x8wzme"
      },
      "source": [
        "## This dataset soure is from https://dacon.io/competitions/official/235837/data \n",
        "\n",
        "- This program is about predicting future rental numbers of bicycles at Seoul Korea.\n",
        "- It's just personal toy project for ML.\n",
        "\n",
        "\n"
      ]
    },
    {
      "cell_type": "code",
      "metadata": {
        "id": "p6HUvqLoRCl2"
      },
      "source": [
        "import pandas as pd\n",
        "import numpy as np\n",
        "import seaborn as sns\n",
        "import warnings\n",
        "warnings.filterwarnings(\"ignore\")\n",
        "\n",
        "train = pd.read_csv(\"/content/drive/MyDrive/open/따릉이/train.csv\")\n",
        "test = pd.read_csv('/content/drive/MyDrive/open/따릉이/test.csv')\n",
        "sample_submission = pd.read_csv('/content/drive/MyDrive/open/따릉이/sample_submission.csv')"
      ],
      "execution_count": 362,
      "outputs": []
    },
    {
      "cell_type": "code",
      "metadata": {
        "colab": {
          "base_uri": "https://localhost:8080/",
          "height": 308
        },
        "id": "2tiWgKKjRM7_",
        "outputId": "e61a6f7a-2193-4571-8ccb-cedf010d885b"
      },
      "source": [
        "train.head()"
      ],
      "execution_count": 363,
      "outputs": [
        {
          "output_type": "execute_result",
          "data": {
            "text/html": [
              "<div>\n",
              "<style scoped>\n",
              "    .dataframe tbody tr th:only-of-type {\n",
              "        vertical-align: middle;\n",
              "    }\n",
              "\n",
              "    .dataframe tbody tr th {\n",
              "        vertical-align: top;\n",
              "    }\n",
              "\n",
              "    .dataframe thead th {\n",
              "        text-align: right;\n",
              "    }\n",
              "</style>\n",
              "<table border=\"1\" class=\"dataframe\">\n",
              "  <thead>\n",
              "    <tr style=\"text-align: right;\">\n",
              "      <th></th>\n",
              "      <th>date_time</th>\n",
              "      <th>wind_direction</th>\n",
              "      <th>sky_condition</th>\n",
              "      <th>precipitation_form</th>\n",
              "      <th>wind_speed</th>\n",
              "      <th>humidity</th>\n",
              "      <th>low_temp</th>\n",
              "      <th>high_temp</th>\n",
              "      <th>Precipitation_Probability</th>\n",
              "      <th>number_of_rentals</th>\n",
              "    </tr>\n",
              "  </thead>\n",
              "  <tbody>\n",
              "    <tr>\n",
              "      <th>0</th>\n",
              "      <td>2018-04-01</td>\n",
              "      <td>207.500</td>\n",
              "      <td>4.000</td>\n",
              "      <td>0.000</td>\n",
              "      <td>3.050</td>\n",
              "      <td>75.000</td>\n",
              "      <td>12.600</td>\n",
              "      <td>21.000</td>\n",
              "      <td>30.000</td>\n",
              "      <td>22994</td>\n",
              "    </tr>\n",
              "    <tr>\n",
              "      <th>1</th>\n",
              "      <td>2018-04-02</td>\n",
              "      <td>208.317</td>\n",
              "      <td>2.950</td>\n",
              "      <td>0.000</td>\n",
              "      <td>3.278</td>\n",
              "      <td>69.833</td>\n",
              "      <td>12.812</td>\n",
              "      <td>19.000</td>\n",
              "      <td>19.500</td>\n",
              "      <td>28139</td>\n",
              "    </tr>\n",
              "    <tr>\n",
              "      <th>2</th>\n",
              "      <td>2018-04-03</td>\n",
              "      <td>213.516</td>\n",
              "      <td>2.911</td>\n",
              "      <td>0.000</td>\n",
              "      <td>2.690</td>\n",
              "      <td>74.879</td>\n",
              "      <td>10.312</td>\n",
              "      <td>15.316</td>\n",
              "      <td>19.113</td>\n",
              "      <td>26817</td>\n",
              "    </tr>\n",
              "    <tr>\n",
              "      <th>3</th>\n",
              "      <td>2018-04-04</td>\n",
              "      <td>143.836</td>\n",
              "      <td>3.692</td>\n",
              "      <td>0.425</td>\n",
              "      <td>3.138</td>\n",
              "      <td>71.849</td>\n",
              "      <td>8.312</td>\n",
              "      <td>12.368</td>\n",
              "      <td>43.493</td>\n",
              "      <td>26034</td>\n",
              "    </tr>\n",
              "    <tr>\n",
              "      <th>4</th>\n",
              "      <td>2018-04-05</td>\n",
              "      <td>95.905</td>\n",
              "      <td>4.000</td>\n",
              "      <td>0.723</td>\n",
              "      <td>3.186</td>\n",
              "      <td>73.784</td>\n",
              "      <td>5.875</td>\n",
              "      <td>10.421</td>\n",
              "      <td>63.378</td>\n",
              "      <td>2833</td>\n",
              "    </tr>\n",
              "  </tbody>\n",
              "</table>\n",
              "</div>"
            ],
            "text/plain": [
              "    date_time  wind_direction  ...  Precipitation_Probability  number_of_rentals\n",
              "0  2018-04-01         207.500  ...                     30.000              22994\n",
              "1  2018-04-02         208.317  ...                     19.500              28139\n",
              "2  2018-04-03         213.516  ...                     19.113              26817\n",
              "3  2018-04-04         143.836  ...                     43.493              26034\n",
              "4  2018-04-05          95.905  ...                     63.378               2833\n",
              "\n",
              "[5 rows x 10 columns]"
            ]
          },
          "metadata": {},
          "execution_count": 363
        }
      ]
    },
    {
      "cell_type": "code",
      "metadata": {
        "colab": {
          "base_uri": "https://localhost:8080/"
        },
        "id": "BOUe1UAlRbja",
        "outputId": "909bc8bb-6c82-4b87-9c6e-5c702b8763cb"
      },
      "source": [
        "train.info()"
      ],
      "execution_count": 364,
      "outputs": [
        {
          "output_type": "stream",
          "name": "stdout",
          "text": [
            "<class 'pandas.core.frame.DataFrame'>\n",
            "RangeIndex: 273 entries, 0 to 272\n",
            "Data columns (total 10 columns):\n",
            " #   Column                     Non-Null Count  Dtype  \n",
            "---  ------                     --------------  -----  \n",
            " 0   date_time                  273 non-null    object \n",
            " 1   wind_direction             273 non-null    float64\n",
            " 2   sky_condition              273 non-null    float64\n",
            " 3   precipitation_form         273 non-null    float64\n",
            " 4   wind_speed                 273 non-null    float64\n",
            " 5   humidity                   273 non-null    float64\n",
            " 6   low_temp                   273 non-null    float64\n",
            " 7   high_temp                  273 non-null    float64\n",
            " 8   Precipitation_Probability  273 non-null    float64\n",
            " 9   number_of_rentals          273 non-null    int64  \n",
            "dtypes: float64(8), int64(1), object(1)\n",
            "memory usage: 21.5+ KB\n"
          ]
        }
      ]
    },
    {
      "cell_type": "markdown",
      "metadata": {
        "id": "3jQfha0NSClH"
      },
      "source": [
        "number_of_rentals : 따릉이 대여량(Y값), date_time : 날짜, wind_direction : 풍향\n",
        "\n",
        "sky_condition : 하늘 상태(1 : 맑음, 3 : 구름 많음, 4 : 흐림, 하루에 8번 측정한 값 평균)\n",
        "\n",
        "precipitation_form : 강수 형태(0 : 맑음, 1 : 비, 마찬가지로 하루에 8번 측정한 값 평균)\n",
        "\n",
        "wind_speed : 풍속, humidity : 습도, low_temp : 최저기온, high_temp : 최고기온, precipitation_Probability : 강수확률\n",
        "\n",
        "결측값은 없습니다."
      ]
    },
    {
      "cell_type": "code",
      "metadata": {
        "colab": {
          "base_uri": "https://localhost:8080/",
          "height": 374
        },
        "id": "Gzkp5L1JR5NR",
        "outputId": "1ad30b3c-59e8-4ed0-a461-c20a62368a88"
      },
      "source": [
        "import matplotlib.pyplot as plt\n",
        "# 이상치 확인\n",
        "plt.figure(figsize=(8,6))\n",
        "plt.scatter(range(train.shape[0]), np.sort(train['number_of_rentals'].values))\n",
        "plt.show()"
      ],
      "execution_count": 365,
      "outputs": [
        {
          "output_type": "display_data",
          "data": {
            "image/png": "[encoded data removed]",
            "text/plain": [
              "<Figure size 576x432 with 1 Axes>"
            ]
          },
          "metadata": {
            "needs_background": "light"
          }
        }
      ]
    },
    {
      "cell_type": "markdown",
      "metadata": {
        "id": "jVt0Dc8hyPs5"
      },
      "source": [
        "Date to 'year', 'month', 'day'"
      ]
    },
    {
      "cell_type": "code",
      "metadata": {
        "id": "97535ppPSPqV"
      },
      "source": [
        "train['date_time'] = pd.to_datetime(train['date_time'])\n",
        "test['date_time'] = pd.to_datetime(test['date_time'])\n",
        "\n",
        "train['day']=pd.DatetimeIndex(train['date_time']).day\n",
        "test['day']=pd.DatetimeIndex(test['date_time']).day\n",
        "train['month']=pd.DatetimeIndex(train['date_time']).month\n",
        "test['month']=pd.DatetimeIndex(test['date_time']).month\n",
        "train['year']=pd.DatetimeIndex(train['date_time']).year\n",
        "\n",
        "test['year']=pd.DatetimeIndex(test['date_time']).year\n",
        "train['weekday']=pd.DatetimeIndex(train['date_time']).weekday\n",
        "test['weekday']=pd.DatetimeIndex(test['date_time']).weekday"
      ],
      "execution_count": 366,
      "outputs": []
    },
    {
      "cell_type": "markdown",
      "metadata": {
        "id": "CLbTZ8MwyaNq"
      },
      "source": [
        "Check the same kind of features to reduce them."
      ]
    },
    {
      "cell_type": "code",
      "metadata": {
        "colab": {
          "base_uri": "https://localhost:8080/"
        },
        "id": "tsYh-pJGSjx3",
        "outputId": "310117b2-3382-46cb-aea3-5052d7595d51"
      },
      "source": [
        "train['precipitation_form'].corr(train['Precipitation_Probability'])"
      ],
      "execution_count": 367,
      "outputs": [
        {
          "output_type": "execute_result",
          "data": {
            "text/plain": [
              "0.9106089542607185"
            ]
          },
          "metadata": {},
          "execution_count": 367
        }
      ]
    },
    {
      "cell_type": "code",
      "metadata": {
        "colab": {
          "base_uri": "https://localhost:8080/"
        },
        "id": "yGeMzz3sSzqm",
        "outputId": "a6226260-b799-469f-c20c-df1461422ffa"
      },
      "source": [
        "train['precipitation_form'].corr(train['sky_condition'])"
      ],
      "execution_count": 368,
      "outputs": [
        {
          "output_type": "execute_result",
          "data": {
            "text/plain": [
              "0.6738137525457335"
            ]
          },
          "metadata": {},
          "execution_count": 368
        }
      ]
    },
    {
      "cell_type": "markdown",
      "metadata": {
        "id": "3v_yPb69ylWp"
      },
      "source": [
        "Check the heatmap first for feature engineering."
      ]
    },
    {
      "cell_type": "code",
      "metadata": {
        "colab": {
          "base_uri": "https://localhost:8080/",
          "height": 703
        },
        "id": "touVLnIYZCrB",
        "outputId": "788509f5-ad5e-4e3c-ebae-60b479c703dd"
      },
      "source": [
        "bicycle_number = train.select_dtypes(np.number)#상관분석은 숫자로 계산할 수 있으므로 데이터에서 숫자로 이루어진 컬럼만을 뽑겠습니다 (date_time drop)\n",
        "\n",
        "corr = bicycle_number.corr()\n",
        "plt.figure(figsize=(20, 10))\n",
        "ax = sns.heatmap(\n",
        "    corr, \n",
        "    vmin=-1, vmax=1, center=0,\n",
        "    cmap=sns.diverging_palette(20, 220, n=200),\n",
        "    square=True,\n",
        "    annot=True\n",
        ")\n",
        "\n",
        "ax.set_xticklabels(\n",
        "    ax.get_xticklabels(),\n",
        "    rotation=45,\n",
        "    horizontalalignment='right'\n",
        ")\n",
        "\n",
        "plt.title('Correlation heatmap', fontsize=30)\n",
        "plt.show()"
      ],
      "execution_count": 369,
      "outputs": [
        {
          "output_type": "display_data",
          "data": {
            "image/png": "[encoded data removed]",
            "text/plain": [
              "<Figure size 1440x720 with 2 Axes>"
            ]
          },
          "metadata": {
            "needs_background": "light"
          }
        }
      ]
    },
    {
      "cell_type": "markdown",
      "metadata": {
        "id": "53VWBJIB06cf"
      },
      "source": [
        "To check relation between Precipitation_Probability and  number_of_rentals"
      ]
    },
    {
      "cell_type": "code",
      "metadata": {
        "id": "eEwOyVbEbR9Z"
      },
      "source": [
        "labels = np.arange(0, 101, 20)\n",
        "Precipitation_Probability_seg = pd.Series(list(pd.cut(train['Precipitation_Probability'], 6, labels=labels)), name='Precipitation_Probability_seg')\n",
        "train = pd.concat([train, Precipitation_Probability_seg], axis=1)"
      ],
      "execution_count": 370,
      "outputs": []
    },
    {
      "cell_type": "code",
      "metadata": {
        "id": "d9khWq3T6lds"
      },
      "source": [
        "Precipitation_Probability_seg = pd.Series(list(pd.cut(test['Precipitation_Probability'], 6, labels=labels)), name='Precipitation_Probability_seg')\n",
        "test = pd.concat([test, Precipitation_Probability_seg], axis=1)"
      ],
      "execution_count": 371,
      "outputs": []
    },
    {
      "cell_type": "code",
      "metadata": {
        "colab": {
          "base_uri": "https://localhost:8080/",
          "height": 235
        },
        "id": "LnXJd7I-aEBe",
        "outputId": "f14068fa-1e3e-4f8d-f93d-0e8a134cea9c"
      },
      "source": [
        "# 강수확률에 따라 대여수 변화\n",
        "train[[\"Precipitation_Probability_seg\", \"number_of_rentals\"]].groupby(['Precipitation_Probability_seg'], as_index=False).mean().sort_values(by='number_of_rentals', ascending=False)\n"
      ],
      "execution_count": 372,
      "outputs": [
        {
          "output_type": "execute_result",
          "data": {
            "text/html": [
              "<div>\n",
              "<style scoped>\n",
              "    .dataframe tbody tr th:only-of-type {\n",
              "        vertical-align: middle;\n",
              "    }\n",
              "\n",
              "    .dataframe tbody tr th {\n",
              "        vertical-align: top;\n",
              "    }\n",
              "\n",
              "    .dataframe thead th {\n",
              "        text-align: right;\n",
              "    }\n",
              "</style>\n",
              "<table border=\"1\" class=\"dataframe\">\n",
              "  <thead>\n",
              "    <tr style=\"text-align: right;\">\n",
              "      <th></th>\n",
              "      <th>Precipitation_Probability_seg</th>\n",
              "      <th>number_of_rentals</th>\n",
              "    </tr>\n",
              "  </thead>\n",
              "  <tbody>\n",
              "    <tr>\n",
              "      <th>0</th>\n",
              "      <td>0</td>\n",
              "      <td>67687.374150</td>\n",
              "    </tr>\n",
              "    <tr>\n",
              "      <th>1</th>\n",
              "      <td>20</td>\n",
              "      <td>57625.728571</td>\n",
              "    </tr>\n",
              "    <tr>\n",
              "      <th>2</th>\n",
              "      <td>40</td>\n",
              "      <td>55041.607143</td>\n",
              "    </tr>\n",
              "    <tr>\n",
              "      <th>3</th>\n",
              "      <td>60</td>\n",
              "      <td>34089.500000</td>\n",
              "    </tr>\n",
              "    <tr>\n",
              "      <th>4</th>\n",
              "      <td>80</td>\n",
              "      <td>16129.857143</td>\n",
              "    </tr>\n",
              "    <tr>\n",
              "      <th>5</th>\n",
              "      <td>100</td>\n",
              "      <td>4146.333333</td>\n",
              "    </tr>\n",
              "  </tbody>\n",
              "</table>\n",
              "</div>"
            ],
            "text/plain": [
              "   Precipitation_Probability_seg  number_of_rentals\n",
              "0                              0       67687.374150\n",
              "1                             20       57625.728571\n",
              "2                             40       55041.607143\n",
              "3                             60       34089.500000\n",
              "4                             80       16129.857143\n",
              "5                            100        4146.333333"
            ]
          },
          "metadata": {},
          "execution_count": 372
        }
      ]
    },
    {
      "cell_type": "code",
      "metadata": {
        "colab": {
          "base_uri": "https://localhost:8080/",
          "height": 279
        },
        "id": "xpDF8oxdTBPC",
        "outputId": "18ff2911-9a92-4799-c752-ed6b303a34ba"
      },
      "source": [
        "import seaborn as sns\n",
        "\n",
        "def barplots(variable):\n",
        "    plot = train.groupby(variable)['number_of_rentals'].mean()\n",
        "    sns.barplot(plot.index,plot.values)\n",
        "barplots('year')"
      ],
      "execution_count": 373,
      "outputs": [
        {
          "output_type": "display_data",
          "data": {
            "image/png": "[encoded data removed]",
            "text/plain": [
              "<Figure size 432x288 with 1 Axes>"
            ]
          },
          "metadata": {
            "needs_background": "light"
          }
        }
      ]
    },
    {
      "cell_type": "code",
      "metadata": {
        "colab": {
          "base_uri": "https://localhost:8080/",
          "height": 281
        },
        "id": "x7HN76Lje6dU",
        "outputId": "e4a7ca83-2168-48ae-d533-8ae29edfa69a"
      },
      "source": [
        "barplots('Precipitation_Probability_seg')"
      ],
      "execution_count": 374,
      "outputs": [
        {
          "output_type": "display_data",
          "data": {
            "image/png": "[encoded data removed]",
            "text/plain": [
              "<Figure size 432x288 with 1 Axes>"
            ]
          },
          "metadata": {
            "needs_background": "light"
          }
        }
      ]
    },
    {
      "cell_type": "code",
      "metadata": {
        "colab": {
          "base_uri": "https://localhost:8080/",
          "height": 279
        },
        "id": "ShXJnP4-TaSe",
        "outputId": "2619a16b-c21f-4bbd-f70c-846efda1f883"
      },
      "source": [
        "barplots('weekday')"
      ],
      "execution_count": 375,
      "outputs": [
        {
          "output_type": "display_data",
          "data": {
            "image/png": "[encoded data removed]",
            "text/plain": [
              "<Figure size 432x288 with 1 Axes>"
            ]
          },
          "metadata": {
            "needs_background": "light"
          }
        }
      ]
    },
    {
      "cell_type": "code",
      "metadata": {
        "colab": {
          "base_uri": "https://localhost:8080/",
          "height": 279
        },
        "id": "7lnBKKPTfjNW",
        "outputId": "8cb078c7-5855-4a79-c882-130ce0eed42f"
      },
      "source": [
        "barplots('month')"
      ],
      "execution_count": 376,
      "outputs": [
        {
          "output_type": "display_data",
          "data": {
            "image/png": "[encoded data removed]",
            "text/plain": [
              "<Figure size 432x288 with 1 Axes>"
            ]
          },
          "metadata": {
            "needs_background": "light"
          }
        }
      ]
    },
    {
      "cell_type": "markdown",
      "metadata": {
        "id": "vxKC6XZC1OK5"
      },
      "source": [
        "- Create new variables for better prediction.\n",
        "- Using tempeture features and temperature and humidity."
      ]
    },
    {
      "cell_type": "code",
      "metadata": {
        "id": "ZfXfz0C5jI_2"
      },
      "source": [
        "#새로운 변수 추가\n",
        "train['Temperature'] = (train['low_temp'] + train['high_temp'])/2\n",
        "train['Feeling'] = (5/9)*train['Temperature']-0.55*((100-train['humidity'])/100)*((5/9)*train['Temperature']-26)+32\n",
        "\n",
        "# 그룹화\n",
        "train.loc[train['Precipitation_Probability'] <40, 'Precipitation_Probability'] = 0\n",
        "train.loc[train['Precipitation_Probability'] >=40, 'Precipitation_Probability'] = 1\n",
        "\n",
        "train.reset_index(drop = True, inplace = True)\n",
        "train.reset_index(drop = True, inplace = True)\n",
        "\n",
        "\n",
        "#새로운 변수 추가\n",
        "test['Temperature'] = (test['low_temp'] + test['high_temp'])/2\n",
        "test['Feeling'] = (5/9)*test['Temperature']-0.55*((100-test['humidity'])/100)*((5/9)*test['Temperature']-26)+32\n",
        "\n",
        "# 그룹화\n",
        "test.loc[test['Precipitation_Probability'] <40, 'Precipitation_Probability'] = 0\n",
        "test.loc[test['Precipitation_Probability'] >=40, 'Precipitation_Probability'] = 1\n",
        "\n",
        "test.reset_index(drop = True, inplace = True)\n",
        "test.reset_index(drop = True, inplace = True)\n"
      ],
      "execution_count": 377,
      "outputs": []
    },
    {
      "cell_type": "code",
      "metadata": {
        "id": "3Aa8xtOfTwN-"
      },
      "source": [
        "train.drop(['date_time','wind_direction', 'humidity', 'Precipitation_Probability_seg','low_temp', 'high_temp', 'precipitation_form', 'day'], axis = 1, inplace= True)\n",
        "test.drop(['date_time','wind_direction', 'humidity', 'low_temp', 'high_temp', 'precipitation_form', 'day', 'Precipitation_Probability_seg'], axis = 1, inplace= True)"
      ],
      "execution_count": 378,
      "outputs": []
    },
    {
      "cell_type": "code",
      "metadata": {
        "colab": {
          "base_uri": "https://localhost:8080/",
          "height": 204
        },
        "id": "qSITXvVlO-AT",
        "outputId": "9c5a178b-739e-4be7-b388-676a33178e78"
      },
      "source": [
        "train.head()"
      ],
      "execution_count": 379,
      "outputs": [
        {
          "output_type": "execute_result",
          "data": {
            "text/html": [
              "<div>\n",
              "<style scoped>\n",
              "    .dataframe tbody tr th:only-of-type {\n",
              "        vertical-align: middle;\n",
              "    }\n",
              "\n",
              "    .dataframe tbody tr th {\n",
              "        vertical-align: top;\n",
              "    }\n",
              "\n",
              "    .dataframe thead th {\n",
              "        text-align: right;\n",
              "    }\n",
              "</style>\n",
              "<table border=\"1\" class=\"dataframe\">\n",
              "  <thead>\n",
              "    <tr style=\"text-align: right;\">\n",
              "      <th></th>\n",
              "      <th>sky_condition</th>\n",
              "      <th>wind_speed</th>\n",
              "      <th>Precipitation_Probability</th>\n",
              "      <th>number_of_rentals</th>\n",
              "      <th>month</th>\n",
              "      <th>year</th>\n",
              "      <th>weekday</th>\n",
              "      <th>Temperature</th>\n",
              "      <th>Feeling</th>\n",
              "    </tr>\n",
              "  </thead>\n",
              "  <tbody>\n",
              "    <tr>\n",
              "      <th>0</th>\n",
              "      <td>4.000</td>\n",
              "      <td>3.050</td>\n",
              "      <td>0.0</td>\n",
              "      <td>22994</td>\n",
              "      <td>4</td>\n",
              "      <td>2018</td>\n",
              "      <td>6</td>\n",
              "      <td>16.800</td>\n",
              "      <td>43.625000</td>\n",
              "    </tr>\n",
              "    <tr>\n",
              "      <th>1</th>\n",
              "      <td>2.950</td>\n",
              "      <td>3.278</td>\n",
              "      <td>0.0</td>\n",
              "      <td>28139</td>\n",
              "      <td>4</td>\n",
              "      <td>2018</td>\n",
              "      <td>0</td>\n",
              "      <td>15.906</td>\n",
              "      <td>43.684381</td>\n",
              "    </tr>\n",
              "    <tr>\n",
              "      <th>2</th>\n",
              "      <td>2.911</td>\n",
              "      <td>2.690</td>\n",
              "      <td>0.0</td>\n",
              "      <td>26817</td>\n",
              "      <td>4</td>\n",
              "      <td>2018</td>\n",
              "      <td>1</td>\n",
              "      <td>12.814</td>\n",
              "      <td>41.727607</td>\n",
              "    </tr>\n",
              "    <tr>\n",
              "      <th>3</th>\n",
              "      <td>3.692</td>\n",
              "      <td>3.138</td>\n",
              "      <td>1.0</td>\n",
              "      <td>26034</td>\n",
              "      <td>4</td>\n",
              "      <td>2018</td>\n",
              "      <td>2</td>\n",
              "      <td>10.340</td>\n",
              "      <td>40.880622</td>\n",
              "    </tr>\n",
              "    <tr>\n",
              "      <th>4</th>\n",
              "      <td>4.000</td>\n",
              "      <td>3.186</td>\n",
              "      <td>1.0</td>\n",
              "      <td>2833</td>\n",
              "      <td>4</td>\n",
              "      <td>2018</td>\n",
              "      <td>3</td>\n",
              "      <td>8.148</td>\n",
              "      <td>39.622864</td>\n",
              "    </tr>\n",
              "  </tbody>\n",
              "</table>\n",
              "</div>"
            ],
            "text/plain": [
              "   sky_condition  wind_speed  ...  Temperature    Feeling\n",
              "0          4.000       3.050  ...       16.800  43.625000\n",
              "1          2.950       3.278  ...       15.906  43.684381\n",
              "2          2.911       2.690  ...       12.814  41.727607\n",
              "3          3.692       3.138  ...       10.340  40.880622\n",
              "4          4.000       3.186  ...        8.148  39.622864\n",
              "\n",
              "[5 rows x 9 columns]"
            ]
          },
          "metadata": {},
          "execution_count": 379
        }
      ]
    },
    {
      "cell_type": "markdown",
      "metadata": {
        "id": "deylPp5S3UWm"
      },
      "source": [
        "### Check the bset corrleated features over 0.3"
      ]
    },
    {
      "cell_type": "code",
      "metadata": {
        "colab": {
          "base_uri": "https://localhost:8080/",
          "height": 759
        },
        "id": "bZ_6xLnphTvp",
        "outputId": "d5039608-7fee-443c-be23-969672a0c0be"
      },
      "source": [
        "cor = train.corr()\n",
        "top_feature = cor.index[abs(cor['number_of_rentals']) >= 0.3]\n",
        "print(top_feature)\n",
        "top_corr = train[top_feature].corr()\n",
        "plt.figure(figsize=(15,10))\n",
        "sns.heatmap(top_corr, annot=True)\n",
        "plt.xticks(rotation=90)\n",
        "plt.show()"
      ],
      "execution_count": 380,
      "outputs": [
        {
          "output_type": "stream",
          "name": "stdout",
          "text": [
            "Index(['sky_condition', 'wind_speed', 'Precipitation_Probability',\n",
            "       'number_of_rentals', 'month', 'year', 'Temperature', 'Feeling'],\n",
            "      dtype='object')\n"
          ]
        },
        {
          "output_type": "display_data",
          "data": {
            "image/png": "[encoded data removed]",
            "text/plain": [
              "<Figure size 1080x720 with 2 Axes>"
            ]
          },
          "metadata": {
            "needs_background": "light"
          }
        }
      ]
    },
    {
      "cell_type": "code",
      "metadata": {
        "id": "3xfqvI0rrZup"
      },
      "source": [
        "import math\n",
        "from sklearn.preprocessing import StandardScaler\n",
        "from sklearn.model_selection import train_test_split, GridSearchCV\n",
        "from sklearn.ensemble import RandomForestRegressor\n",
        "from sklearn.linear_model import LogisticRegression\n",
        "from sklearn.metrics import roc_auc_score ,roc_curve, f1_score, accuracy_score, mean_absolute_error, r2_score\n",
        "from sklearn.compose import ColumnTransformer\n",
        "from xgboost import XGBRegressor\n",
        "from sklearn.neighbors import KNeighborsClassifier\n",
        "from sklearn.svm import SVC\n",
        "from sklearn.neural_network import MLPClassifier\n",
        "from sklearn.ensemble import RandomForestClassifier\n",
        "from sklearn.model_selection import KFold\n",
        "from sklearn.metrics import mean_squared_error\n",
        "from sklearn.ensemble import GradientBoostingRegressor, RandomForestRegressor\n",
        "from sklearn.metrics import accuracy_score, recall_score, precision_score\n",
        "from lightgbm import LGBMRegressor"
      ],
      "execution_count": 381,
      "outputs": []
    },
    {
      "cell_type": "markdown",
      "metadata": {
        "id": "lHr_jrQs3hF0"
      },
      "source": [
        "- new_df is the top feature dataset\n",
        "- test dataset also changed"
      ]
    },
    {
      "cell_type": "code",
      "metadata": {
        "id": "ilWrMmFdkbGY"
      },
      "source": [
        "new_df=train[top_feature]"
      ],
      "execution_count": 382,
      "outputs": []
    },
    {
      "cell_type": "code",
      "metadata": {
        "colab": {
          "base_uri": "https://localhost:8080/"
        },
        "id": "S6md52k059CW",
        "outputId": "d032bb1e-cdc8-460b-c712-3267df00cbce"
      },
      "source": [
        "print(test.columns)\n",
        "print(new_df.columns)"
      ],
      "execution_count": 383,
      "outputs": [
        {
          "output_type": "stream",
          "name": "stdout",
          "text": [
            "Index(['sky_condition', 'wind_speed', 'Precipitation_Probability', 'month',\n",
            "       'year', 'weekday', 'Temperature', 'Feeling'],\n",
            "      dtype='object')\n",
            "Index(['sky_condition', 'wind_speed', 'Precipitation_Probability',\n",
            "       'number_of_rentals', 'month', 'year', 'Temperature', 'Feeling'],\n",
            "      dtype='object')\n"
          ]
        }
      ]
    },
    {
      "cell_type": "code",
      "metadata": {
        "id": "rSburf5nqGJo"
      },
      "source": [
        "test=test[['sky_condition', 'wind_speed', 'Precipitation_Probability' ,'month', 'year',\n",
        "           'Temperature', 'Feeling']]"
      ],
      "execution_count": 384,
      "outputs": []
    },
    {
      "cell_type": "code",
      "metadata": {
        "id": "7BoUNZETmNy7"
      },
      "source": [
        "X = new_df.drop('number_of_rentals', axis=1)\n",
        "y = new_df['number_of_rentals']\n",
        "X_train, X_test, y_train, y_test = train_test_split(X,y, test_size = 0.2, random_state=42)\n"
      ],
      "execution_count": 385,
      "outputs": []
    },
    {
      "cell_type": "code",
      "metadata": {
        "id": "0sF5xiu8r8wY"
      },
      "source": [
        "X_test=X_test.fillna(X_test.mean())\n",
        "y_test=y_test.fillna(y_test.mean())"
      ],
      "execution_count": 386,
      "outputs": []
    },
    {
      "cell_type": "markdown",
      "metadata": {
        "id": "YLBBi6W43tzk"
      },
      "source": [
        "Randomforest Regrssor"
      ]
    },
    {
      "cell_type": "code",
      "metadata": {
        "colab": {
          "base_uri": "https://localhost:8080/"
        },
        "id": "Mmp2z9alrjPv",
        "outputId": "9b4feca9-c411-40fe-ce7a-7b208fb4f7ae"
      },
      "source": [
        "#50대 50\n",
        "rmse_list = []\n",
        "kf = KFold(n_splits =  10, shuffle = True, random_state = 42)\n",
        "for tr_idx, val_idx in kf.split(X_train, y_train) :\n",
        "    rf = RandomForestRegressor(n_estimators = 150,random_state = 518)\n",
        "    tr_x, tr_y = X_train.iloc[tr_idx], y_train.iloc[tr_idx]\n",
        "    val_x, val_y = X_train.iloc[val_idx], y_train.iloc[val_idx]\n",
        "    rf.fit(tr_x, tr_y)\n",
        "    \n",
        "    pred = np.expm1([0 if x < 0 else x for x in rf.predict(val_x)])\n",
        "\n",
        "print(rf.score(X_train, y_train)) # train R2 score를 출력합니다.\n",
        "print(rf.score(X_test, y_test)) # test R2 score를 출력합니다"
      ],
      "execution_count": 387,
      "outputs": [
        {
          "output_type": "stream",
          "name": "stdout",
          "text": [
            "0.9443155497137163\n",
            "0.8332907500573871\n"
          ]
        }
      ]
    },
    {
      "cell_type": "code",
      "metadata": {
        "colab": {
          "base_uri": "https://localhost:8080/",
          "height": 436
        },
        "id": "LQpT6oos0tV4",
        "outputId": "eddf8c4f-5c1e-4d2d-9dde-e8c6bde5435f"
      },
      "source": [
        "print('Test result')\n",
        "rf_test  = rf.predict(X_test)\n",
        "test_data=y_test\n",
        "compare_rf_test={'test_data':test_data, 'rf_test':rf_test}\n",
        "compare_rf_test=pd.DataFrame(compare_rf)\n",
        "compare_rf_test"
      ],
      "execution_count": 388,
      "outputs": [
        {
          "output_type": "stream",
          "name": "stdout",
          "text": [
            "Test result\n"
          ]
        },
        {
          "output_type": "execute_result",
          "data": {
            "text/html": [
              "<div>\n",
              "<style scoped>\n",
              "    .dataframe tbody tr th:only-of-type {\n",
              "        vertical-align: middle;\n",
              "    }\n",
              "\n",
              "    .dataframe tbody tr th {\n",
              "        vertical-align: top;\n",
              "    }\n",
              "\n",
              "    .dataframe thead th {\n",
              "        text-align: right;\n",
              "    }\n",
              "</style>\n",
              "<table border=\"1\" class=\"dataframe\">\n",
              "  <thead>\n",
              "    <tr style=\"text-align: right;\">\n",
              "      <th></th>\n",
              "      <th>y_train</th>\n",
              "      <th>rf_train</th>\n",
              "    </tr>\n",
              "  </thead>\n",
              "  <tbody>\n",
              "    <tr>\n",
              "      <th>33</th>\n",
              "      <td>34058</td>\n",
              "      <td>34054.633333</td>\n",
              "    </tr>\n",
              "    <tr>\n",
              "      <th>186</th>\n",
              "      <td>64111</td>\n",
              "      <td>73922.506667</td>\n",
              "    </tr>\n",
              "    <tr>\n",
              "      <th>144</th>\n",
              "      <td>77190</td>\n",
              "      <td>77699.313333</td>\n",
              "    </tr>\n",
              "    <tr>\n",
              "      <th>199</th>\n",
              "      <td>92829</td>\n",
              "      <td>80595.893333</td>\n",
              "    </tr>\n",
              "    <tr>\n",
              "      <th>37</th>\n",
              "      <td>33738</td>\n",
              "      <td>34141.673333</td>\n",
              "    </tr>\n",
              "    <tr>\n",
              "      <th>...</th>\n",
              "      <td>...</td>\n",
              "      <td>...</td>\n",
              "    </tr>\n",
              "    <tr>\n",
              "      <th>188</th>\n",
              "      <td>73685</td>\n",
              "      <td>68925.213333</td>\n",
              "    </tr>\n",
              "    <tr>\n",
              "      <th>71</th>\n",
              "      <td>30605</td>\n",
              "      <td>33425.300000</td>\n",
              "    </tr>\n",
              "    <tr>\n",
              "      <th>106</th>\n",
              "      <td>60566</td>\n",
              "      <td>61172.826667</td>\n",
              "    </tr>\n",
              "    <tr>\n",
              "      <th>270</th>\n",
              "      <td>98568</td>\n",
              "      <td>100996.240000</td>\n",
              "    </tr>\n",
              "    <tr>\n",
              "      <th>102</th>\n",
              "      <td>55125</td>\n",
              "      <td>51487.580000</td>\n",
              "    </tr>\n",
              "  </tbody>\n",
              "</table>\n",
              "<p>218 rows × 2 columns</p>\n",
              "</div>"
            ],
            "text/plain": [
              "     y_train       rf_train\n",
              "33     34058   34054.633333\n",
              "186    64111   73922.506667\n",
              "144    77190   77699.313333\n",
              "199    92829   80595.893333\n",
              "37     33738   34141.673333\n",
              "..       ...            ...\n",
              "188    73685   68925.213333\n",
              "71     30605   33425.300000\n",
              "106    60566   61172.826667\n",
              "270    98568  100996.240000\n",
              "102    55125   51487.580000\n",
              "\n",
              "[218 rows x 2 columns]"
            ]
          },
          "metadata": {},
          "execution_count": 388
        }
      ]
    },
    {
      "cell_type": "markdown",
      "metadata": {
        "id": "tPWqDpC9368W"
      },
      "source": [
        "XGBRegressor"
      ]
    },
    {
      "cell_type": "code",
      "metadata": {
        "colab": {
          "base_uri": "https://localhost:8080/"
        },
        "id": "DavE3oKMFkrc",
        "outputId": "2c335181-2411-49ff-f6d7-fc213afb76bf"
      },
      "source": [
        "kf = KFold(n_splits =  10, shuffle = True, random_state = 42)\n",
        "rmse_list = []\n",
        "# xgb = XGBRegressor(random_state = 518)\n",
        "xgb = XGBRegressor(colsample_bytree=0.4603, gamma=0.0468, \n",
        "                             learning_rate=0.05, max_depth=8, \n",
        "                             min_child_weight=1.7817, n_estimators=200,\n",
        "                             reg_alpha=1, reg_lambda=1,\n",
        "                             subsample=0.5213, silent=1,\n",
        "                             random_state =7, nthread = -1)\n",
        "\n",
        "for tr_idx, val_idx in kf.split(X_train, y_train) :\n",
        "    tr_x, tr_y = X_train.iloc[tr_idx], y_train.iloc[tr_idx]\n",
        "    val_x, val_y = X_train.iloc[val_idx], y_train.iloc[val_idx]\n",
        "    \n",
        "    xgb.fit(tr_x, tr_y)\n",
        "    \n",
        "    pred = np.expm1([0 if x < 0 else x for x in xgb.predict(val_x)])\n",
        "print(xgb.score(X_train, y_train)) # train R2 score를 출력합니다.\n",
        "print(xgb.score(X_test, y_test)) # test R2 score를 출력합니다"
      ],
      "execution_count": 389,
      "outputs": [
        {
          "output_type": "stream",
          "name": "stdout",
          "text": [
            "0.9698668973827409\n",
            "0.8750095335034737\n"
          ]
        }
      ]
    },
    {
      "cell_type": "code",
      "metadata": {
        "colab": {
          "base_uri": "https://localhost:8080/",
          "height": 221
        },
        "id": "9px6oqDNG2Wo",
        "outputId": "78c8f363-6f83-43b2-c152-f4c850c8ed23"
      },
      "source": [
        "print('test 결과')\n",
        "xgb_test  = xgb.predict(X_test)\n",
        "test_data=y_test\n",
        "compare_xgb_test={'test_data':test_data, 'xgb_test':rf_test}\n",
        "compare_xgb_test=pd.DataFrame(compare_xgb_test)\n",
        "compare_xgb_test.head()"
      ],
      "execution_count": 390,
      "outputs": [
        {
          "output_type": "stream",
          "name": "stdout",
          "text": [
            "test 결과\n"
          ]
        },
        {
          "output_type": "execute_result",
          "data": {
            "text/html": [
              "<div>\n",
              "<style scoped>\n",
              "    .dataframe tbody tr th:only-of-type {\n",
              "        vertical-align: middle;\n",
              "    }\n",
              "\n",
              "    .dataframe tbody tr th {\n",
              "        vertical-align: top;\n",
              "    }\n",
              "\n",
              "    .dataframe thead th {\n",
              "        text-align: right;\n",
              "    }\n",
              "</style>\n",
              "<table border=\"1\" class=\"dataframe\">\n",
              "  <thead>\n",
              "    <tr style=\"text-align: right;\">\n",
              "      <th></th>\n",
              "      <th>test_data</th>\n",
              "      <th>xgb_test</th>\n",
              "    </tr>\n",
              "  </thead>\n",
              "  <tbody>\n",
              "    <tr>\n",
              "      <th>30</th>\n",
              "      <td>34593</td>\n",
              "      <td>14505.193333</td>\n",
              "    </tr>\n",
              "    <tr>\n",
              "      <th>117</th>\n",
              "      <td>65124</td>\n",
              "      <td>52913.726667</td>\n",
              "    </tr>\n",
              "    <tr>\n",
              "      <th>79</th>\n",
              "      <td>47296</td>\n",
              "      <td>43319.140000</td>\n",
              "    </tr>\n",
              "    <tr>\n",
              "      <th>212</th>\n",
              "      <td>93249</td>\n",
              "      <td>94842.413333</td>\n",
              "    </tr>\n",
              "    <tr>\n",
              "      <th>213</th>\n",
              "      <td>88508</td>\n",
              "      <td>88635.940000</td>\n",
              "    </tr>\n",
              "  </tbody>\n",
              "</table>\n",
              "</div>"
            ],
            "text/plain": [
              "     test_data      xgb_test\n",
              "30       34593  14505.193333\n",
              "117      65124  52913.726667\n",
              "79       47296  43319.140000\n",
              "212      93249  94842.413333\n",
              "213      88508  88635.940000"
            ]
          },
          "metadata": {},
          "execution_count": 390
        }
      ]
    },
    {
      "cell_type": "markdown",
      "metadata": {
        "id": "qpkvVGgG39gJ"
      },
      "source": [
        "LGBMRegressor"
      ]
    },
    {
      "cell_type": "code",
      "metadata": {
        "colab": {
          "base_uri": "https://localhost:8080/"
        },
        "id": "SkvcY9XJHiJ_",
        "outputId": "630e56dd-cdd4-4594-ee10-6b8e958ea0ab"
      },
      "source": [
        "kf = KFold(n_splits =  10, shuffle = True, random_state = 42)\n",
        "rmse_list = []\n",
        "models = []\n",
        "\n",
        "model = LGBMRegressor(objective= \"regression\",\n",
        "                      max_depth= 10,\n",
        "                      n_estimators= 150,\n",
        "                      learning_rate= 0.05,\n",
        "                      num_leaves = 30)\n",
        "lgmbr_pred = np.zeros((X_train.shape[0]))\n",
        "for tr_idx, val_idx in kf.split(X_train, y_train) :\n",
        "    tr_x, tr_y = X_train.iloc[tr_idx], y_train.iloc[tr_idx]\n",
        "    val_x, val_y = X_train.iloc[val_idx], y_train.iloc[val_idx]\n",
        "\n",
        "    \n",
        "    model.fit(tr_x, tr_y,\n",
        "              eval_set=[(val_x, val_y)],\n",
        "              eval_metric=[\"rmse\"],\n",
        "              early_stopping_rounds=200,\n",
        "              verbose=100)\n",
        "    \n",
        "    pred = np.expm1([0 if x < 0 else x for x in model.predict(val_x)])\n",
        "print(xgb.score(X_train, y_train)) # train R2 score를 출력합니다.\n",
        "print(xgb.score(X_test, y_test)) # test R2 score를 출력합니다"
      ],
      "execution_count": 391,
      "outputs": [
        {
          "output_type": "stream",
          "name": "stdout",
          "text": [
            "Training until validation scores don't improve for 200 rounds.\n",
            "[100]\tvalid_0's rmse: 10932.1\tvalid_0's l2: 1.1951e+08\n",
            "Did not meet early stopping. Best iteration is:\n",
            "[74]\tvalid_0's rmse: 10805.2\tvalid_0's l2: 1.16751e+08\n",
            "Training until validation scores don't improve for 200 rounds.\n",
            "[100]\tvalid_0's rmse: 10138.4\tvalid_0's l2: 1.02787e+08\n",
            "Did not meet early stopping. Best iteration is:\n",
            "[50]\tvalid_0's rmse: 9502.27\tvalid_0's l2: 9.02931e+07\n",
            "Training until validation scores don't improve for 200 rounds.\n",
            "[100]\tvalid_0's rmse: 8538.65\tvalid_0's l2: 7.29085e+07\n",
            "Did not meet early stopping. Best iteration is:\n",
            "[72]\tvalid_0's rmse: 8448.4\tvalid_0's l2: 7.13755e+07\n",
            "Training until validation scores don't improve for 200 rounds.\n",
            "[100]\tvalid_0's rmse: 7825.5\tvalid_0's l2: 6.12384e+07\n",
            "Did not meet early stopping. Best iteration is:\n",
            "[97]\tvalid_0's rmse: 7813.31\tvalid_0's l2: 6.10478e+07\n",
            "Training until validation scores don't improve for 200 rounds.\n",
            "[100]\tvalid_0's rmse: 10647.1\tvalid_0's l2: 1.13362e+08\n",
            "Did not meet early stopping. Best iteration is:\n",
            "[59]\tvalid_0's rmse: 10538.7\tvalid_0's l2: 1.11064e+08\n",
            "Training until validation scores don't improve for 200 rounds.\n",
            "[100]\tvalid_0's rmse: 6214.74\tvalid_0's l2: 3.8623e+07\n",
            "Did not meet early stopping. Best iteration is:\n",
            "[121]\tvalid_0's rmse: 5990.1\tvalid_0's l2: 3.58813e+07\n",
            "Training until validation scores don't improve for 200 rounds.\n",
            "[100]\tvalid_0's rmse: 18029.5\tvalid_0's l2: 3.25064e+08\n",
            "Did not meet early stopping. Best iteration is:\n",
            "[34]\tvalid_0's rmse: 17689.7\tvalid_0's l2: 3.12925e+08\n",
            "Training until validation scores don't improve for 200 rounds.\n",
            "[100]\tvalid_0's rmse: 11413.7\tvalid_0's l2: 1.30273e+08\n",
            "Did not meet early stopping. Best iteration is:\n",
            "[103]\tvalid_0's rmse: 11355\tvalid_0's l2: 1.28937e+08\n",
            "Training until validation scores don't improve for 200 rounds.\n",
            "[100]\tvalid_0's rmse: 11430.5\tvalid_0's l2: 1.30655e+08\n",
            "Did not meet early stopping. Best iteration is:\n",
            "[65]\tvalid_0's rmse: 11327.8\tvalid_0's l2: 1.2832e+08\n",
            "Training until validation scores don't improve for 200 rounds.\n",
            "[100]\tvalid_0's rmse: 15468.3\tvalid_0's l2: 2.39268e+08\n",
            "Did not meet early stopping. Best iteration is:\n",
            "[149]\tvalid_0's rmse: 14939.2\tvalid_0's l2: 2.23179e+08\n",
            "0.9698668973827409\n",
            "0.8750095335034737\n"
          ]
        }
      ]
    },
    {
      "cell_type": "markdown",
      "metadata": {
        "id": "rhpRIN9E4Ay8"
      },
      "source": [
        "GradientBoostingRegressor"
      ]
    },
    {
      "cell_type": "code",
      "metadata": {
        "colab": {
          "base_uri": "https://localhost:8080/"
        },
        "id": "3aNCOvQ4IY0H",
        "outputId": "6f71f50b-97e5-4603-9ee6-4e1c8b32da65"
      },
      "source": [
        "gbm = GradientBoostingRegressor(random_state = 42)\n",
        "rmse_list = []\n",
        "gb_pred = np.zeros((X_train.shape[0]))\n",
        "for tr_idx, val_idx in kf.split(X_train, y_train) :\n",
        "    tr_x, tr_y = X_train.iloc[tr_idx], y_train.iloc[tr_idx]\n",
        "    val_x, val_y = X_train.iloc[val_idx], y_train.iloc[val_idx]\n",
        "    \n",
        "    gbm.fit(tr_x, tr_y)\n",
        "    \n",
        "    pred = np.expm1([0 if x < 0 else x for x in gbm.predict(val_x)])\n",
        "print(gbm.score(X_train, y_train)) # train R2 score를 출력합니다.\n",
        "print(gbm.score(X_test, y_test)) # test R2 score를 출력합니다"
      ],
      "execution_count": 392,
      "outputs": [
        {
          "output_type": "stream",
          "name": "stdout",
          "text": [
            "0.9574598263519755\n",
            "0.8493613512328451\n"
          ]
        }
      ]
    },
    {
      "cell_type": "markdown",
      "metadata": {
        "id": "9phjBZXR2sHE"
      },
      "source": [
        "Average of two best model."
      ]
    },
    {
      "cell_type": "markdown",
      "metadata": {
        "id": "Uc5VNl1e4Ew6"
      },
      "source": [
        "- LGBM: \n",
        "- XGB: "
      ]
    },
    {
      "cell_type": "code",
      "metadata": {
        "id": "dJY7uLxGIsew"
      },
      "source": [
        "LGBM_test = model.predict(test)\n",
        "XGB_tst = xgb.predict(test)\n",
        "result=(XGB_tst+ LGBM_test)/2\n"
      ],
      "execution_count": 393,
      "outputs": []
    },
    {
      "cell_type": "code",
      "metadata": {
        "id": "rYJEWrDDT1hT"
      },
      "source": [
        "sample_submission['number_of_rentals'] = result\n",
        "sample_submission.to_csv('bicycle_final.csv',encoding='UTF-8',index=False)"
      ],
      "execution_count": 394,
      "outputs": []
    }
  ]
}