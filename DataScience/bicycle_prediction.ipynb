{
  "nbformat": 4,
  "nbformat_minor": 0,
  "metadata": {
    "colab": {
      "name": "따릉이.ipynb",
      "provenance": []
    },
    "kernelspec": {
      "name": "python3",
      "display_name": "Python 3"
    },
    "language_info": {
      "name": "python"
    }
  },
  "cells": [
    {
      "cell_type": "markdown",
      "metadata": {
        "id": "vRmOJ1x8wzme"
      },
      "source": [
        "## This dataset soure is from https://dacon.io/competitions/official/235837/data \n",
        "\n",
        "- This program is about predicting future rental numbers of bicycles at Seoul Korea.\n",
        "- It's just personal toy project for ML.\n",
        "\n",
        "\n"
      ]
    },
    {
      "cell_type": "code",
      "metadata": {
        "id": "p6HUvqLoRCl2"
      },
      "source": [
        "import pandas as pd\n",
        "import numpy as np\n",
        "import seaborn as sns\n",
        "import warnings\n",
        "import seaborn as sns\n",
        "\n",
        "warnings.filterwarnings(\"ignore\")\n",
        "\n",
        "train = pd.read_csv(\"/content/drive/MyDrive/open/따릉이/train.csv\")\n",
        "test = pd.read_csv('/content/drive/MyDrive/open/따릉이/test.csv')\n",
        "sample_submission = pd.read_csv('/content/drive/MyDrive/open/따릉이/sample_submission.csv')"
      ],
      "execution_count": 193,
      "outputs": []
    },
    {
      "cell_type": "markdown",
      "metadata": {
        "id": "Xectdcgi2hlz"
      },
      "source": [
        "<h3>EDA: See data composition and relationship first</h3>"
      ]
    },
    {
      "cell_type": "code",
      "metadata": {
        "colab": {
          "base_uri": "https://localhost:8080/",
          "height": 204
        },
        "id": "2tiWgKKjRM7_",
        "outputId": "bc4745bb-adba-4716-dcf8-e2e81a8bdd54"
      },
      "source": [
        "train.head()"
      ],
      "execution_count": 194,
      "outputs": [
        {
          "output_type": "execute_result",
          "data": {
            "text/html": [
              "<div>\n",
              "<style scoped>\n",
              "    .dataframe tbody tr th:only-of-type {\n",
              "        vertical-align: middle;\n",
              "    }\n",
              "\n",
              "    .dataframe tbody tr th {\n",
              "        vertical-align: top;\n",
              "    }\n",
              "\n",
              "    .dataframe thead th {\n",
              "        text-align: right;\n",
              "    }\n",
              "</style>\n",
              "<table border=\"1\" class=\"dataframe\">\n",
              "  <thead>\n",
              "    <tr style=\"text-align: right;\">\n",
              "      <th></th>\n",
              "      <th>date_time</th>\n",
              "      <th>wind_direction</th>\n",
              "      <th>sky_condition</th>\n",
              "      <th>precipitation_form</th>\n",
              "      <th>wind_speed</th>\n",
              "      <th>humidity</th>\n",
              "      <th>low_temp</th>\n",
              "      <th>high_temp</th>\n",
              "      <th>Precipitation_Probability</th>\n",
              "      <th>number_of_rentals</th>\n",
              "    </tr>\n",
              "  </thead>\n",
              "  <tbody>\n",
              "    <tr>\n",
              "      <th>0</th>\n",
              "      <td>2018-04-01</td>\n",
              "      <td>207.500</td>\n",
              "      <td>4.000</td>\n",
              "      <td>0.000</td>\n",
              "      <td>3.050</td>\n",
              "      <td>75.000</td>\n",
              "      <td>12.600</td>\n",
              "      <td>21.000</td>\n",
              "      <td>30.000</td>\n",
              "      <td>22994</td>\n",
              "    </tr>\n",
              "    <tr>\n",
              "      <th>1</th>\n",
              "      <td>2018-04-02</td>\n",
              "      <td>208.317</td>\n",
              "      <td>2.950</td>\n",
              "      <td>0.000</td>\n",
              "      <td>3.278</td>\n",
              "      <td>69.833</td>\n",
              "      <td>12.812</td>\n",
              "      <td>19.000</td>\n",
              "      <td>19.500</td>\n",
              "      <td>28139</td>\n",
              "    </tr>\n",
              "    <tr>\n",
              "      <th>2</th>\n",
              "      <td>2018-04-03</td>\n",
              "      <td>213.516</td>\n",
              "      <td>2.911</td>\n",
              "      <td>0.000</td>\n",
              "      <td>2.690</td>\n",
              "      <td>74.879</td>\n",
              "      <td>10.312</td>\n",
              "      <td>15.316</td>\n",
              "      <td>19.113</td>\n",
              "      <td>26817</td>\n",
              "    </tr>\n",
              "    <tr>\n",
              "      <th>3</th>\n",
              "      <td>2018-04-04</td>\n",
              "      <td>143.836</td>\n",
              "      <td>3.692</td>\n",
              "      <td>0.425</td>\n",
              "      <td>3.138</td>\n",
              "      <td>71.849</td>\n",
              "      <td>8.312</td>\n",
              "      <td>12.368</td>\n",
              "      <td>43.493</td>\n",
              "      <td>26034</td>\n",
              "    </tr>\n",
              "    <tr>\n",
              "      <th>4</th>\n",
              "      <td>2018-04-05</td>\n",
              "      <td>95.905</td>\n",
              "      <td>4.000</td>\n",
              "      <td>0.723</td>\n",
              "      <td>3.186</td>\n",
              "      <td>73.784</td>\n",
              "      <td>5.875</td>\n",
              "      <td>10.421</td>\n",
              "      <td>63.378</td>\n",
              "      <td>2833</td>\n",
              "    </tr>\n",
              "  </tbody>\n",
              "</table>\n",
              "</div>"
            ],
            "text/plain": [
              "    date_time  wind_direction  ...  Precipitation_Probability  number_of_rentals\n",
              "0  2018-04-01         207.500  ...                     30.000              22994\n",
              "1  2018-04-02         208.317  ...                     19.500              28139\n",
              "2  2018-04-03         213.516  ...                     19.113              26817\n",
              "3  2018-04-04         143.836  ...                     43.493              26034\n",
              "4  2018-04-05          95.905  ...                     63.378               2833\n",
              "\n",
              "[5 rows x 10 columns]"
            ]
          },
          "metadata": {},
          "execution_count": 194
        }
      ]
    },
    {
      "cell_type": "code",
      "metadata": {
        "colab": {
          "base_uri": "https://localhost:8080/"
        },
        "id": "BOUe1UAlRbja",
        "outputId": "434a6179-1b12-4bc7-8fd3-a1cbde082f01"
      },
      "source": [
        "train.info()"
      ],
      "execution_count": 195,
      "outputs": [
        {
          "output_type": "stream",
          "name": "stdout",
          "text": [
            "<class 'pandas.core.frame.DataFrame'>\n",
            "RangeIndex: 273 entries, 0 to 272\n",
            "Data columns (total 10 columns):\n",
            " #   Column                     Non-Null Count  Dtype  \n",
            "---  ------                     --------------  -----  \n",
            " 0   date_time                  273 non-null    object \n",
            " 1   wind_direction             273 non-null    float64\n",
            " 2   sky_condition              273 non-null    float64\n",
            " 3   precipitation_form         273 non-null    float64\n",
            " 4   wind_speed                 273 non-null    float64\n",
            " 5   humidity                   273 non-null    float64\n",
            " 6   low_temp                   273 non-null    float64\n",
            " 7   high_temp                  273 non-null    float64\n",
            " 8   Precipitation_Probability  273 non-null    float64\n",
            " 9   number_of_rentals          273 non-null    int64  \n",
            "dtypes: float64(8), int64(1), object(1)\n",
            "memory usage: 21.5+ KB\n"
          ]
        }
      ]
    },
    {
      "cell_type": "code",
      "metadata": {
        "colab": {
          "base_uri": "https://localhost:8080/",
          "height": 265
        },
        "id": "Gzkp5L1JR5NR",
        "outputId": "76762468-50e5-44f0-befa-02e5e621daa8"
      },
      "source": [
        "import matplotlib.pyplot as plt\n",
        "# 이상치 확인\n",
        "plt.figure(figsize=(6,4))\n",
        "plt.scatter(range(len(train)), np.sort(train['number_of_rentals'].values))\n",
        "plt.show()"
      ],
      "execution_count": 196,
      "outputs": [
        {
          "output_type": "display_data",
          "data": {
            "image/png": "[encoded data removed]",
            "text/plain": [
              "<Figure size 432x288 with 1 Axes>"
            ]
          },
          "metadata": {
            "needs_background": "light"
          }
        }
      ]
    },
    {
      "cell_type": "markdown",
      "metadata": {
        "id": "jVt0Dc8hyPs5"
      },
      "source": [
        "<h4> Date to 'year', 'month', 'day'</h4>"
      ]
    },
    {
      "cell_type": "code",
      "metadata": {
        "id": "97535ppPSPqV"
      },
      "source": [
        "train['date_time'] = pd.to_datetime(train['date_time'])\n",
        "test['date_time'] = pd.to_datetime(test['date_time'])\n",
        "\n",
        "train['day']=pd.DatetimeIndex(train['date_time']).day\n",
        "test['day']=pd.DatetimeIndex(test['date_time']).day\n",
        "\n",
        "train['month']=pd.DatetimeIndex(train['date_time']).month\n",
        "test['month']=pd.DatetimeIndex(test['date_time']).month\n",
        "\n",
        "train['year']=pd.DatetimeIndex(train['date_time']).year\n",
        "test['year']=pd.DatetimeIndex(test['date_time']).year\n",
        "\n",
        "train['weekday']=pd.DatetimeIndex(train['date_time']).weekday\n",
        "test['weekday']=pd.DatetimeIndex(test['date_time']).weekday"
      ],
      "execution_count": 197,
      "outputs": []
    },
    {
      "cell_type": "markdown",
      "metadata": {
        "id": "3v_yPb69ylWp"
      },
      "source": [
        "- Check the heatmap first for feature engineering.\n"
      ]
    },
    {
      "cell_type": "code",
      "metadata": {
        "colab": {
          "base_uri": "https://localhost:8080/",
          "height": 714
        },
        "id": "touVLnIYZCrB",
        "outputId": "27b4359e-0925-47ec-c192-d681ead1b1f4"
      },
      "source": [
        "# Over 60% correlation maybe smae kind of features\n",
        "b_num = train.select_dtypes(np.number)\n",
        "corr = b_num.corr()\n",
        "plt.figure(figsize=(20, 10))\n",
        "ax = sns.heatmap(\n",
        "    corr, \n",
        "    vmin=-1, vmax=1, center=0,\n",
        "    cmap=sns.diverging_palette(20, 220, n=200),\n",
        "    square=True,\n",
        "    annot=True\n",
        ")\n",
        "\n",
        "ax.set_xticklabels(\n",
        "    ax.get_xticklabels(),\n",
        "    rotation=45,\n",
        "    horizontalalignment='right'\n",
        ")\n",
        "\n",
        "plt.title('Correlation heatmap', fontsize=40)\n",
        "plt.show()"
      ],
      "execution_count": 198,
      "outputs": [
        {
          "output_type": "display_data",
          "data": {
            "image/png": "[encoded data removed]",
            "text/plain": [
              "<Figure size 1440x720 with 2 Axes>"
            ]
          },
          "metadata": {
            "needs_background": "light"
          }
        }
      ]
    },
    {
      "cell_type": "markdown",
      "metadata": {
        "id": "q_-OUqRR3jmZ"
      },
      "source": [
        "- Check the same kind of features to reduce them."
      ]
    },
    {
      "cell_type": "code",
      "metadata": {
        "colab": {
          "base_uri": "https://localhost:8080/"
        },
        "id": "tsYh-pJGSjx3",
        "outputId": "b42b58df-ef80-43d9-d0d8-b1d501b8ac7e"
      },
      "source": [
        "print(train['humidity'].corr(train['sky_condition']))\n",
        "print(train['precipitation_form'].corr(train['Precipitation_Probability']))"
      ],
      "execution_count": 199,
      "outputs": [
        {
          "output_type": "stream",
          "name": "stdout",
          "text": [
            "0.6513205647712357\n",
            "0.9106089542607185\n"
          ]
        }
      ]
    },
    {
      "cell_type": "code",
      "metadata": {
        "colab": {
          "base_uri": "https://localhost:8080/"
        },
        "id": "yGeMzz3sSzqm",
        "outputId": "ea35e18f-4f9c-423c-e6db-c20c2ef970ac"
      },
      "source": [
        "train['precipitation_form'].corr(train['sky_condition'])"
      ],
      "execution_count": 200,
      "outputs": [
        {
          "output_type": "execute_result",
          "data": {
            "text/plain": [
              "0.6738137525457335"
            ]
          },
          "metadata": {},
          "execution_count": 200
        }
      ]
    },
    {
      "cell_type": "markdown",
      "metadata": {
        "id": "53VWBJIB06cf"
      },
      "source": [
        "To check relation between Precipitation_Probability and  number_of_rentals"
      ]
    },
    {
      "cell_type": "code",
      "metadata": {
        "id": "eEwOyVbEbR9Z"
      },
      "source": [
        "labels = np.arange(0, 101, 20)\n",
        "Precipitation_Probability_seg = pd.Series(list(pd.cut(train['Precipitation_Probability'], 6, labels=labels)), name='Precipitation_Probability_seg')\n",
        "train = pd.concat([train, Precipitation_Probability_seg], axis=1)"
      ],
      "execution_count": 201,
      "outputs": []
    },
    {
      "cell_type": "code",
      "metadata": {
        "id": "d9khWq3T6lds"
      },
      "source": [
        "Precipitation_Probability_seg = pd.Series(list(pd.cut(test['Precipitation_Probability'], 6, labels=labels)), name='Precipitation_Probability_seg')\n",
        "test = pd.concat([test, Precipitation_Probability_seg], axis=1)"
      ],
      "execution_count": 202,
      "outputs": []
    },
    {
      "cell_type": "code",
      "metadata": {
        "colab": {
          "base_uri": "https://localhost:8080/",
          "height": 235
        },
        "id": "LnXJd7I-aEBe",
        "outputId": "62b8d16a-d1d5-4bfa-c49b-e6b7cbab3166"
      },
      "source": [
        "# By change of precipitation probability number of rentals change\n",
        "train[[\"Precipitation_Probability_seg\", \"number_of_rentals\"]].groupby(['Precipitation_Probability_seg'], as_index=False).mean().sort_values(by='number_of_rentals', ascending=False)\n"
      ],
      "execution_count": 203,
      "outputs": [
        {
          "output_type": "execute_result",
          "data": {
            "text/html": [
              "<div>\n",
              "<style scoped>\n",
              "    .dataframe tbody tr th:only-of-type {\n",
              "        vertical-align: middle;\n",
              "    }\n",
              "\n",
              "    .dataframe tbody tr th {\n",
              "        vertical-align: top;\n",
              "    }\n",
              "\n",
              "    .dataframe thead th {\n",
              "        text-align: right;\n",
              "    }\n",
              "</style>\n",
              "<table border=\"1\" class=\"dataframe\">\n",
              "  <thead>\n",
              "    <tr style=\"text-align: right;\">\n",
              "      <th></th>\n",
              "      <th>Precipitation_Probability_seg</th>\n",
              "      <th>number_of_rentals</th>\n",
              "    </tr>\n",
              "  </thead>\n",
              "  <tbody>\n",
              "    <tr>\n",
              "      <th>0</th>\n",
              "      <td>0</td>\n",
              "      <td>67687.374150</td>\n",
              "    </tr>\n",
              "    <tr>\n",
              "      <th>1</th>\n",
              "      <td>20</td>\n",
              "      <td>57625.728571</td>\n",
              "    </tr>\n",
              "    <tr>\n",
              "      <th>2</th>\n",
              "      <td>40</td>\n",
              "      <td>55041.607143</td>\n",
              "    </tr>\n",
              "    <tr>\n",
              "      <th>3</th>\n",
              "      <td>60</td>\n",
              "      <td>34089.500000</td>\n",
              "    </tr>\n",
              "    <tr>\n",
              "      <th>4</th>\n",
              "      <td>80</td>\n",
              "      <td>16129.857143</td>\n",
              "    </tr>\n",
              "    <tr>\n",
              "      <th>5</th>\n",
              "      <td>100</td>\n",
              "      <td>4146.333333</td>\n",
              "    </tr>\n",
              "  </tbody>\n",
              "</table>\n",
              "</div>"
            ],
            "text/plain": [
              "   Precipitation_Probability_seg  number_of_rentals\n",
              "0                              0       67687.374150\n",
              "1                             20       57625.728571\n",
              "2                             40       55041.607143\n",
              "3                             60       34089.500000\n",
              "4                             80       16129.857143\n",
              "5                            100        4146.333333"
            ]
          },
          "metadata": {},
          "execution_count": 203
        }
      ]
    },
    {
      "cell_type": "markdown",
      "metadata": {
        "id": "VylO7rJ44OTW"
      },
      "source": [
        "<h2>Visulazation</h2>\n",
        "- Visualazation is important find insight\n",
        "- Build function to check easily"
      ]
    },
    {
      "cell_type": "code",
      "metadata": {
        "id": "xpDF8oxdTBPC"
      },
      "source": [
        "def visual_bar(feature):\n",
        "    plot = train.groupby(feature)['number_of_rentals'].mean()\n",
        "    sns.barplot(plot.index,plot.values)"
      ],
      "execution_count": 204,
      "outputs": []
    },
    {
      "cell_type": "code",
      "metadata": {
        "colab": {
          "base_uri": "https://localhost:8080/",
          "height": 281
        },
        "id": "x7HN76Lje6dU",
        "outputId": "199d089a-65f0-4d35-b47d-d23a2a603755"
      },
      "source": [
        "visual_bar('Precipitation_Probability_seg')"
      ],
      "execution_count": 205,
      "outputs": [
        {
          "output_type": "display_data",
          "data": {
            "image/png": "[encoded data removed]",
            "text/plain": [
              "<Figure size 432x288 with 1 Axes>"
            ]
          },
          "metadata": {
            "needs_background": "light"
          }
        }
      ]
    },
    {
      "cell_type": "code",
      "metadata": {
        "colab": {
          "base_uri": "https://localhost:8080/",
          "height": 279
        },
        "id": "7VfYUzEe4wEI",
        "outputId": "16855488-589f-43ca-b9c5-f63ff0c359d6"
      },
      "source": [
        "visual_bar('year')"
      ],
      "execution_count": 206,
      "outputs": [
        {
          "output_type": "display_data",
          "data": {
            "image/png": "[encoded data removed]",
            "text/plain": [
              "<Figure size 432x288 with 1 Axes>"
            ]
          },
          "metadata": {
            "needs_background": "light"
          }
        }
      ]
    },
    {
      "cell_type": "code",
      "metadata": {
        "colab": {
          "base_uri": "https://localhost:8080/",
          "height": 279
        },
        "id": "ShXJnP4-TaSe",
        "outputId": "684b8e5d-7f66-4352-c0d1-91ab49f273e4"
      },
      "source": [
        "visual_bar('weekday')"
      ],
      "execution_count": 207,
      "outputs": [
        {
          "output_type": "display_data",
          "data": {
            "image/png": "[encoded data removed]",
            "text/plain": [
              "<Figure size 432x288 with 1 Axes>"
            ]
          },
          "metadata": {
            "needs_background": "light"
          }
        }
      ]
    },
    {
      "cell_type": "code",
      "metadata": {
        "colab": {
          "base_uri": "https://localhost:8080/",
          "height": 279
        },
        "id": "7lnBKKPTfjNW",
        "outputId": "889fe00f-ea57-4178-de67-e9ca8d33c477"
      },
      "source": [
        "visual_bar('month')"
      ],
      "execution_count": 208,
      "outputs": [
        {
          "output_type": "display_data",
          "data": {
            "image/png": "[encoded data removed]",
            "text/plain": [
              "<Figure size 432x288 with 1 Axes>"
            ]
          },
          "metadata": {
            "needs_background": "light"
          }
        }
      ]
    },
    {
      "cell_type": "markdown",
      "metadata": {
        "id": "vxKC6XZC1OK5"
      },
      "source": [
        "- Create new variables for better prediction.\n",
        "- Using tempeture features and temperature and humidity."
      ]
    },
    {
      "cell_type": "code",
      "metadata": {
        "id": "ZfXfz0C5jI_2"
      },
      "source": [
        "# train data\n",
        "# add new variable\n",
        "train['Temperature'] = (train['low_temp'] + train['high_temp'])/2\n",
        "train['discomfort_index'] = (9/5)*train['Temperature']-0.55*((1-train['humidity']/100))*((9/5)*train['Temperature']-26)+32\n",
        "\n",
        "# grouping\n",
        "train.loc[train['Precipitation_Probability'] <40, 'Precipitation_Probability'] = 0\n",
        "train.loc[train['Precipitation_Probability'] >=40, 'Precipitation_Probability'] = 1\n",
        "\n",
        "train.reset_index(drop = True, inplace = True)\n",
        "train.reset_index(drop = True, inplace = True)\n",
        "\n",
        "# test data\n",
        "test['Temperature'] = (test['low_temp'] + test['high_temp'])/2\n",
        "test['discomfort_index'] = (5/9)*test['Temperature']-0.55*((100-test['humidity'])/100)*((5/9)*test['Temperature']-26)+32\n",
        "\n",
        "test.loc[test['Precipitation_Probability'] <40, 'Precipitation_Probability'] = 0\n",
        "test.loc[test['Precipitation_Probability'] >=40, 'Precipitation_Probability'] = 1\n",
        "\n",
        "test.reset_index(drop = True, inplace = True)\n",
        "test.reset_index(drop = True, inplace = True)"
      ],
      "execution_count": 209,
      "outputs": []
    },
    {
      "cell_type": "code",
      "metadata": {
        "id": "3Aa8xtOfTwN-"
      },
      "source": [
        "train.drop(['date_time','wind_direction', 'humidity', 'Precipitation_Probability_seg','low_temp', 'high_temp', 'precipitation_form', 'day'], axis = 1, inplace= True)\n",
        "test.drop(['date_time','wind_direction', 'humidity', 'low_temp', 'high_temp', 'precipitation_form', 'day', 'Precipitation_Probability_seg'], axis = 1, inplace= True)"
      ],
      "execution_count": 210,
      "outputs": []
    },
    {
      "cell_type": "code",
      "metadata": {
        "colab": {
          "base_uri": "https://localhost:8080/",
          "height": 204
        },
        "id": "qSITXvVlO-AT",
        "outputId": "5ca58429-f162-47c4-e6aa-ab41e313064c"
      },
      "source": [
        "train.head()"
      ],
      "execution_count": 211,
      "outputs": [
        {
          "output_type": "execute_result",
          "data": {
            "text/html": [
              "<div>\n",
              "<style scoped>\n",
              "    .dataframe tbody tr th:only-of-type {\n",
              "        vertical-align: middle;\n",
              "    }\n",
              "\n",
              "    .dataframe tbody tr th {\n",
              "        vertical-align: top;\n",
              "    }\n",
              "\n",
              "    .dataframe thead th {\n",
              "        text-align: right;\n",
              "    }\n",
              "</style>\n",
              "<table border=\"1\" class=\"dataframe\">\n",
              "  <thead>\n",
              "    <tr style=\"text-align: right;\">\n",
              "      <th></th>\n",
              "      <th>sky_condition</th>\n",
              "      <th>wind_speed</th>\n",
              "      <th>Precipitation_Probability</th>\n",
              "      <th>number_of_rentals</th>\n",
              "      <th>month</th>\n",
              "      <th>year</th>\n",
              "      <th>weekday</th>\n",
              "      <th>Temperature</th>\n",
              "      <th>discomfort_index</th>\n",
              "    </tr>\n",
              "  </thead>\n",
              "  <tbody>\n",
              "    <tr>\n",
              "      <th>0</th>\n",
              "      <td>4.000</td>\n",
              "      <td>3.050</td>\n",
              "      <td>0.0</td>\n",
              "      <td>22994</td>\n",
              "      <td>4</td>\n",
              "      <td>2018</td>\n",
              "      <td>6</td>\n",
              "      <td>16.800</td>\n",
              "      <td>61.657000</td>\n",
              "    </tr>\n",
              "    <tr>\n",
              "      <th>1</th>\n",
              "      <td>2.950</td>\n",
              "      <td>3.278</td>\n",
              "      <td>0.0</td>\n",
              "      <td>28139</td>\n",
              "      <td>4</td>\n",
              "      <td>2018</td>\n",
              "      <td>0</td>\n",
              "      <td>15.906</td>\n",
              "      <td>60.194302</td>\n",
              "    </tr>\n",
              "    <tr>\n",
              "      <th>2</th>\n",
              "      <td>2.911</td>\n",
              "      <td>2.690</td>\n",
              "      <td>0.0</td>\n",
              "      <td>26817</td>\n",
              "      <td>4</td>\n",
              "      <td>2018</td>\n",
              "      <td>1</td>\n",
              "      <td>12.814</td>\n",
              "      <td>55.470688</td>\n",
              "    </tr>\n",
              "    <tr>\n",
              "      <th>3</th>\n",
              "      <td>3.692</td>\n",
              "      <td>3.138</td>\n",
              "      <td>1.0</td>\n",
              "      <td>26034</td>\n",
              "      <td>4</td>\n",
              "      <td>2018</td>\n",
              "      <td>2</td>\n",
              "      <td>10.340</td>\n",
              "      <td>51.755888</td>\n",
              "    </tr>\n",
              "    <tr>\n",
              "      <th>4</th>\n",
              "      <td>4.000</td>\n",
              "      <td>3.186</td>\n",
              "      <td>1.0</td>\n",
              "      <td>2833</td>\n",
              "      <td>4</td>\n",
              "      <td>2018</td>\n",
              "      <td>3</td>\n",
              "      <td>8.148</td>\n",
              "      <td>48.300569</td>\n",
              "    </tr>\n",
              "  </tbody>\n",
              "</table>\n",
              "</div>"
            ],
            "text/plain": [
              "   sky_condition  wind_speed  ...  Temperature  discomfort_index\n",
              "0          4.000       3.050  ...       16.800         61.657000\n",
              "1          2.950       3.278  ...       15.906         60.194302\n",
              "2          2.911       2.690  ...       12.814         55.470688\n",
              "3          3.692       3.138  ...       10.340         51.755888\n",
              "4          4.000       3.186  ...        8.148         48.300569\n",
              "\n",
              "[5 rows x 9 columns]"
            ]
          },
          "metadata": {},
          "execution_count": 211
        }
      ]
    },
    {
      "cell_type": "markdown",
      "metadata": {
        "id": "deylPp5S3UWm"
      },
      "source": [
        "<h3> Feature extraction </h3>\n",
        " Check the bset corrleated features over 0.3"
      ]
    },
    {
      "cell_type": "code",
      "metadata": {
        "colab": {
          "base_uri": "https://localhost:8080/",
          "height": 777
        },
        "id": "bZ_6xLnphTvp",
        "outputId": "1de1275d-4784-452b-e448-643a86c5ff48"
      },
      "source": [
        "cor = train.corr()\n",
        "top_feature = cor.index[abs(cor['number_of_rentals']) >= 0.3]\n",
        "print(top_feature)\n",
        "top_corr = train[top_feature].corr()\n",
        "plt.figure(figsize=(15,10))\n",
        "sns.heatmap(top_corr, annot=True)\n",
        "plt.xticks(rotation=90)\n",
        "plt.show()"
      ],
      "execution_count": 212,
      "outputs": [
        {
          "output_type": "stream",
          "name": "stdout",
          "text": [
            "Index(['sky_condition', 'wind_speed', 'Precipitation_Probability',\n",
            "       'number_of_rentals', 'month', 'year', 'Temperature',\n",
            "       'discomfort_index'],\n",
            "      dtype='object')\n"
          ]
        },
        {
          "output_type": "display_data",
          "data": {
            "image/png": "[encoded data removed]",
            "text/plain": [
              "<Figure size 1080x720 with 2 Axes>"
            ]
          },
          "metadata": {
            "needs_background": "light"
          }
        }
      ]
    },
    {
      "cell_type": "markdown",
      "metadata": {
        "id": "4PqFKMx16jd3"
      },
      "source": [
        "Import ML libraries"
      ]
    },
    {
      "cell_type": "code",
      "metadata": {
        "id": "3xfqvI0rrZup"
      },
      "source": [
        "import math\n",
        "from sklearn.preprocessing import StandardScaler\n",
        "from sklearn.model_selection import train_test_split, GridSearchCV\n",
        "from sklearn.ensemble import RandomForestRegressor\n",
        "from sklearn.linear_model import LogisticRegression\n",
        "from sklearn.metrics import roc_auc_score ,roc_curve, f1_score, accuracy_score, mean_absolute_error, r2_score\n",
        "from sklearn.compose import ColumnTransformer\n",
        "from xgboost import XGBRegressor\n",
        "from sklearn.neighbors import KNeighborsClassifier\n",
        "from sklearn.svm import SVC\n",
        "from sklearn.neural_network import MLPClassifier\n",
        "from sklearn.ensemble import RandomForestClassifier\n",
        "from sklearn.model_selection import KFold\n",
        "from sklearn.metrics import mean_squared_error\n",
        "from sklearn.ensemble import GradientBoostingRegressor, RandomForestRegressor\n",
        "from sklearn.metrics import accuracy_score, recall_score, precision_score\n",
        "from lightgbm import LGBMRegressor"
      ],
      "execution_count": 213,
      "outputs": []
    },
    {
      "cell_type": "markdown",
      "metadata": {
        "id": "lHr_jrQs3hF0"
      },
      "source": [
        "- new_df is the top feature dataset\n",
        "- test dataset also changed"
      ]
    },
    {
      "cell_type": "code",
      "metadata": {
        "id": "ilWrMmFdkbGY"
      },
      "source": [
        "new_df=train[top_feature]"
      ],
      "execution_count": 214,
      "outputs": []
    },
    {
      "cell_type": "code",
      "metadata": {
        "colab": {
          "base_uri": "https://localhost:8080/"
        },
        "id": "S6md52k059CW",
        "outputId": "bc4e6c0f-5acf-415e-e4fa-5c0a367750ac"
      },
      "source": [
        "print(test.columns)\n",
        "print(new_df.columns)"
      ],
      "execution_count": 215,
      "outputs": [
        {
          "output_type": "stream",
          "name": "stdout",
          "text": [
            "Index(['sky_condition', 'wind_speed', 'Precipitation_Probability', 'month',\n",
            "       'year', 'weekday', 'Temperature', 'discomfort_index'],\n",
            "      dtype='object')\n",
            "Index(['sky_condition', 'wind_speed', 'Precipitation_Probability',\n",
            "       'number_of_rentals', 'month', 'year', 'Temperature',\n",
            "       'discomfort_index'],\n",
            "      dtype='object')\n"
          ]
        }
      ]
    },
    {
      "cell_type": "code",
      "metadata": {
        "id": "rSburf5nqGJo"
      },
      "source": [
        "test=test[['sky_condition', 'wind_speed', 'Precipitation_Probability' ,'month', 'year',\n",
        "           'Temperature', 'discomfort_index']]"
      ],
      "execution_count": 216,
      "outputs": []
    },
    {
      "cell_type": "markdown",
      "metadata": {
        "id": "K5oFRNRI6qB0"
      },
      "source": [
        "Split two dataset one for train and one for validation"
      ]
    },
    {
      "cell_type": "code",
      "metadata": {
        "id": "7BoUNZETmNy7"
      },
      "source": [
        "X = new_df.drop('number_of_rentals', axis=1)\n",
        "y = new_df['number_of_rentals']\n",
        "X_train, X_test, y_train, y_test = train_test_split(X,y, test_size = 0.2, random_state=42)\n"
      ],
      "execution_count": 217,
      "outputs": []
    },
    {
      "cell_type": "markdown",
      "metadata": {
        "id": "tbHOgWZt60HM"
      },
      "source": [
        "Just in case fill NAN data into mean"
      ]
    },
    {
      "cell_type": "code",
      "metadata": {
        "id": "0sF5xiu8r8wY"
      },
      "source": [
        "X_test=X_test.fillna(X_test.mean())\n",
        "y_test=y_test.fillna(y_test.mean())"
      ],
      "execution_count": 218,
      "outputs": []
    },
    {
      "cell_type": "markdown",
      "metadata": {
        "id": "YLBBi6W43tzk"
      },
      "source": [
        "Randomforest Regrssor"
      ]
    },
    {
      "cell_type": "code",
      "metadata": {
        "colab": {
          "base_uri": "https://localhost:8080/"
        },
        "id": "Mmp2z9alrjPv",
        "outputId": "0eab73ab-06aa-44ea-efd2-d9a84e7d10a9"
      },
      "source": [
        "rmse_list = []\n",
        "kf = KFold(n_splits =  10, shuffle = True, random_state = 42)\n",
        "for tr_idx, val_idx in kf.split(X_train, y_train) :\n",
        "    rf = RandomForestRegressor(n_estimators = 150,random_state = 518)\n",
        "    tr_x, tr_y = X_train.iloc[tr_idx], y_train.iloc[tr_idx]\n",
        "    val_x, val_y = X_train.iloc[val_idx], y_train.iloc[val_idx]\n",
        "    rf.fit(tr_x, tr_y)\n",
        "    \n",
        "    pred = np.expm1([0 if x < 0 else x for x in rf.predict(val_x)])\n",
        "\n",
        "print(rf.score(X_train, y_train)) # train R2 score\n",
        "print(rf.score(X_test, y_test)) # test R2 score"
      ],
      "execution_count": 219,
      "outputs": [
        {
          "output_type": "stream",
          "name": "stdout",
          "text": [
            "0.9509655336315046\n",
            "0.829874090149964\n"
          ]
        }
      ]
    },
    {
      "cell_type": "markdown",
      "metadata": {
        "id": "d90BcAud6_Oj"
      },
      "source": [
        "Show validation result"
      ]
    },
    {
      "cell_type": "code",
      "metadata": {
        "colab": {
          "base_uri": "https://localhost:8080/",
          "height": 221
        },
        "id": "LQpT6oos0tV4",
        "outputId": "556e152f-a823-4497-90f3-16e7c1883573"
      },
      "source": [
        "print('Test result')\n",
        "rf_test  = rf.predict(X_test)\n",
        "test_data=y_test\n",
        "compare_rf_test={'test_data':test_data, 'rf_test':rf_test}\n",
        "compare_rf_test=pd.DataFrame(compare_rf_test)\n",
        "compare_rf_test.head()"
      ],
      "execution_count": 220,
      "outputs": [
        {
          "output_type": "stream",
          "name": "stdout",
          "text": [
            "Test result\n"
          ]
        },
        {
          "output_type": "execute_result",
          "data": {
            "text/html": [
              "<div>\n",
              "<style scoped>\n",
              "    .dataframe tbody tr th:only-of-type {\n",
              "        vertical-align: middle;\n",
              "    }\n",
              "\n",
              "    .dataframe tbody tr th {\n",
              "        vertical-align: top;\n",
              "    }\n",
              "\n",
              "    .dataframe thead th {\n",
              "        text-align: right;\n",
              "    }\n",
              "</style>\n",
              "<table border=\"1\" class=\"dataframe\">\n",
              "  <thead>\n",
              "    <tr style=\"text-align: right;\">\n",
              "      <th></th>\n",
              "      <th>test_data</th>\n",
              "      <th>rf_test</th>\n",
              "    </tr>\n",
              "  </thead>\n",
              "  <tbody>\n",
              "    <tr>\n",
              "      <th>30</th>\n",
              "      <td>34593</td>\n",
              "      <td>17478.506667</td>\n",
              "    </tr>\n",
              "    <tr>\n",
              "      <th>117</th>\n",
              "      <td>65124</td>\n",
              "      <td>57448.893333</td>\n",
              "    </tr>\n",
              "    <tr>\n",
              "      <th>79</th>\n",
              "      <td>47296</td>\n",
              "      <td>43812.913333</td>\n",
              "    </tr>\n",
              "    <tr>\n",
              "      <th>212</th>\n",
              "      <td>93249</td>\n",
              "      <td>94909.200000</td>\n",
              "    </tr>\n",
              "    <tr>\n",
              "      <th>213</th>\n",
              "      <td>88508</td>\n",
              "      <td>89497.393333</td>\n",
              "    </tr>\n",
              "  </tbody>\n",
              "</table>\n",
              "</div>"
            ],
            "text/plain": [
              "     test_data       rf_test\n",
              "30       34593  17478.506667\n",
              "117      65124  57448.893333\n",
              "79       47296  43812.913333\n",
              "212      93249  94909.200000\n",
              "213      88508  89497.393333"
            ]
          },
          "metadata": {},
          "execution_count": 220
        }
      ]
    },
    {
      "cell_type": "markdown",
      "metadata": {
        "id": "tPWqDpC9368W"
      },
      "source": [
        "**XGBRegressor**"
      ]
    },
    {
      "cell_type": "code",
      "metadata": {
        "colab": {
          "base_uri": "https://localhost:8080/"
        },
        "id": "DavE3oKMFkrc",
        "outputId": "7e418417-d8cf-4446-e7dd-bf988d4df3ca"
      },
      "source": [
        "kf = KFold(n_splits =  10, shuffle = True, random_state = 42)\n",
        "rmse_list = []\n",
        "# xgb = XGBRegressor(random_state = 518)\n",
        "xgb = XGBRegressor(colsample_bytree=0.4603, gamma=0.0468, \n",
        "                             learning_rate=0.05, max_depth=8, \n",
        "                             min_child_weight=1.7817, n_estimators=200,\n",
        "                             reg_alpha=1, reg_lambda=1,\n",
        "                             subsample=0.5213, silent=1,\n",
        "                             random_state =7, nthread = -1)\n",
        "\n",
        "for tr_idx, val_idx in kf.split(X_train, y_train) :\n",
        "    tr_x, tr_y = X_train.iloc[tr_idx], y_train.iloc[tr_idx]\n",
        "    val_x, val_y = X_train.iloc[val_idx], y_train.iloc[val_idx]\n",
        "    \n",
        "    xgb.fit(tr_x, tr_y)\n",
        "    \n",
        "    pred = np.expm1([0 if x < 0 else x for x in xgb.predict(val_x)])\n",
        "print(xgb.score(X_train, y_train)) # train R2 score를 출력합니다.\n",
        "print(xgb.score(X_test, y_test)) # test R2 score를 출력합니다"
      ],
      "execution_count": 221,
      "outputs": [
        {
          "output_type": "stream",
          "name": "stdout",
          "text": [
            "0.9697166951733752\n",
            "0.8680902622631178\n"
          ]
        }
      ]
    },
    {
      "cell_type": "code",
      "metadata": {
        "colab": {
          "base_uri": "https://localhost:8080/",
          "height": 221
        },
        "id": "9px6oqDNG2Wo",
        "outputId": "30fee88f-318b-4561-e7e1-09110c5f8dd5"
      },
      "source": [
        "print('test')\n",
        "xgb_test  = xgb.predict(X_test)\n",
        "test_data=y_test\n",
        "compare_xgb_test={'test_data':test_data, 'xgb_test':rf_test}\n",
        "compare_xgb_test=pd.DataFrame(compare_xgb_test)\n",
        "compare_xgb_test.head()"
      ],
      "execution_count": 222,
      "outputs": [
        {
          "output_type": "stream",
          "name": "stdout",
          "text": [
            "test\n"
          ]
        },
        {
          "output_type": "execute_result",
          "data": {
            "text/html": [
              "<div>\n",
              "<style scoped>\n",
              "    .dataframe tbody tr th:only-of-type {\n",
              "        vertical-align: middle;\n",
              "    }\n",
              "\n",
              "    .dataframe tbody tr th {\n",
              "        vertical-align: top;\n",
              "    }\n",
              "\n",
              "    .dataframe thead th {\n",
              "        text-align: right;\n",
              "    }\n",
              "</style>\n",
              "<table border=\"1\" class=\"dataframe\">\n",
              "  <thead>\n",
              "    <tr style=\"text-align: right;\">\n",
              "      <th></th>\n",
              "      <th>test_data</th>\n",
              "      <th>xgb_test</th>\n",
              "    </tr>\n",
              "  </thead>\n",
              "  <tbody>\n",
              "    <tr>\n",
              "      <th>30</th>\n",
              "      <td>34593</td>\n",
              "      <td>17478.506667</td>\n",
              "    </tr>\n",
              "    <tr>\n",
              "      <th>117</th>\n",
              "      <td>65124</td>\n",
              "      <td>57448.893333</td>\n",
              "    </tr>\n",
              "    <tr>\n",
              "      <th>79</th>\n",
              "      <td>47296</td>\n",
              "      <td>43812.913333</td>\n",
              "    </tr>\n",
              "    <tr>\n",
              "      <th>212</th>\n",
              "      <td>93249</td>\n",
              "      <td>94909.200000</td>\n",
              "    </tr>\n",
              "    <tr>\n",
              "      <th>213</th>\n",
              "      <td>88508</td>\n",
              "      <td>89497.393333</td>\n",
              "    </tr>\n",
              "  </tbody>\n",
              "</table>\n",
              "</div>"
            ],
            "text/plain": [
              "     test_data      xgb_test\n",
              "30       34593  17478.506667\n",
              "117      65124  57448.893333\n",
              "79       47296  43812.913333\n",
              "212      93249  94909.200000\n",
              "213      88508  89497.393333"
            ]
          },
          "metadata": {},
          "execution_count": 222
        }
      ]
    },
    {
      "cell_type": "markdown",
      "metadata": {
        "id": "qpkvVGgG39gJ"
      },
      "source": [
        "LGBMRegressor"
      ]
    },
    {
      "cell_type": "code",
      "metadata": {
        "colab": {
          "base_uri": "https://localhost:8080/"
        },
        "id": "SkvcY9XJHiJ_",
        "outputId": "a257945f-6736-46a4-a6fe-a10dc17326d2"
      },
      "source": [
        "kf = KFold(n_splits =  10, shuffle = True, random_state = 42)\n",
        "rmse_list = []\n",
        "models = []\n",
        "\n",
        "model = LGBMRegressor(objective= \"regression\",\n",
        "                      max_depth= 10,\n",
        "                      n_estimators= 150,\n",
        "                      learning_rate= 0.05,\n",
        "                      num_leaves = 30)\n",
        "lgmbr_pred = np.zeros((X_train.shape[0]))\n",
        "for tr_idx, val_idx in kf.split(X_train, y_train) :\n",
        "    tr_x, tr_y = X_train.iloc[tr_idx], y_train.iloc[tr_idx]\n",
        "    val_x, val_y = X_train.iloc[val_idx], y_train.iloc[val_idx]\n",
        "\n",
        "    \n",
        "    model.fit(tr_x, tr_y,\n",
        "              eval_set=[(val_x, val_y)],\n",
        "              eval_metric=[\"rmse\"],\n",
        "              early_stopping_rounds=200,\n",
        "              verbose=100)\n",
        "    \n",
        "    pred = np.expm1([0 if x < 0 else x for x in model.predict(val_x)])\n",
        "print(xgb.score(X_train, y_train)) # train R2 \n",
        "print(xgb.score(X_test, y_test)) # test R2"
      ],
      "execution_count": 223,
      "outputs": [
        {
          "output_type": "stream",
          "name": "stdout",
          "text": [
            "Training until validation scores don't improve for 200 rounds.\n",
            "[100]\tvalid_0's rmse: 9186.89\tvalid_0's l2: 8.4399e+07\n",
            "Did not meet early stopping. Best iteration is:\n",
            "[140]\tvalid_0's rmse: 9057.7\tvalid_0's l2: 8.20419e+07\n",
            "Training until validation scores don't improve for 200 rounds.\n",
            "[100]\tvalid_0's rmse: 10009.8\tvalid_0's l2: 1.00197e+08\n",
            "Did not meet early stopping. Best iteration is:\n",
            "[48]\tvalid_0's rmse: 8635.42\tvalid_0's l2: 7.45706e+07\n",
            "Training until validation scores don't improve for 200 rounds.\n",
            "[100]\tvalid_0's rmse: 5701.64\tvalid_0's l2: 3.25087e+07\n",
            "Did not meet early stopping. Best iteration is:\n",
            "[128]\tvalid_0's rmse: 5634.75\tvalid_0's l2: 3.17504e+07\n",
            "Training until validation scores don't improve for 200 rounds.\n",
            "[100]\tvalid_0's rmse: 9709.65\tvalid_0's l2: 9.42773e+07\n",
            "Did not meet early stopping. Best iteration is:\n",
            "[86]\tvalid_0's rmse: 9620.74\tvalid_0's l2: 9.25587e+07\n",
            "Training until validation scores don't improve for 200 rounds.\n",
            "[100]\tvalid_0's rmse: 11292.4\tvalid_0's l2: 1.27519e+08\n",
            "Did not meet early stopping. Best iteration is:\n",
            "[137]\tvalid_0's rmse: 11111.9\tvalid_0's l2: 1.23474e+08\n",
            "Training until validation scores don't improve for 200 rounds.\n",
            "[100]\tvalid_0's rmse: 7082.53\tvalid_0's l2: 5.01622e+07\n",
            "Did not meet early stopping. Best iteration is:\n",
            "[100]\tvalid_0's rmse: 7082.53\tvalid_0's l2: 5.01622e+07\n",
            "Training until validation scores don't improve for 200 rounds.\n",
            "[100]\tvalid_0's rmse: 18199\tvalid_0's l2: 3.31205e+08\n",
            "Did not meet early stopping. Best iteration is:\n",
            "[41]\tvalid_0's rmse: 17504.9\tvalid_0's l2: 3.06422e+08\n",
            "Training until validation scores don't improve for 200 rounds.\n",
            "[100]\tvalid_0's rmse: 11535.8\tvalid_0's l2: 1.33075e+08\n",
            "Did not meet early stopping. Best iteration is:\n",
            "[127]\tvalid_0's rmse: 11456.6\tvalid_0's l2: 1.31254e+08\n",
            "Training until validation scores don't improve for 200 rounds.\n",
            "[100]\tvalid_0's rmse: 11548.3\tvalid_0's l2: 1.33364e+08\n",
            "Did not meet early stopping. Best iteration is:\n",
            "[88]\tvalid_0's rmse: 11497\tvalid_0's l2: 1.32181e+08\n",
            "Training until validation scores don't improve for 200 rounds.\n",
            "[100]\tvalid_0's rmse: 13797.6\tvalid_0's l2: 1.90374e+08\n",
            "Did not meet early stopping. Best iteration is:\n",
            "[133]\tvalid_0's rmse: 13257.2\tvalid_0's l2: 1.75754e+08\n",
            "0.9697166951733752\n",
            "0.8680902622631178\n"
          ]
        }
      ]
    },
    {
      "cell_type": "markdown",
      "metadata": {
        "id": "rhpRIN9E4Ay8"
      },
      "source": [
        "GradientBoostingRegressor"
      ]
    },
    {
      "cell_type": "code",
      "metadata": {
        "colab": {
          "base_uri": "https://localhost:8080/"
        },
        "id": "3aNCOvQ4IY0H",
        "outputId": "769b7901-7e98-4d5f-a9d3-ed507a63d63a"
      },
      "source": [
        "gbm = GradientBoostingRegressor(random_state = 42)\n",
        "rmse_list = []\n",
        "gb_pred = np.zeros((X_train.shape[0]))\n",
        "for tr_idx, val_idx in kf.split(X_train, y_train) :\n",
        "    tr_x, tr_y = X_train.iloc[tr_idx], y_train.iloc[tr_idx]\n",
        "    val_x, val_y = X_train.iloc[val_idx], y_train.iloc[val_idx]\n",
        "    \n",
        "    gbm.fit(tr_x, tr_y)\n",
        "    \n",
        "    pred = np.expm1([0 if x < 0 else x for x in gbm.predict(val_x)])\n",
        "print(gbm.score(X_train, y_train)) # train R2 \n",
        "print(gbm.score(X_test, y_test)) # test R2"
      ],
      "execution_count": 224,
      "outputs": [
        {
          "output_type": "stream",
          "name": "stdout",
          "text": [
            "0.9574142386644379\n",
            "0.8699917245588187\n"
          ]
        }
      ]
    },
    {
      "cell_type": "markdown",
      "metadata": {
        "id": "9phjBZXR2sHE"
      },
      "source": [
        "Average of two best model."
      ]
    },
    {
      "cell_type": "markdown",
      "metadata": {
        "id": "Uc5VNl1e4Ew6"
      },
      "source": [
        "- LGBM: 0.8680902622631178\n",
        "- XGB: 0.8680902622631178\n",
        " "
      ]
    },
    {
      "cell_type": "code",
      "metadata": {
        "id": "dJY7uLxGIsew"
      },
      "source": [
        "LGBM_test = model.predict(test)\n",
        "XGB_tst = xgb.predict(test)\n",
        "result=(XGB_tst+ LGBM_test)/2\n"
      ],
      "execution_count": 225,
      "outputs": []
    },
    {
      "cell_type": "code",
      "metadata": {
        "id": "rYJEWrDDT1hT"
      },
      "source": [
        "sample_submission['number_of_rentals'] = result\n",
        "sample_submission.to_csv('bicycle_final.csv',encoding='UTF-8',index=False)"
      ],
      "execution_count": 226,
      "outputs": []
    },
    {
      "cell_type": "code",
      "metadata": {
        "id": "XYGPfdufdfvo"
      },
      "source": [
        ""
      ],
      "execution_count": 226,
      "outputs": []
    }
  ]
}